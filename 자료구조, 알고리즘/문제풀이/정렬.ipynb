{
 "cells": [
  {
   "cell_type": "markdown",
   "id": "2387cdf3",
   "metadata": {},
   "source": [
    "# 선택 정렬"
   ]
  },
  {
   "cell_type": "markdown",
   "id": "51fc2def",
   "metadata": {},
   "source": [
    "- 가장 작은 데이터를 선택해 맨 앞에 있는 데이터와 바꾸고, 그다음 작은 데이터를 선택해 앞에서 두 번째 데이터와 바꾸는 과정\n",
    "- 가장 원시적인 방법으로 매번 ‘가장 작은 것을 선택’한다는 의미에서 선택 정렬Selection Sort 알고리즘이라고 한다.\n",
    "- 시간 복잡도 : O(N^2)"
   ]
  },
  {
   "cell_type": "code",
   "execution_count": 2,
   "id": "521861f2",
   "metadata": {},
   "outputs": [
    {
     "name": "stdout",
     "output_type": "stream",
     "text": [
      "[0, 1, 2, 3, 4, 5, 6, 7, 8, 9]\n"
     ]
    }
   ],
   "source": [
    "array = [7, 5, 9, 0, 3, 1, 6, 2, 4, 8]\n",
    "for i in range(len(array)):\n",
    "    min_index = i # 가장 작은 원소의 인덱스\n",
    "    for j in range(i + 1, len(array)):\n",
    "        if array[min_index] > array[j]:\n",
    "            min_index = j\n",
    "    array[i], array[min_index] = array[min_index], array[i] # 스와프\n",
    "print(array)"
   ]
  },
  {
   "cell_type": "code",
   "execution_count": 3,
   "id": "19f1893d",
   "metadata": {},
   "outputs": [
    {
     "name": "stdout",
     "output_type": "stream",
     "text": [
      "[5, 3]\n"
     ]
    }
   ],
   "source": [
    "# 파이썬에서는 임시 변수를 안 만들고도 스와프 가능\n",
    "array = [3, 5]\n",
    "array[0], array[1] = array[1], array[0]\n",
    "print(array)"
   ]
  },
  {
   "cell_type": "code",
   "execution_count": null,
   "id": "992ef102",
   "metadata": {},
   "outputs": [],
   "source": [
    "22 ~ 26"
   ]
  },
  {
   "cell_type": "markdown",
   "id": "67045658",
   "metadata": {},
   "source": [
    "# Q.23 국영수\n",
    "\n",
    "1. 국어 점수가 감소하는 순서로\n",
    "2. 국어 점수가 같으면 영어 점수가 증가하는 순서로\n",
    "3. 국어 점수와 영어 점수가 같으면 수학 점수가 감소하는 순서로\n",
    "4. 모든 점수가 같으면 이름이 사전 순으로 증가하는 순서로 (단, 아스키코드에서 대문자는 소문자보다 작으므로 사전 순으로 앞에 옵니다.)"
   ]
  },
  {
   "cell_type": "code",
   "execution_count": 9,
   "id": "65c2f1c7",
   "metadata": {},
   "outputs": [],
   "source": [
    "def solution() -> str:\n",
    "    n = int(input())\n",
    "    scores = []\n",
    "    for _ in range(n):\n",
    "        scores.append(input().split(' '))\n",
    "    scores.sort(key = lambda x : (-int(x[1]), int(x[2]), -int(x[3]), x[0]))\n",
    "    for name in scores:\n",
    "        print(name[0])"
   ]
  },
  {
   "cell_type": "markdown",
   "id": "795720fc",
   "metadata": {},
   "source": [
    "# Q.24 안테나"
   ]
  },
  {
   "cell_type": "code",
   "execution_count": 12,
   "id": "97d30786",
   "metadata": {},
   "outputs": [],
   "source": [
    "def solution() -> int:\n",
    "    n = int(input())\n",
    "    houses = sorted(list(map(int, input().split())))\n",
    "    print(houses[(n-1)//2])"
   ]
  },
  {
   "cell_type": "code",
   "execution_count": 13,
   "id": "474da5db",
   "metadata": {},
   "outputs": [
    {
     "name": "stdout",
     "output_type": "stream",
     "text": [
      "4\n",
      "5 1 7 9\n",
      "5\n"
     ]
    }
   ],
   "source": [
    "solution()"
   ]
  },
  {
   "cell_type": "markdown",
   "id": "6c60aa25",
   "metadata": {},
   "source": [
    "# Q.25 실패율\n",
    "# Java로 풀었던 문제라 skip"
   ]
  },
  {
   "cell_type": "code",
   "execution_count": null,
   "id": "4be1325e",
   "metadata": {},
   "outputs": [],
   "source": [
    "import java.util.*;\n",
    "class Solution {\n",
    "    public int[] solution(int N, int[] stages) {\n",
    "        int[] played = new int[N];\n",
    "        int[] player = new int[N];\n",
    "        \n",
    "        for(int stage : stages){\n",
    "            if(stage == N+1){\n",
    "                for(int i=0; i<N; i++) played[i]++;\n",
    "            }else{\n",
    "                for(int j=0; j<stage; j++){\n",
    "                    played[j]++;\n",
    "                }\n",
    "                player[stage-1]++;\n",
    "            }\n",
    "        }\n",
    "        \n",
    "        TreeMap<Float, String> failMap = new TreeMap<>();\n",
    "        for(int i=0; i<N; i++){\n",
    "            if (played[i]==0){\n",
    "                String iar = (failMap.get(0.0f) == null) ?\n",
    "                               \",\" + String.valueOf(i+1) : \n",
    "                               failMap.get(0.0f) + \",\" + String.valueOf(i+1);\n",
    "                failMap.put(0.0f , iar);  \n",
    "            }else{\n",
    "                String iarr = (failMap.get((float)player[i] / played[i]) == null) ?  \n",
    "                    \",\" + String.valueOf(i+1) : \n",
    "                failMap.get((float)player[i] / played[i]) + \",\" + String.valueOf(i+1);\n",
    "                failMap.put((float)player[i] / played[i], iarr);\n",
    "            }\n",
    "        }\n",
    "        \n",
    "        ArrayList<String> valueList = new ArrayList<>(failMap.values());\n",
    "        String ans = \"\";\n",
    "        for(int i=valueList.size()-1; i>=0; i--){\n",
    "            ans += valueList.get(i);\n",
    "        }\n",
    "        \n",
    "        int[] answer = new int[N];\n",
    "        int i = 0;\n",
    "        for(String str : ans.substring(1).split(\",\")){\n",
    "            answer[i] = Integer.parseInt(str);\n",
    "            i++;\n",
    "        }\n",
    "        \n",
    "        return answer;\n",
    "    }\n",
    "}"
   ]
  },
  {
   "cell_type": "markdown",
   "id": "8aba4a93",
   "metadata": {},
   "source": [
    "# Q.26 카드 정렬하기"
   ]
  },
  {
   "cell_type": "code",
   "execution_count": 31,
   "id": "e02fce66",
   "metadata": {},
   "outputs": [],
   "source": [
    "from heapq import *\n",
    "def solution():\n",
    "    n = int(input())\n",
    "    if n == 1:\n",
    "        print(0)\n",
    "    num_list = []\n",
    "    for _ in range(n):\n",
    "        heapq.heappush(num_list, int(input()))\n",
    "    \n",
    "    sum_list = []\n",
    "    while len(num_list) > 1:\n",
    "        tmp_sum = heappop(num_list) + heappop(num_list)\n",
    "        heappush(num_list, tmp_sum)\n",
    "        sum_list.append(tmp_sum)\n",
    "    print(sum(sum_list))"
   ]
  },
  {
   "cell_type": "code",
   "execution_count": 32,
   "id": "e6fec064",
   "metadata": {},
   "outputs": [
    {
     "name": "stdout",
     "output_type": "stream",
     "text": [
      "3\n",
      "10\n",
      "20\n",
      "40\n",
      "100\n"
     ]
    }
   ],
   "source": [
    "solution()"
   ]
  },
  {
   "cell_type": "code",
   "execution_count": 30,
   "id": "9c02cce0",
   "metadata": {
    "scrolled": true
   },
   "outputs": [
    {
     "name": "stdout",
     "output_type": "stream",
     "text": [
      "4\n",
      "10\n",
      "10\n",
      "10\n",
      "10\n",
      "80\n"
     ]
    }
   ],
   "source": [
    "solution()"
   ]
  },
  {
   "cell_type": "code",
   "execution_count": 33,
   "id": "45adfac3",
   "metadata": {},
   "outputs": [
    {
     "name": "stdout",
     "output_type": "stream",
     "text": [
      "4\n",
      "20\n",
      "30\n",
      "40\n",
      "45\n",
      "270\n"
     ]
    }
   ],
   "source": [
    "solution()"
   ]
  }
 ],
 "metadata": {
  "kernelspec": {
   "display_name": "Python 3 (ipykernel)",
   "language": "python",
   "name": "python3"
  },
  "language_info": {
   "codemirror_mode": {
    "name": "ipython",
    "version": 3
   },
   "file_extension": ".py",
   "mimetype": "text/x-python",
   "name": "python",
   "nbconvert_exporter": "python",
   "pygments_lexer": "ipython3",
   "version": "3.11.1"
  }
 },
 "nbformat": 4,
 "nbformat_minor": 5
}
