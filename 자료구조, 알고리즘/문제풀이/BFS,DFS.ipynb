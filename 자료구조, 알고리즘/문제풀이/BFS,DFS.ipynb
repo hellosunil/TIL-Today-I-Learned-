{
 "cells": [
  {
   "cell_type": "markdown",
   "id": "99460efe",
   "metadata": {},
   "source": [
    "# DFS\n",
    "\n",
    "- Depth-First Search, 즉 깊이 우선 탐색 알고리즘이며 그래프를 탐색하는 알고리즘입니다. DFS는 최대한 멀리 있는 노드를 우선으로 탐색하는 방식으로 동작하며 스택 자료구조를 이용합니다.\n",
    "\n",
    "# BFS\n",
    "- ‘너비 우선 탐색’이라는 의미입니다. 쉽게 말해 가까운 노드부터 탐색하는 알고리즘입니다. BFS는 선입선출 방식의 큐를 이용하면 효과적으로 구현할 수 있습니다. 인접한 노드를 반복적으로 큐에 넣도록 알고리즘을 작성하면, 자연스럽게 먼저 들어 온 것이 먼저 나가게 되어, 가까운 노드부터 탐색합니다. "
   ]
  },
  {
   "cell_type": "code",
   "execution_count": 1,
   "id": "ee8a0986",
   "metadata": {},
   "outputs": [
    {
     "name": "stdout",
     "output_type": "stream",
     "text": [
      "1 2 7 6 8 3 4 5 "
     ]
    }
   ],
   "source": [
    "# Stack으로 구현해도 됨\n",
    "def dfs(graph, v, visited):\n",
    "    # 현재 노드를 방문 처리\n",
    "    visited[v] = True\n",
    "    print(v, end = ' ')\n",
    "    # 현재 노드와 연결된 다른 노드를 재귀적으로 방문\n",
    "    for node in graph[v]:\n",
    "        if not visited[node]:\n",
    "            dfs(graph, node, visited)\n",
    "            \n",
    "graph = [\n",
    " [],\n",
    " [2, 3, 8],\n",
    " [1, 7],\n",
    " [1, 4, 5],\n",
    " [3, 5],\n",
    " [3, 4],\n",
    " [7],\n",
    " [2, 6, 8],\n",
    " [1, 7]\n",
    "]\n",
    "\n",
    "visited = [0] * 9\n",
    "\n",
    "dfs(graph, 1, visited)"
   ]
  },
  {
   "cell_type": "code",
   "execution_count": 3,
   "id": "5f189b5b",
   "metadata": {},
   "outputs": [
    {
     "name": "stdout",
     "output_type": "stream",
     "text": [
      "1 2 3 8 7 4 5 6 "
     ]
    }
   ],
   "source": [
    "from collections import deque\n",
    "\n",
    "def bfs(graph, start, visited):\n",
    "    # queue\n",
    "    q = deque([start])\n",
    "    # 현재 노드를 방문 처리\n",
    "    visited[start] = 1\n",
    "    \n",
    "    # 큐가 없을 때까지 반복\n",
    "    while q:\n",
    "        \n",
    "        # 큐에서 하나의 원소를 뽑아 출력\n",
    "        v = q.popleft()\n",
    "        print(v, end=' ')\n",
    "        \n",
    "        # 해당 원소와 연결된, 아직 방문하지 않은 원소들을 큐에 삽입\n",
    "        for node in graph[v]:\n",
    "            if not visited[node]:\n",
    "                q.append(node)\n",
    "                visited[node] = True\n",
    "graph = [\n",
    " [],\n",
    " [2, 3, 8],\n",
    " [1, 7],\n",
    " [1, 4, 5],\n",
    " [3, 5],\n",
    " [3, 4],\n",
    " [7],\n",
    " [2, 6, 8],\n",
    " [1, 7]\n",
    "]\n",
    "\n",
    "visited = [0] * 9\n",
    "\n",
    "bfs(graph, 1, visited)"
   ]
  },
  {
   "cell_type": "markdown",
   "id": "ee898e78",
   "metadata": {},
   "source": [
    "## Q 15 특정 거리의 도시 찾기"
   ]
  },
  {
   "cell_type": "markdown",
   "id": "fd56cf09",
   "metadata": {},
   "source": [
    "어떤 나라에는 1 ~ N번까지의 도시와 M개의 단방향 도로가 존재합니다. 모든 도로의 거리는 1입\n",
    "니다. 이때 특정한 도시 X로부터 출발하여 도달할 수 있는 모든 도시 중에서, 최단 거리가 정확히 K\n",
    "인 모든 도시의 번호를 출력하는 프로그램을 작성하세요. 또한 출발 도시 X에서 출발 도시 X로 가\n",
    "는 최단 거리는 항상 0이라고 가정합니다.\n",
    "예를 들어 N = 4, K = 2, X = 1일 때 다음과 같이 그래프가 구성되어 \n",
    "있다고 합시다. 이때 1번 도시에서 출발하여 도달할 수 있는 도시 중에\n",
    "서, 최단 거리가 2인 도시는 4번 도시뿐입니다. 2번과 3번 도시의 경우, \n",
    "최단 거리가 1이기 때문에 출력하지 않습니다"
   ]
  },
  {
   "cell_type": "markdown",
   "id": "725c4778",
   "metadata": {},
   "source": [
    "- 첫째 줄에 도시의 개수 N, 도로의 개수 M, 거리 정보 K, 출발 도시의 번호 X가 주어집니다. (2 ≤ N ≤ 300,000, 1 ≤ M ≤ 1,000,000,1 ≤ K ≤ 300,000, 1 ≤ X ≤N)\n",
    "- 둘째 줄부터 M개의 줄에 걸쳐서 두 개의 자연수 A, B가 주어지며, 각 자연수는 공백으로 구분합니다. 이는 A번 도시에서 B번 도시로 이동하는 단방향 도로가 존재한다는 의미입니다. (1 ≤ A, B ≤ N) 단, A와 B는 서로 다른 자연수입니다."
   ]
  },
  {
   "cell_type": "markdown",
   "id": "33152e5f",
   "metadata": {},
   "source": [
    "- X로부터 출발하여 도달할 수 있는 도시 중에서, 최단 거리가 K인 모든 도시의 번호를 한 줄에 하나씩 오름차순으로 출력합니다.\n",
    "- 이때 도달할 수 있는 도시 중에서, 최단 거리가 K인 도시가 하나도 존재하지 않으면 -1을 출력합니다."
   ]
  },
  {
   "cell_type": "code",
   "execution_count": 57,
   "id": "cb97d737",
   "metadata": {},
   "outputs": [],
   "source": [
    "from collections import defaultdict, deque\n",
    "def solution() -> int:\n",
    "    \n",
    "    n, m, k, x = map(int, input().split())\n",
    "    distances = [-1] * (n+1)\n",
    "    graph = defaultdict(list)\n",
    "    \n",
    "    for i in range(m):\n",
    "        start, end = (map(int, input().split()))\n",
    "        graph[start].append(end)\n",
    "\n",
    "    result = sorted(bfs(graph, x, distances))\n",
    "    ck = 1 \n",
    "    for i in range(n+1): \n",
    "        if result[i] == k:\n",
    "            print(i)\n",
    "            ck = 0\n",
    "    if ck:\n",
    "        print(-1)\n",
    "def bfs(graph, start, distances) -> int:\n",
    "    distances[start] = 0\n",
    "    q = deque([start]) # x = start, 출발 도시\n",
    "    \n",
    "    distance = 1\n",
    "    while q:\n",
    "        x = q.popleft()\n",
    "        if graph[x]:\n",
    "            for node in graph[x]:\n",
    "                distance = distances[x]\n",
    "                # 방문하지 않았으면\n",
    "                if distances[node] == -1:\n",
    "                    # 거리를 갱신\n",
    "                    distances[node] = distance + 1\n",
    "                    q.append(node)\n",
    "                \n",
    "    return distances"
   ]
  },
  {
   "cell_type": "code",
   "execution_count": 56,
   "id": "28d60b69",
   "metadata": {},
   "outputs": [
    {
     "name": "stdout",
     "output_type": "stream",
     "text": [
      "4 4 2 1\n",
      "1 2\n",
      "1 3\n",
      "2 3\n",
      "2 4\n",
      "4\n"
     ]
    }
   ],
   "source": [
    "solution()"
   ]
  },
  {
   "cell_type": "code",
   "execution_count": 58,
   "id": "80150495",
   "metadata": {},
   "outputs": [
    {
     "name": "stdout",
     "output_type": "stream",
     "text": [
      "4 3 2 1\n",
      "1 2\n",
      "1 3\n",
      "1 4\n",
      "-1\n"
     ]
    }
   ],
   "source": [
    "solution()"
   ]
  },
  {
   "cell_type": "code",
   "execution_count": 54,
   "id": "81ad0465",
   "metadata": {},
   "outputs": [
    {
     "name": "stdout",
     "output_type": "stream",
     "text": [
      "4 4 1 1\n",
      "1 2\n",
      "1 3\n",
      "2 3\n",
      "2 4\n",
      "2\n",
      "3\n"
     ]
    }
   ],
   "source": [
    "solution()"
   ]
  },
  {
   "cell_type": "markdown",
   "id": "840c1cbe",
   "metadata": {},
   "source": [
    "# Q 16 연구소\n",
    "- 연구소의 지도가 주어졌을 때 얻을 수 있는 안전 영역 크기의 최댓값을 구하는 프로그램을 작성하세요.\n",
    "\n",
    "- 입력 조건\n",
    "- 첫째 줄에 지도의 세로 크기 N과 가로 크기 M이 주어집니다. (3 ≤ N, M ≤ 8)\n",
    "- 둘째 줄부터 N개의 줄에 지도의 모양이 주어집니다. 0은 빈칸, 1은 벽, 2는 바이러스가 있는 위치입니다. 2의 개수는 2보다 크거나 같고, 10보다 작거나 같은 자연수입니다.\n",
    "- 빈칸의 개수는 3개 이상입니다.\n",
    "- 출력 조건\n",
    "- 첫째 줄에 얻을 수 있는 안전 영역의 최대 크기를 출력합니다."
   ]
  },
  {
   "cell_type": "code",
   "execution_count": 191,
   "id": "25d5b70e",
   "metadata": {},
   "outputs": [],
   "source": [
    "from itertools import combinations\n",
    "import copy\n",
    "def solution() -> int:\n",
    "    n, m = map(int, input().split())\n",
    "    orig_map = []\n",
    "    max_safe_zone = -1\n",
    "    # map 생성\n",
    "    for _ in range(n):\n",
    "        orig_map.append(list(map(int, input().split())))\n",
    "\n",
    "    wall_list = [[i, j] for i in range(m) for j in range(n)]\n",
    "\n",
    "    # tuple로 이루어진 벽 3개 list(포인트) 가져오기\n",
    "    walls = list(combinations(wall_list, 3))\n",
    "\n",
    "    for wall in walls:\n",
    "        global tmp_map, visited\n",
    "        tmp_map = copy.deepcopy(orig_map)\n",
    "        visited = [[0] * m for _ in range(n)]\n",
    "        # 벽 세우기\n",
    "        ck = 0\n",
    "        for i in wall:\n",
    "            if tmp_map[i[1]][i[0]] == 0:\n",
    "                tmp_map[i[1]][i[0]] = 1\n",
    "            else:\n",
    "                ck = 1\n",
    "                break\n",
    "                \n",
    "        # dfs로 바이러스 채워 넣기\n",
    "        for i in range(len(tmp_map)):\n",
    "            for j in range(len(tmp_map[0])): \n",
    "                if visited[i][j] == 0 and tmp_map[i][j] == 2:\n",
    "                    dfs(tmp_map, visited, j, i)\n",
    "        count_safe_zone = sum(tmp_map, []).count(0)\n",
    "        \n",
    "        # 안전영역 최대크기 업데이트\n",
    "        if count_safe_zone > max_safe_zone:\n",
    "            max_safe_zone = count_safe_zone\n",
    "            \n",
    "    return max_safe_zone\n",
    "    \n",
    "    \n",
    "def dfs(tmp_map, visited, x, y):\n",
    "    #if x < 0 or y < 0 or y > len(tmp_map)-1 or x > len(tmp_map[0])-1:\n",
    "    #    return\n",
    "    if visited[y][x] == 1:\n",
    "        return\n",
    "    \n",
    "    dx, dy = [0, 1, 0, -1], [1, 0, -1, 0]\n",
    "    visited[y][x] = 1\n",
    "    for i in range(4):\n",
    "        if x+dx[i] >= 0 and y+dy[i] >= 0 and y+dy[i] <= len(tmp_map)-1 and x+dx[i] <= len(tmp_map[0])-1:\n",
    "            if tmp_map[y+dy[i]][x+dx[i]] == 0:\n",
    "                tmp_map[y+dy[i]][x+dx[i]] = 2\n",
    "                dfs(tmp_map, visited, x+dx[i], y+dy[i])"
   ]
  },
  {
   "cell_type": "code",
   "execution_count": 193,
   "id": "2faa83a8",
   "metadata": {},
   "outputs": [
    {
     "name": "stdout",
     "output_type": "stream",
     "text": [
      "7 7\n",
      "2 0 0 0 1 1 0\n",
      "0 0 1 0 1 2 0\n",
      "0 1 1 0 1 0 0\n",
      "0 1 0 0 0 0 0\n",
      "0 0 0 0 0 1 1\n",
      "0 1 0 0 0 0 0\n",
      "0 1 0 0 0 0 0\n"
     ]
    },
    {
     "data": {
      "text/plain": [
       "27"
      ]
     },
     "execution_count": 193,
     "metadata": {},
     "output_type": "execute_result"
    }
   ],
   "source": [
    "solution()"
   ]
  },
  {
   "cell_type": "code",
   "execution_count": 192,
   "id": "01eb35b6",
   "metadata": {
    "scrolled": true
   },
   "outputs": [
    {
     "name": "stdout",
     "output_type": "stream",
     "text": [
      "4 6\n",
      "0 0 0 0 0 0\n",
      "1 0 0 0 0 2\n",
      "1 1 1 0 0 2\n",
      "0 0 0 0 0 2\n"
     ]
    },
    {
     "data": {
      "text/plain": [
       "9"
      ]
     },
     "execution_count": 192,
     "metadata": {},
     "output_type": "execute_result"
    }
   ],
   "source": [
    "solution()"
   ]
  },
  {
   "cell_type": "code",
   "execution_count": 194,
   "id": "1146b57e",
   "metadata": {},
   "outputs": [
    {
     "name": "stdout",
     "output_type": "stream",
     "text": [
      "8 8\n",
      "2 0 0 0 0 0 0 2\n",
      "2 0 0 0 0 0 0 2\n",
      "2 0 0 0 0 0 0 2\n",
      "2 0 0 0 0 0 0 2\n",
      "2 0 0 0 0 0 0 2\n",
      "0 0 0 0 0 0 0 0\n",
      "0 0 0 0 0 0 0 0\n",
      "0 0 0 0 0 0 0 0\n"
     ]
    },
    {
     "data": {
      "text/plain": [
       "3"
      ]
     },
     "execution_count": 194,
     "metadata": {},
     "output_type": "execute_result"
    }
   ],
   "source": [
    "solution()"
   ]
  },
  {
   "cell_type": "code",
   "execution_count": null,
   "id": "b4d0699f",
   "metadata": {},
   "outputs": [],
   "source": []
  }
 ],
 "metadata": {
  "kernelspec": {
   "display_name": "Python 3 (ipykernel)",
   "language": "python",
   "name": "python3"
  },
  "language_info": {
   "codemirror_mode": {
    "name": "ipython",
    "version": 3
   },
   "file_extension": ".py",
   "mimetype": "text/x-python",
   "name": "python",
   "nbconvert_exporter": "python",
   "pygments_lexer": "ipython3",
   "version": "3.11.1"
  }
 },
 "nbformat": 4,
 "nbformat_minor": 5
}
