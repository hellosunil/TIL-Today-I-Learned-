{
 "cells": [
  {
   "cell_type": "markdown",
   "id": "99460efe",
   "metadata": {},
   "source": [
    "# DFS\n",
    "\n",
    "- Depth-First Search, 즉 깊이 우선 탐색 알고리즘이며 그래프를 탐색하는 알고리즘입니다. DFS는 최대한 멀리 있는 노드를 우선으로 탐색하는 방식으로 동작하며 스택 자료구조를 이용합니다.\n",
    "\n",
    "# BFS\n",
    "- ‘너비 우선 탐색’이라는 의미입니다. 쉽게 말해 가까운 노드부터 탐색하는 알고리즘입니다. BFS는 선입선출 방식의 큐를 이용하면 효과적으로 구현할 수 있습니다. 인접한 노드를 반복적으로 큐에 넣도록 알고리즘을 작성하면, 자연스럽게 먼저 들어 온 것이 먼저 나가게 되어, 가까운 노드부터 탐색합니다. "
   ]
  },
  {
   "cell_type": "markdown",
   "id": "ee898e78",
   "metadata": {},
   "source": [
    "## Q 15 특정 거리의 도시 찾기"
   ]
  },
  {
   "cell_type": "markdown",
   "id": "fd56cf09",
   "metadata": {},
   "source": [
    "어떤 나라에는 1 ~ N번까지의 도시와 M개의 단방향 도로가 존재합니다. 모든 도로의 거리는 1입\n",
    "니다. 이때 특정한 도시 X로부터 출발하여 도달할 수 있는 모든 도시 중에서, 최단 거리가 정확히 K\n",
    "인 모든 도시의 번호를 출력하는 프로그램을 작성하세요. 또한 출발 도시 X에서 출발 도시 X로 가\n",
    "는 최단 거리는 항상 0이라고 가정합니다.\n",
    "예를 들어 N = 4, K = 2, X = 1일 때 다음과 같이 그래프가 구성되어 \n",
    "있다고 합시다. 이때 1번 도시에서 출발하여 도달할 수 있는 도시 중에\n",
    "서, 최단 거리가 2인 도시는 4번 도시뿐입니다. 2번과 3번 도시의 경우, \n",
    "최단 거리가 1이기 때문에 출력하지 않습니다"
   ]
  },
  {
   "cell_type": "markdown",
   "id": "725c4778",
   "metadata": {},
   "source": [
    "- 첫째 줄에 도시의 개수 N, 도로의 개수 M, 거리 정보 K, 출발 도시의 번호 X가 주어집니다. (2 ≤ N ≤ 300,000, 1 ≤ M ≤ 1,000,000,1 ≤ K ≤ 300,000, 1 ≤ X ≤N)\n",
    "- 둘째 줄부터 M개의 줄에 걸쳐서 두 개의 자연수 A, B가 주어지며, 각 자연수는 공백으로 구분합니다. 이는 A번 도시에서 B번 도시로 이동하는 단방향 도로가 존재한다는 의미입니다. (1 ≤ A, B ≤ N) 단, A와 B는 서로 다른 자연수입니다."
   ]
  },
  {
   "cell_type": "markdown",
   "id": "33152e5f",
   "metadata": {},
   "source": [
    "- X로부터 출발하여 도달할 수 있는 도시 중에서, 최단 거리가 K인 모든 도시의 번호를 한 줄에 하나씩 오름차순으로 출력합니다.\n",
    "- 이때 도달할 수 있는 도시 중에서, 최단 거리가 K인 도시가 하나도 존재하지 않으면 -1을 출력합니다."
   ]
  },
  {
   "cell_type": "code",
   "execution_count": 51,
   "id": "80e8b067",
   "metadata": {},
   "outputs": [],
   "source": [
    "from collections import deque\n",
    "def solution() -> int:\n",
    "    n, m, k, x = map(int, input().split())\n",
    "    roads = [[] for _ in range(n+1)]\n",
    "    for i in range(m):\n",
    "        s, e = map(int, input().split())\n",
    "        roads[s].append(e)\n",
    "    \n",
    "    # 간선, 출발 노드 것만 확인하면 됨\n",
    "    # 엣지가 무조건 1이기때문에 bfs로 처리가 가능함\n",
    "    edges = [-1] * (n+1)\n",
    "    # 자기 자신 것 초기화\n",
    "    edges[x] = 0\n",
    "    \n",
    "    q = deque([x])\n",
    "    while q:\n",
    "        now = q.popleft()\n",
    "        for next_node in roads[now]:\n",
    "            if edges[next_node] == -1:\n",
    "                edges[next_node] = edges[now] +1 ## 거리를 저장하며 큐로 처리\n",
    "                q.append(next_node)\n",
    "                \n",
    "    check = False\n",
    "    for i in range(1, n+1):\n",
    "        if edges[i] == k:\n",
    "            print(i)\n",
    "            check = True\n",
    "    \n",
    "    if check == False:\n",
    "        print(-1)"
   ]
  },
  {
   "cell_type": "code",
   "execution_count": 52,
   "id": "cceccd84",
   "metadata": {},
   "outputs": [
    {
     "name": "stdout",
     "output_type": "stream",
     "text": [
      "4 4 2 1\n",
      "1 2\n",
      "1 3\n",
      "2 3\n",
      "2 4\n",
      "4\n"
     ]
    }
   ],
   "source": [
    "solution()"
   ]
  },
  {
   "cell_type": "code",
   "execution_count": 36,
   "id": "7493bb04",
   "metadata": {},
   "outputs": [
    {
     "name": "stdout",
     "output_type": "stream",
     "text": [
      "4 3 2 1\n",
      "1 2\n",
      "1 3\n",
      "1 4\n",
      "-1\n"
     ]
    }
   ],
   "source": [
    "solution()"
   ]
  },
  {
   "cell_type": "code",
   "execution_count": 37,
   "id": "464a619e",
   "metadata": {},
   "outputs": [
    {
     "name": "stdout",
     "output_type": "stream",
     "text": [
      "4 4 1 1\n",
      "1 2\n",
      "1 3\n",
      "2 3\n",
      "2 4\n",
      "2\n",
      "3\n"
     ]
    }
   ],
   "source": [
    "solution()"
   ]
  },
  {
   "cell_type": "code",
   "execution_count": 53,
   "id": "60c8f5dc",
   "metadata": {},
   "outputs": [
    {
     "name": "stdout",
     "output_type": "stream",
     "text": [
      "5 4 2 1\n",
      "1 2\n",
      "1 3\n",
      "2 4\n",
      "3 5\n",
      "4\n",
      "5\n"
     ]
    }
   ],
   "source": [
    "solution()"
   ]
  },
  {
   "cell_type": "code",
   "execution_count": null,
   "id": "cb97d737",
   "metadata": {},
   "outputs": [],
   "source": []
  }
 ],
 "metadata": {
  "kernelspec": {
   "display_name": "Python 3 (ipykernel)",
   "language": "python",
   "name": "python3"
  },
  "language_info": {
   "codemirror_mode": {
    "name": "ipython",
    "version": 3
   },
   "file_extension": ".py",
   "mimetype": "text/x-python",
   "name": "python",
   "nbconvert_exporter": "python",
   "pygments_lexer": "ipython3",
   "version": "3.11.1"
  }
 },
 "nbformat": 4,
 "nbformat_minor": 5
}
