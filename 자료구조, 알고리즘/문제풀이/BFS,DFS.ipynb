{
 "cells": [
  {
   "cell_type": "markdown",
   "id": "99460efe",
   "metadata": {},
   "source": [
    "# DFS\n",
    "\n",
    "- Depth-First Search, 즉 깊이 우선 탐색 알고리즘이며 그래프를 탐색하는 알고리즘입니다. DFS는 최대한 멀리 있는 노드를 우선으로 탐색하는 방식으로 동작하며 스택 자료구조를 이용합니다.\n",
    "\n",
    "# BFS\n",
    "- ‘너비 우선 탐색’이라는 의미입니다. 쉽게 말해 가까운 노드부터 탐색하는 알고리즘입니다. BFS는 선입선출 방식의 큐를 이용하면 효과적으로 구현할 수 있습니다. 인접한 노드를 반복적으로 큐에 넣도록 알고리즘을 작성하면, 자연스럽게 먼저 들어 온 것이 먼저 나가게 되어, 가까운 노드부터 탐색합니다. "
   ]
  },
  {
   "cell_type": "code",
   "execution_count": 1,
   "id": "28f52858",
   "metadata": {},
   "outputs": [
    {
     "name": "stdout",
     "output_type": "stream",
     "text": [
      "1 2 7 6 8 3 4 5 "
     ]
    }
   ],
   "source": [
    "# Stack으로 구현해도 됨\n",
    "def dfs(graph, v, visited):\n",
    "    # 현재 노드를 방문 처리\n",
    "    visited[v] = True\n",
    "    print(v, end = ' ')\n",
    "    # 현재 노드와 연결된 다른 노드를 재귀적으로 방문\n",
    "    for node in graph[v]:\n",
    "        if not visited[node]:\n",
    "            dfs(graph, node, visited)\n",
    "            \n",
    "graph = [\n",
    " [],\n",
    " [2, 3, 8],\n",
    " [1, 7],\n",
    " [1, 4, 5],\n",
    " [3, 5],\n",
    " [3, 4],\n",
    " [7],\n",
    " [2, 6, 8],\n",
    " [1, 7]\n",
    "]\n",
    "\n",
    "visited = [0] * 9\n",
    "\n",
    "dfs(graph, 1, visited)"
   ]
  },
  {
   "cell_type": "code",
   "execution_count": 3,
   "id": "6c65d598",
   "metadata": {},
   "outputs": [
    {
     "name": "stdout",
     "output_type": "stream",
     "text": [
      "1 2 3 8 7 4 5 6 "
     ]
    }
   ],
   "source": [
    "from collections import deque\n",
    "\n",
    "def bfs(graph, start, visited):\n",
    "    # queue\n",
    "    q = deque([start])\n",
    "    # 현재 노드를 방문 처리\n",
    "    visited[start] = 1\n",
    "    \n",
    "    # 큐가 없을 때까지 반복\n",
    "    while q:\n",
    "        \n",
    "        # 큐에서 하나의 원소를 뽑아 출력\n",
    "        v = q.popleft()\n",
    "        print(v, end=' ')\n",
    "        \n",
    "        # 해당 원소와 연결된, 아직 방문하지 않은 원소들을 큐에 삽입\n",
    "        for node in graph[v]:\n",
    "            if not visited[node]:\n",
    "                q.append(node)\n",
    "                visited[node] = True\n",
    "graph = [\n",
    " [],\n",
    " [2, 3, 8],\n",
    " [1, 7],\n",
    " [1, 4, 5],\n",
    " [3, 5],\n",
    " [3, 4],\n",
    " [7],\n",
    " [2, 6, 8],\n",
    " [1, 7]\n",
    "]\n",
    "\n",
    "visited = [0] * 9\n",
    "\n",
    "bfs(graph, 1, visited)"
   ]
  },
  {
   "cell_type": "markdown",
   "id": "ee898e78",
   "metadata": {},
   "source": [
    "## Q 15 특정 거리의 도시 찾기"
   ]
  },
  {
   "cell_type": "markdown",
   "id": "fd56cf09",
   "metadata": {},
   "source": [
    "어떤 나라에는 1 ~ N번까지의 도시와 M개의 단방향 도로가 존재합니다. 모든 도로의 거리는 1입\n",
    "니다. 이때 특정한 도시 X로부터 출발하여 도달할 수 있는 모든 도시 중에서, 최단 거리가 정확히 K\n",
    "인 모든 도시의 번호를 출력하는 프로그램을 작성하세요. 또한 출발 도시 X에서 출발 도시 X로 가\n",
    "는 최단 거리는 항상 0이라고 가정합니다.\n",
    "예를 들어 N = 4, K = 2, X = 1일 때 다음과 같이 그래프가 구성되어 \n",
    "있다고 합시다. 이때 1번 도시에서 출발하여 도달할 수 있는 도시 중에\n",
    "서, 최단 거리가 2인 도시는 4번 도시뿐입니다. 2번과 3번 도시의 경우, \n",
    "최단 거리가 1이기 때문에 출력하지 않습니다"
   ]
  },
  {
   "cell_type": "markdown",
   "id": "725c4778",
   "metadata": {},
   "source": [
    "- 첫째 줄에 도시의 개수 N, 도로의 개수 M, 거리 정보 K, 출발 도시의 번호 X가 주어집니다. (2 ≤ N ≤ 300,000, 1 ≤ M ≤ 1,000,000,1 ≤ K ≤ 300,000, 1 ≤ X ≤N)\n",
    "- 둘째 줄부터 M개의 줄에 걸쳐서 두 개의 자연수 A, B가 주어지며, 각 자연수는 공백으로 구분합니다. 이는 A번 도시에서 B번 도시로 이동하는 단방향 도로가 존재한다는 의미입니다. (1 ≤ A, B ≤ N) 단, A와 B는 서로 다른 자연수입니다."
   ]
  },
  {
   "cell_type": "markdown",
   "id": "33152e5f",
   "metadata": {},
   "source": [
    "- X로부터 출발하여 도달할 수 있는 도시 중에서, 최단 거리가 K인 모든 도시의 번호를 한 줄에 하나씩 오름차순으로 출력합니다.\n",
    "- 이때 도달할 수 있는 도시 중에서, 최단 거리가 K인 도시가 하나도 존재하지 않으면 -1을 출력합니다."
   ]
  },
  {
   "cell_type": "code",
   "execution_count": 57,
   "id": "cb97d737",
   "metadata": {},
   "outputs": [],
   "source": [
    "from collections import defaultdict, deque\n",
    "def solution() -> int:\n",
    "    \n",
    "    n, m, k, x = map(int, input().split())\n",
    "    distances = [-1] * (n+1)\n",
    "    graph = defaultdict(list)\n",
    "    \n",
    "    for i in range(m):\n",
    "        start, end = (map(int, input().split()))\n",
    "        graph[start].append(end)\n",
    "\n",
    "    result = sorted(bfs(graph, x, distances))\n",
    "    ck = 1 \n",
    "    for i in range(n+1): \n",
    "        if result[i] == k:\n",
    "            print(i)\n",
    "            ck = 0\n",
    "    if ck:\n",
    "        print(-1)\n",
    "def bfs(graph, start, distances) -> int:\n",
    "    distances[start] = 0\n",
    "    q = deque([start]) # x = start, 출발 도시\n",
    "    \n",
    "    distance = 1\n",
    "    while q:\n",
    "        x = q.popleft()\n",
    "        if graph[x]:\n",
    "            for node in graph[x]:\n",
    "                distance = distances[x]\n",
    "                # 방문하지 않았으면\n",
    "                if distances[node] == -1:\n",
    "                    # 거리를 갱신\n",
    "                    distances[node] = distance + 1\n",
    "                    q.append(node)\n",
    "                \n",
    "    return distances"
   ]
  },
  {
   "cell_type": "code",
   "execution_count": 56,
   "id": "1ba928a8",
   "metadata": {},
   "outputs": [
    {
     "name": "stdout",
     "output_type": "stream",
     "text": [
      "4 4 2 1\n",
      "1 2\n",
      "1 3\n",
      "2 3\n",
      "2 4\n",
      "4\n"
     ]
    }
   ],
   "source": [
    "solution()"
   ]
  },
  {
   "cell_type": "code",
   "execution_count": 58,
   "id": "cbd77b83",
   "metadata": {},
   "outputs": [
    {
     "name": "stdout",
     "output_type": "stream",
     "text": [
      "4 3 2 1\n",
      "1 2\n",
      "1 3\n",
      "1 4\n",
      "-1\n"
     ]
    }
   ],
   "source": [
    "solution()"
   ]
  },
  {
   "cell_type": "code",
   "execution_count": 54,
   "id": "8bbe5f82",
   "metadata": {},
   "outputs": [
    {
     "name": "stdout",
     "output_type": "stream",
     "text": [
      "4 4 1 1\n",
      "1 2\n",
      "1 3\n",
      "2 3\n",
      "2 4\n",
      "2\n",
      "3\n"
     ]
    }
   ],
   "source": [
    "solution()"
   ]
  },
  {
   "cell_type": "markdown",
   "id": "9366545f",
   "metadata": {},
   "source": [
    "# Q 16 연구소\n",
    "- 연구소의 지도가 주어졌을 때 얻을 수 있는 안전 영역 크기의 최댓값을 구하는 프로그램을 작성하세요.\n",
    "\n",
    "- 입력 조건\n",
    "- 첫째 줄에 지도의 세로 크기 N과 가로 크기 M이 주어집니다. (3 ≤ N, M ≤ 8)\n",
    "- 둘째 줄부터 N개의 줄에 지도의 모양이 주어집니다. 0은 빈칸, 1은 벽, 2는 바이러스가 있는 위치입니다. 2의 개수는 2보다 크거나 같고, 10보다 작거나 같은 자연수입니다.\n",
    "- 빈칸의 개수는 3개 이상입니다.\n",
    "- 출력 조건\n",
    "- 첫째 줄에 얻을 수 있는 안전 영역의 최대 크기를 출력합니다."
   ]
  },
  {
   "cell_type": "code",
   "execution_count": 191,
   "id": "d2c4416d",
   "metadata": {},
   "outputs": [],
   "source": [
    "from itertools import combinations\n",
    "import copy\n",
    "def solution() -> int:\n",
    "    n, m = map(int, input().split())\n",
    "    orig_map = []\n",
    "    max_safe_zone = -1\n",
    "    # map 생성\n",
    "    for _ in range(n):\n",
    "        orig_map.append(list(map(int, input().split())))\n",
    "\n",
    "    wall_list = [[i, j] for i in range(m) for j in range(n)]\n",
    "\n",
    "    # tuple로 이루어진 벽 3개 list(포인트) 가져오기\n",
    "    walls = list(combinations(wall_list, 3))\n",
    "\n",
    "    for wall in walls:\n",
    "        global tmp_map, visited\n",
    "        tmp_map = copy.deepcopy(orig_map)\n",
    "        visited = [[0] * m for _ in range(n)]\n",
    "        # 벽 세우기\n",
    "        ck = 0\n",
    "        for i in wall:\n",
    "            if tmp_map[i[1]][i[0]] == 0:\n",
    "                tmp_map[i[1]][i[0]] = 1\n",
    "            else:\n",
    "                ck = 1\n",
    "                break\n",
    "                \n",
    "        # dfs로 바이러스 채워 넣기\n",
    "        for i in range(len(tmp_map)):\n",
    "            for j in range(len(tmp_map[0])): \n",
    "                if visited[i][j] == 0 and tmp_map[i][j] == 2:\n",
    "                    dfs(tmp_map, visited, j, i)\n",
    "        count_safe_zone = sum(tmp_map, []).count(0)\n",
    "        \n",
    "        # 안전영역 최대크기 업데이트\n",
    "        if count_safe_zone > max_safe_zone:\n",
    "            max_safe_zone = count_safe_zone\n",
    "            \n",
    "    return max_safe_zone\n",
    "    \n",
    "    \n",
    "def dfs(tmp_map, visited, x, y):\n",
    "    if visited[y][x] == 1:\n",
    "        return\n",
    "    \n",
    "    dx, dy = [0, 1, 0, -1], [1, 0, -1, 0]\n",
    "    visited[y][x] = 1\n",
    "    for i in range(4):\n",
    "        if x+dx[i] >= 0 and y+dy[i] >= 0 and y+dy[i] <= len(tmp_map)-1 and x+dx[i] <= len(tmp_map[0])-1:\n",
    "            if tmp_map[y+dy[i]][x+dx[i]] == 0:\n",
    "                tmp_map[y+dy[i]][x+dx[i]] = 2\n",
    "                dfs(tmp_map, visited, x+dx[i], y+dy[i])"
   ]
  },
  {
   "cell_type": "code",
   "execution_count": 193,
   "id": "dc1783fa",
   "metadata": {},
   "outputs": [
    {
     "name": "stdout",
     "output_type": "stream",
     "text": [
      "7 7\n",
      "2 0 0 0 1 1 0\n",
      "0 0 1 0 1 2 0\n",
      "0 1 1 0 1 0 0\n",
      "0 1 0 0 0 0 0\n",
      "0 0 0 0 0 1 1\n",
      "0 1 0 0 0 0 0\n",
      "0 1 0 0 0 0 0\n"
     ]
    },
    {
     "data": {
      "text/plain": [
       "27"
      ]
     },
     "execution_count": 193,
     "metadata": {},
     "output_type": "execute_result"
    }
   ],
   "source": [
    "solution()"
   ]
  },
  {
   "cell_type": "code",
   "execution_count": 192,
   "id": "bc171b80",
   "metadata": {
    "scrolled": true
   },
   "outputs": [
    {
     "name": "stdout",
     "output_type": "stream",
     "text": [
      "4 6\n",
      "0 0 0 0 0 0\n",
      "1 0 0 0 0 2\n",
      "1 1 1 0 0 2\n",
      "0 0 0 0 0 2\n"
     ]
    },
    {
     "data": {
      "text/plain": [
       "9"
      ]
     },
     "execution_count": 192,
     "metadata": {},
     "output_type": "execute_result"
    }
   ],
   "source": [
    "solution()"
   ]
  },
  {
   "cell_type": "code",
   "execution_count": 194,
   "id": "c802ca7d",
   "metadata": {},
   "outputs": [
    {
     "name": "stdout",
     "output_type": "stream",
     "text": [
      "8 8\n",
      "2 0 0 0 0 0 0 2\n",
      "2 0 0 0 0 0 0 2\n",
      "2 0 0 0 0 0 0 2\n",
      "2 0 0 0 0 0 0 2\n",
      "2 0 0 0 0 0 0 2\n",
      "0 0 0 0 0 0 0 0\n",
      "0 0 0 0 0 0 0 0\n",
      "0 0 0 0 0 0 0 0\n"
     ]
    },
    {
     "data": {
      "text/plain": [
       "3"
      ]
     },
     "execution_count": 194,
     "metadata": {},
     "output_type": "execute_result"
    }
   ],
   "source": [
    "solution()"
   ]
  },
  {
   "cell_type": "code",
   "execution_count": null,
   "id": "20e00c84",
   "metadata": {},
   "outputs": [],
   "source": [
    "17, 19, 21b"
   ]
  },
  {
   "cell_type": "markdown",
   "id": "9c338e5b",
   "metadata": {},
   "source": [
    "# Q.17 경쟁적 전염\n",
    "\n",
    "- 시험관의 크기와 바이러스의 위치 정보가 주어졌을 때, S초가 지난 후에 (X, Y)에 존재하는 바이러스의 종류를 출력하는 프로그램을 작성하세요. 만약 S초가 지난 후에 해당 위치에 바이러스가 존재하지 않는다면, 0을 출력합니다."
   ]
  },
  {
   "cell_type": "markdown",
   "id": "cbec048a",
   "metadata": {},
   "source": [
    "- 입력 조건\n",
    "- 첫째 줄에 자연수 N, K가 주어지며, 각 자연수는 공백으로 구분합니다. (1 ≤ N ≤ 200, 1 ≤ K ≤ 1,000)\n",
    "- 둘째 줄부터 N개의 줄에 걸쳐서 시험관의 정보가 주어집니다. 각 행은 N개의 원소로 구성되며, 해당 위치에 존재하는 바이러스의 번호가 주어지며 공백으로 구분합니다. 단, 해당 위치에 바이러스가 존재하지 않는 경우 0이 주어집니다. 또한 모든 바이러스의 번호는 K 이하의 자연수로만 주어집니다.\n",
    "- N + 2번째 줄에는 S, X, Y가 주어지며 공백으로 구분합니다. (0 ≤ S ≤ 10,000, 1 ≤ X, Y ≤ N)\n"
   ]
  },
  {
   "cell_type": "markdown",
   "id": "d40e9964",
   "metadata": {},
   "source": [
    "- 출력 조건\n",
    "- S초 뒤에 (X, Y)에 존재하는 바이러스의 종류를 출력합니다. 만약 S초 뒤에 해당 위치에 바이러스가 존재하지 않는다면, 0을 출력합니다"
   ]
  },
  {
   "cell_type": "code",
   "execution_count": 224,
   "id": "c43a81ed",
   "metadata": {},
   "outputs": [],
   "source": [
    "def solution() -> int:\n",
    "    n, k = map(int, input().split())\n",
    "    lab = []\n",
    "    for i in range(n):\n",
    "        lab.append(list(map(int, input().split())))\n",
    "    s, X, Y = map(int, input().split())\n",
    "\n",
    "    for _ in range(s):\n",
    "        visited = [[0] * n] * n\n",
    "        for y in range(n):\n",
    "            for x in range(n):\n",
    "                for virus in range(1, k+1):\n",
    "                    if visited[y][x] ==0 and lab[y][x] == virus:\n",
    "                        spreads(lab, visited, x, y, lab[y][x])\n",
    "    return lab[X-1][Y-1]\n",
    "    \n",
    "def spreads(lab, visited, x, y, virus):\n",
    "    dx, dy = [0, 1, 0, -1], [1, 0, -1, 0]\n",
    "    \n",
    "    for i in range(4):\n",
    "        mx, my = x+dx[i], y+dy[i]\n",
    "        if mx >=0 and my >=0 and mx < n and my < n:\n",
    "            if lab[my][mx] ==0:\n",
    "                lab[my][mx] = virus\n",
    "                visited[my][mx] = 1"
   ]
  },
  {
   "cell_type": "code",
   "execution_count": 225,
   "id": "31ac2939",
   "metadata": {},
   "outputs": [
    {
     "name": "stdout",
     "output_type": "stream",
     "text": [
      "3 3\n",
      "1 0 2\n",
      "0 0 0\n",
      "3 0 0\n",
      "2 3 2\n",
      "3\n"
     ]
    }
   ],
   "source": [
    "solution()"
   ]
  },
  {
   "cell_type": "code",
   "execution_count": 226,
   "id": "fe8085a4",
   "metadata": {},
   "outputs": [
    {
     "name": "stdout",
     "output_type": "stream",
     "text": [
      "3 3\n",
      "1 0 2\n",
      "0 0 0\n",
      "3 0 0\n",
      "1 2 2\n",
      "0\n"
     ]
    }
   ],
   "source": [
    "solution()"
   ]
  },
  {
   "cell_type": "markdown",
   "id": "66195a50",
   "metadata": {},
   "source": [
    "# Q.19 연산자 끼워 넣기"
   ]
  },
  {
   "cell_type": "markdown",
   "id": "1cf9ae7b",
   "metadata": {},
   "source": [
    "- 입력 조건\n",
    "- 첫째 줄에 수의 개수 N(2 ≤ N ≤ 11)이 주어집니다. \n",
    "- 둘째 줄에는 A1, A2, ..., AN이 주어집니다. (1 ≤ Ai ≤ 100)\n",
    "- 셋째 줄에는 합이 N-1인 4개의 정수가 주어지는데, 차례대로 덧셈(+)의 개수, 뺄셈(-)의 개수, 곱셈(×)의 개수, 나눗셈(÷)의 개수입니다."
   ]
  },
  {
   "cell_type": "markdown",
   "id": "f9bc9452",
   "metadata": {},
   "source": [
    "- 출력 조건\n",
    "- 첫째 줄에 만들 수 있는 식의 결과의 최댓값을 출력합니다. \n",
    "- 둘째 줄에는 최솟값을 출력합니다. \n",
    "- 최댓값과 최솟값이 항상 -10억보다 크거나 같고, 10억보다 작거나 같은 결과가 나오는 입력만 주어집니다. 또한 앞에서부터 계산했을 때, 중간에 계산되는 식의 결과도 항상 -10억보다 크거나 같고, 10억보다 작거나 같습니다."
   ]
  },
  {
   "cell_type": "code",
   "execution_count": 519,
   "id": "8fe81f12",
   "metadata": {},
   "outputs": [],
   "source": [
    "from itertools import permutations\n",
    "def solution():\n",
    "    n = int(input())\n",
    "    ans = list(map(int, input().split()))\n",
    "    sign = list(map(int, input().split()))\n",
    "    signs = []\n",
    "    for i in range(len(sign)):\n",
    "        for _ in range(sign[i]):\n",
    "            signs.append(i)\n",
    "    sign_list = list(permutations(signs, len(signs)))\n",
    "\n",
    "    max_v = -1000000000\n",
    "    min_v = 1000000000\n",
    "    \n",
    "    for s in sign_list:\n",
    "        num = ans[0]\n",
    "        for i in range(len(ans)-1):\n",
    "            if s[i] == 0: num += ans[i+1]\n",
    "            elif s[i] == 1: num -= ans[i+1]\n",
    "            elif s[i] == 2: num *= ans[i+1]\n",
    "            else: num = int(num / ans[i+1])\n",
    "                \n",
    "        if num > max_v : max_v = num\n",
    "        if num < min_v : min_v = num\n",
    "    \n",
    "    print(max_v)\n",
    "    print(min_v)"
   ]
  },
  {
   "cell_type": "code",
   "execution_count": 520,
   "id": "c46c7eb6",
   "metadata": {
    "scrolled": false
   },
   "outputs": [
    {
     "name": "stdout",
     "output_type": "stream",
     "text": [
      "2\n",
      "5 6\n",
      "0 0 1 0\n",
      "30\n",
      "30\n"
     ]
    }
   ],
   "source": [
    "solution()"
   ]
  },
  {
   "cell_type": "code",
   "execution_count": 521,
   "id": "567daee3",
   "metadata": {},
   "outputs": [
    {
     "name": "stdout",
     "output_type": "stream",
     "text": [
      "3\n",
      "3 4 5\n",
      "1 0 1 0\n",
      "35\n",
      "17\n"
     ]
    }
   ],
   "source": [
    "solution()"
   ]
  },
  {
   "cell_type": "code",
   "execution_count": 522,
   "id": "d5985ffb",
   "metadata": {},
   "outputs": [
    {
     "name": "stdout",
     "output_type": "stream",
     "text": [
      "6\n",
      "1 2 3 4 5 6\n",
      "2 1 1 1\n",
      "54\n",
      "-24\n"
     ]
    }
   ],
   "source": [
    "solution()"
   ]
  },
  {
   "cell_type": "markdown",
   "id": "1425aab9",
   "metadata": {},
   "source": [
    "# Q. 21 인구 이동"
   ]
  },
  {
   "cell_type": "markdown",
   "id": "8ed3c748",
   "metadata": {},
   "source": [
    "- 각 나라의 인구수가 주어졌을 때, 인구 이동이 몇 번 발생하는지 구하는 프로그램을 작성하세요."
   ]
  },
  {
   "cell_type": "markdown",
   "id": "1f641f1a",
   "metadata": {},
   "source": [
    "- 입력 조건\n",
    "- 첫째 줄에 N, L, R이 주어집니다. (1 ≤ N ≤ 50, 1 ≤ L ≤ R ≤ 100)\n",
    "- 둘째 줄부터 N개의 줄에 각 나라의 인구수가 주어집니다. r행 c열에 주어지는 정수는 A[r][c]의 값입니다. (0 ≤ A[r][c] ≤ 100)\n",
    "- 인구 이동이 발생하는 횟수가 2,000번보다 작거나 같은 입력만 주어집니다."
   ]
  },
  {
   "cell_type": "markdown",
   "id": "6ddf063a",
   "metadata": {},
   "source": [
    "- 출력 조건\n",
    "- 인구 이동이 몇 번 발생하는지 첫째 줄에 출력합니다"
   ]
  },
  {
   "cell_type": "code",
   "execution_count": 1,
   "id": "5d97809b",
   "metadata": {},
   "outputs": [],
   "source": [
    "from collections import defaultdict, deque\n",
    "def solution():\n",
    "    global g_list, n, l, r, p_list, g_lists\n",
    "    n, l, r = map(int, input().split())\n",
    "    p_list = []\n",
    "    for _ in range(n):\n",
    "        p_list.append(list(map(int, input().split())))\n",
    "\n",
    "    \n",
    "    move_count = 0\n",
    "    for _ in range(2000):\n",
    "        grouping = [[0] * n] * n\n",
    "        g_list = defaultdict(list)\n",
    "        g_lists = deque([])\n",
    "        for i in range(n):\n",
    "            for j in range(n):\n",
    "                if not grouping[i][j]:\n",
    "                    bfs(grouping, j, i)                    \n",
    "        if len(g_list) > 0:\n",
    "            g_lists.append(g_list)\n",
    "            print(g_lists)\n",
    "            move_count += 1\n",
    "            for groups in g_lists:\n",
    "                p_avg = sum(groups['p']) // len(groups['p'])\n",
    "                for i in range(len(groups['p'])):\n",
    "                    p_list[groups['y'][i]][groups['x'][i]] = p_avg\n",
    "        else: \n",
    "            break\n",
    "            \n",
    "    print(move_count)\n",
    "        \n",
    "def bfs(grouping, x, y):\n",
    "    global g_list, n, l, r, p_list, g_lists\n",
    "    \n",
    "    q = deque()\n",
    "    q.append((x, y))\n",
    "    dx, dy = [0, 1, 0, -1], [1, 0, -1, 0] \n",
    "    \n",
    "    while q:\n",
    "        x, y = q.popleft()\n",
    "        \n",
    "        for i in range(4):\n",
    "            mx, my = x+dx[i], y+dy[i]\n",
    "            if 0 <= mx < n and 0 <= my < n:\n",
    "                diff = abs(p_list[y][x] - p_list[my][mx])\n",
    "                print(diff)\n",
    "                if l <= diff <= r and not grouping[my][mx]:\n",
    "                    if not (x, y) in [(i, j) for i, j in zip(g_list['x'], g_list['y'])]:\n",
    "                        g_list['p'].append(p_list[y][x])\n",
    "                        g_list['x'].append(x)\n",
    "                        g_list['y'].append(y)\n",
    "                        grouping[y][x] = 1\n",
    "\n",
    "                    # (인구수, x, y)\n",
    "                    g_list['p'].append(p_list[my][mx])\n",
    "                    g_list['x'].append(mx)\n",
    "                    g_list['y'].append(my)\n",
    "                    q.append((mx, my))     \n",
    "                    grouping[my][mx] = 1"
   ]
  },
  {
   "cell_type": "code",
   "execution_count": 275,
   "id": "1991b5b4",
   "metadata": {
    "scrolled": true
   },
   "outputs": [
    {
     "name": "stdout",
     "output_type": "stream",
     "text": [
      "2 20 50\n",
      "50 30\n",
      "20 40\n",
      "deque([defaultdict(<class 'list'>, {'x': [0, 0, 1], 'y': [0, 1, 0], 'p': [50, 20, 30]})])\n",
      "1\n"
     ]
    }
   ],
   "source": [
    "solution()"
   ]
  },
  {
   "cell_type": "code",
   "execution_count": 276,
   "id": "0f54d953",
   "metadata": {},
   "outputs": [
    {
     "name": "stdout",
     "output_type": "stream",
     "text": [
      "2 40 50\n",
      "50 30\n",
      "20 40\n",
      "0\n"
     ]
    }
   ],
   "source": [
    "solution()"
   ]
  },
  {
   "cell_type": "code",
   "execution_count": 277,
   "id": "da294d30",
   "metadata": {},
   "outputs": [
    {
     "name": "stdout",
     "output_type": "stream",
     "text": [
      "2 20 50\n",
      "50 30\n",
      "30 40\n",
      "deque([defaultdict(<class 'list'>, {'x': [0, 0, 1], 'y': [0, 1, 0], 'p': [50, 30, 30]})])\n",
      "1\n"
     ]
    }
   ],
   "source": [
    "solution()"
   ]
  },
  {
   "cell_type": "code",
   "execution_count": null,
   "id": "05bed36e",
   "metadata": {},
   "outputs": [],
   "source": [
    "\n",
    "3 5 10\n",
    "10 15 20\n",
    "20 30 25\n",
    "40 22 10"
   ]
  },
  {
   "cell_type": "code",
   "execution_count": 2,
   "id": "7c9cef64",
   "metadata": {
    "scrolled": true
   },
   "outputs": [
    {
     "name": "stdout",
     "output_type": "stream",
     "text": [
      "3 5 10\n",
      "10 15 20\n",
      "20 30 25\n",
      "40 22 10\n",
      "10\n",
      "5\n",
      "20\n",
      "10\n",
      "10\n",
      "15\n",
      "5\n",
      "5\n",
      "5\n",
      "5\n",
      "deque([defaultdict(<class 'list'>, {'x': [0, 0, 1, 2], 'y': [0, 1, 0, 0], 'p': [10, 20, 15, 20]})])\n",
      "0\n",
      "0\n",
      "14\n",
      "0\n",
      "0\n",
      "9\n",
      "0\n",
      "15\n",
      "9\n",
      "5\n",
      "8\n",
      "5\n",
      "14\n",
      "14\n",
      "24\n",
      "14\n",
      "0\n",
      "18\n",
      "24\n",
      "deque([defaultdict(<class 'list'>, {'x': [2, 2, 1], 'y': [0, 1, 1], 'p': [16, 25, 30]})])\n",
      "0\n",
      "0\n",
      "7\n",
      "7\n",
      "0\n",
      "1\n",
      "0\n",
      "7\n",
      "7\n",
      "0\n",
      "7\n",
      "24\n",
      "7\n",
      "0\n",
      "deque([defaultdict(<class 'list'>, {'x': [1, 1, 2, 0], 'y': [0, 1, 0, 1], 'p': [16, 23, 23, 16]})])\n",
      "3\n",
      "3\n",
      "0\n",
      "0\n",
      "3\n",
      "4\n",
      "0\n",
      "21\n",
      "0\n",
      "3\n",
      "3\n",
      "4\n",
      "0\n",
      "0\n",
      "13\n",
      "4\n",
      "4\n",
      "18\n",
      "21\n",
      "12\n",
      "3\n",
      "18\n",
      "13\n",
      "12\n",
      "3\n"
     ]
    }
   ],
   "source": [
    "solution()"
   ]
  },
  {
   "cell_type": "code",
   "execution_count": 299,
   "id": "4f0250e4",
   "metadata": {
    "scrolled": true
   },
   "outputs": [
    {
     "name": "stdout",
     "output_type": "stream",
     "text": [
      "4 10 50\n",
      "10 100 20 90\n",
      "80 100 60 70\n",
      "70 20 30 40\n",
      "50 20 100 10\n",
      "8\n"
     ]
    }
   ],
   "source": [
    "solution()"
   ]
  },
  {
   "cell_type": "code",
   "execution_count": 296,
   "id": "140f52be",
   "metadata": {},
   "outputs": [
    {
     "data": {
      "text/plain": [
       "[(1, 3), (2, 4)]"
      ]
     },
     "execution_count": 296,
     "metadata": {},
     "output_type": "execute_result"
    }
   ],
   "source": [
    "[(i, j) for i, j in zip([1,2], [3,4])]"
   ]
  },
  {
   "cell_type": "code",
   "execution_count": 308,
   "id": "416c75bd",
   "metadata": {},
   "outputs": [
    {
     "data": {
      "text/plain": [
       "True"
      ]
     },
     "execution_count": 308,
     "metadata": {},
     "output_type": "execute_result"
    }
   ],
   "source": [
    "0 == False"
   ]
  },
  {
   "cell_type": "code",
   "execution_count": null,
   "id": "e3f93b34",
   "metadata": {},
   "outputs": [],
   "source": []
  }
 ],
 "metadata": {
  "kernelspec": {
   "display_name": "Python 3 (ipykernel)",
   "language": "python",
   "name": "python3"
  },
  "language_info": {
   "codemirror_mode": {
    "name": "ipython",
    "version": 3
   },
   "file_extension": ".py",
   "mimetype": "text/x-python",
   "name": "python",
   "nbconvert_exporter": "python",
   "pygments_lexer": "ipython3",
   "version": "3.11.1"
  }
 },
 "nbformat": 4,
 "nbformat_minor": 5
}
