{
 "cells": [
  {
   "cell_type": "markdown",
   "id": "2020a104",
   "metadata": {},
   "source": [
    "# 그리디\n",
    "- 현재 상황에서 가장 좋은 것을 선택하는 방법\n",
    "- 보통 특정 기준에 따라 좋은 것을 선택하므로 '가장 큰 순서', '가장 작은 순서'와 같은 기준이 제시될 가능성이 높다\n",
    "- 그리디 알고리즘의 정당성을 확인할 수 있어야 함(최소한의 아이디어 > 정당성 검증 과정)"
   ]
  },
  {
   "cell_type": "markdown",
   "id": "44d0c063",
   "metadata": {},
   "source": [
    "## 큰 수의 법칙(난이도 : 하, 30분 이내)\n",
    "\n",
    "- 배열의 크기 N, 숫자가 더해지는 횟수 M, 그리고 K가 주어질 때 동빈이의 큰 수의 법칙에 따른 결과를 출력하시오.\n",
    "- 입력 조건\n",
    "- 첫째 줄에 N(2 ≤ N ≤ 1,000), M(1 ≤ M ≤ 10,000), K(1 ≤ K ≤ 10,000)의 자연수가 주어지며, 각 자연수는 공백으로 구분한다.\n",
    "- 둘째 줄에 N개의 자연수가 주어진다. 각 자연수는 공백으로 구분한다. 단, 각각의 자연수는 1 이상 10,000 이하의 수로 주어진다.\n",
    "- 입력으로 주어지는 K는 항상 M보다 작거나 같다.\n",
    "- 출력 조건\n",
    "- 첫째 줄에 동빈이의 큰 수의 법칙에 따라 더해진 답을 출력한다"
   ]
  },
  {
   "cell_type": "code",
   "execution_count": 1,
   "id": "ccf4ed3c",
   "metadata": {},
   "outputs": [],
   "source": [
    "def solution() -> int:\n",
    "    N, M, K = map(int, input().split())\n",
    "    # input, sort\n",
    "    n_lst = sorted(list(map(int, input().split())))\n",
    "    # add\n",
    "    s, r = divmod(M, K+1)\n",
    "    return (n_lst[-1] * (s * int(K) + r)) + (n_lst[-2] * s)"
   ]
  },
  {
   "cell_type": "code",
   "execution_count": 3,
   "id": "5149dea8",
   "metadata": {},
   "outputs": [
    {
     "name": "stdout",
     "output_type": "stream",
     "text": [
      "5 8 3\n",
      "2 4 5 4 6\n"
     ]
    },
    {
     "data": {
      "text/plain": [
       "46"
      ]
     },
     "execution_count": 3,
     "metadata": {},
     "output_type": "execute_result"
    }
   ],
   "source": [
    "solution()"
   ]
  },
  {
   "cell_type": "markdown",
   "id": "1d5e7406",
   "metadata": {},
   "source": [
    "## 숫자 카드 게임 (난이도 : 하, 30분 이내)\n",
    "- 첫째 줄에 숫자 카드들이 놓인 행의 개수 N과 열의 개수 M이 공백을 기준으로 하여 각각 자연수로 주어진다. (1 ≤ N, M ≤ 100)\n",
    "- 둘째 줄부터 N개의 줄에 걸쳐 각 카드에 적힌 숫자가 주어진다. 각 숫자는 1 이상 10,000 이하의 자연수이다.\n",
    "- 출력 조건 첫째 줄에 게임의 룰에 맞게 선택한 카드에 적힌 숫자를 출력한다"
   ]
  },
  {
   "cell_type": "code",
   "execution_count": 12,
   "id": "589bdf34",
   "metadata": {},
   "outputs": [],
   "source": [
    "def solution() -> int:\n",
    "    N, M = map(int, input().split())\n",
    "    n_lst = []\n",
    "    for _ in range(N):\n",
    "        n_lst.append(sorted(list(map(int, input().split())))[0])\n",
    "    return max(n_lst)"
   ]
  },
  {
   "cell_type": "code",
   "execution_count": 13,
   "id": "ca11c491",
   "metadata": {},
   "outputs": [
    {
     "name": "stdout",
     "output_type": "stream",
     "text": [
      "3 3\n",
      "3 1 2\n",
      "4 1 4\n",
      "2 2 2\n"
     ]
    },
    {
     "data": {
      "text/plain": [
       "2"
      ]
     },
     "execution_count": 13,
     "metadata": {},
     "output_type": "execute_result"
    }
   ],
   "source": [
    "solution()"
   ]
  },
  {
   "cell_type": "code",
   "execution_count": 14,
   "id": "b74872b9",
   "metadata": {},
   "outputs": [
    {
     "name": "stdout",
     "output_type": "stream",
     "text": [
      "2 4\n",
      "7 3 1 8\n",
      "3 3 3 4\n"
     ]
    },
    {
     "data": {
      "text/plain": [
       "3"
      ]
     },
     "execution_count": 14,
     "metadata": {},
     "output_type": "execute_result"
    }
   ],
   "source": [
    "solution()"
   ]
  },
  {
   "cell_type": "markdown",
   "id": "a945b38d",
   "metadata": {},
   "source": [
    "## 1이 될 때까지 (난이도 : 하, 30분 이내)\n",
    "1. N에서 1을 뺀다.\n",
    "2. N을 K로 나눈다\n",
    "- 입력 조건\n",
    "- 첫째 줄에 N(2 ≤ N ≤ 100,000)과 K(2 ≤ K ≤ 100,000)가 공백으로 구분되며 각각 자연수로 주어진다. 이때 입력으로 주어지는 N은 항상 K보다 크거나 같다.\n",
    "- 출력 조건\n",
    "- 첫째 줄에 N이 1이 될 때까지 1번 혹은 2번의 과정을 수행해야 하는 횟수의 최솟값을 출력한다"
   ]
  },
  {
   "cell_type": "code",
   "execution_count": 18,
   "id": "ccc263b2",
   "metadata": {},
   "outputs": [],
   "source": [
    "def solution() -> int:\n",
    "    n, k = map(int, input().split())\n",
    "    cnt = 0\n",
    "    while(n != 1):\n",
    "        if n % k == 0:\n",
    "            n /= k\n",
    "            cnt += 1\n",
    "        else:\n",
    "            n -= 1\n",
    "            cnt += 1\n",
    "    return cnt"
   ]
  },
  {
   "cell_type": "code",
   "execution_count": 19,
   "id": "b1dad8e4",
   "metadata": {},
   "outputs": [
    {
     "name": "stdout",
     "output_type": "stream",
     "text": [
      "25 5\n"
     ]
    },
    {
     "data": {
      "text/plain": [
       "2"
      ]
     },
     "execution_count": 19,
     "metadata": {},
     "output_type": "execute_result"
    }
   ],
   "source": [
    "solution()"
   ]
  }
 ],
 "metadata": {
  "kernelspec": {
   "display_name": "Python 3 (ipykernel)",
   "language": "python",
   "name": "python3"
  },
  "language_info": {
   "codemirror_mode": {
    "name": "ipython",
    "version": 3
   },
   "file_extension": ".py",
   "mimetype": "text/x-python",
   "name": "python",
   "nbconvert_exporter": "python",
   "pygments_lexer": "ipython3",
   "version": "3.11.1"
  }
 },
 "nbformat": 4,
 "nbformat_minor": 5
}
