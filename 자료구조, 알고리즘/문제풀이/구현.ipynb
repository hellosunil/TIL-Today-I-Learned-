{
 "cells": [
  {
   "cell_type": "markdown",
   "id": "aff2e002",
   "metadata": {},
   "source": [
    "# 구현 "
   ]
  },
  {
   "cell_type": "markdown",
   "id": "0b53adbc",
   "metadata": {},
   "source": [
    "## 07 럭키 스트레이트"
   ]
  },
  {
   "cell_type": "markdown",
   "id": "8ec64c84",
   "metadata": {},
   "source": [
    "게임의 아웃복서 캐릭터는 필살기인 ‘럭키 스트레이트’ 기술이 있습니다. 이 기술은 매우 강력한 대\n",
    "신에 게임 내에서 점수가 특정 조건을 만족할 때만 사용할 수 있습니다.\n",
    "특정 조건이란 현재 캐릭터의 점수를 N이라고 할 때 자릿수를 기준으로 점수 N을 반으로 나누어 왼\n",
    "쪽 부분의 각 자릿수의 합과 오른쪽 부분의 각 자릿수의 합을 더한 값이 동일한 상황을 의미합니다.\n",
    "현재 점수 N이 주어지면 럭키 스트레이트를 사용할 수 있는 상태인지 아닌지를 알려주는 프로그램\n",
    "을 작성하세요.\n",
    "\n",
    "- 입력 조건\n",
    "- 첫째 줄에 점수 N이 정수로 주어집니다. (10 ≤ N ≤ 99,999,999) 단, 점수 N의 자릿수는 항상 짝수 형태로만 주어집니다. 예를 들어 자릿수가 5인 12,345와 같은 수는 입력으로 들어오지 않습니다.\n",
    "- 출력 조건\n",
    "- 첫째 줄에 럭키 스트레이트를 사용할 수 있다면 “LUCKY”를, 사용할 수 없다면 “READY”를 출력합니다."
   ]
  },
  {
   "cell_type": "code",
   "execution_count": 15,
   "id": "dfbd0787",
   "metadata": {
    "scrolled": true
   },
   "outputs": [],
   "source": [
    "def solution(n: int) -> str:\n",
    "    n = str(n)\n",
    "    n1, n2 = sum([int(i) for i in n[:(len(n)//2)]]), sum([int(i) for i in n[(len(n)//2):]])\n",
    "    if n1 == n2:\n",
    "        return \"LUCKY\"\n",
    "    else:\n",
    "        return \"READY\""
   ]
  },
  {
   "cell_type": "code",
   "execution_count": 16,
   "id": "bc4a3912",
   "metadata": {},
   "outputs": [
    {
     "data": {
      "text/plain": [
       "'LUCKY'"
      ]
     },
     "execution_count": 16,
     "metadata": {},
     "output_type": "execute_result"
    }
   ],
   "source": [
    "solution(123402)"
   ]
  },
  {
   "cell_type": "code",
   "execution_count": 17,
   "id": "869dca7a",
   "metadata": {},
   "outputs": [
    {
     "data": {
      "text/plain": [
       "'READY'"
      ]
     },
     "execution_count": 17,
     "metadata": {},
     "output_type": "execute_result"
    }
   ],
   "source": [
    "solution(7755)"
   ]
  },
  {
   "cell_type": "markdown",
   "id": "30cf1926",
   "metadata": {},
   "source": [
    "## 08 문자열 재정렬 "
   ]
  },
  {
   "cell_type": "markdown",
   "id": "29cb5951",
   "metadata": {},
   "source": [
    "알파벳 대문자와 숫자(0 ~ 9)로만 구성된 문자열이 입력으로 주어집니다. 이때 모든 알파벳을 오\n",
    "름차순으로 정렬하여 이어서 출력한 뒤에, 그 뒤에 모든 숫자를 더한 값을 이어서 출력합니다.\n",
    "예를 들어 K1KA5CB7이라는 값이 들어오면 ABCKK13을 출력합니다.\n",
    "\n",
    "- 입력 조건\n",
    "- 첫째 줄에 하나의 문자열 S가 주어집니다. (1 ≤ S의 길이 ≤ 10,000)\n",
    "- 출력 조건\n",
    "- 첫째 줄에 문제에서 요구하는 정답을 출력합니다."
   ]
  },
  {
   "cell_type": "code",
   "execution_count": 37,
   "id": "ad002455",
   "metadata": {},
   "outputs": [],
   "source": [
    "def solution(s: str) -> str:\n",
    "    n, st = 0, \"\"\n",
    "    for i in s:\n",
    "        if i.isdigit():\n",
    "            n += int(i)\n",
    "        else:\n",
    "            st += i\n",
    "    return ''.join(sorted(st))+str(n)"
   ]
  },
  {
   "cell_type": "code",
   "execution_count": 38,
   "id": "ce43db9f",
   "metadata": {},
   "outputs": [
    {
     "data": {
      "text/plain": [
       "'ABCKK13'"
      ]
     },
     "execution_count": 38,
     "metadata": {},
     "output_type": "execute_result"
    }
   ],
   "source": [
    "solution(\"K1KA5CB7\")"
   ]
  },
  {
   "cell_type": "code",
   "execution_count": 39,
   "id": "2e2d9509",
   "metadata": {},
   "outputs": [
    {
     "data": {
      "text/plain": [
       "'ADDIJJJKKLSS20'"
      ]
     },
     "execution_count": 39,
     "metadata": {},
     "output_type": "execute_result"
    }
   ],
   "source": [
    "solution(\"AJKDLSI412K4JSJ9D\")"
   ]
  },
  {
   "cell_type": "markdown",
   "id": "b4cb1381",
   "metadata": {},
   "source": [
    "## 09 문자열 압축 "
   ]
  },
  {
   "cell_type": "markdown",
   "id": "1a2c498d",
   "metadata": {},
   "source": [
    "- 압축할 문자열 s가 매개변수로 주어질 때, 1개 이상 단위로 문자열을 잘라 압 축하여 표현한 문자열 중 가장 짧은 것의 길이를 return 하도록 solution 함수를 완성해주세요.\n",
    "- 제한 사항\n",
    "- s의 길이는 1 이상 1,000 이하입니다.\n",
    "- s는 알파벳 소문자로만 이루어져 있습니다"
   ]
  },
  {
   "cell_type": "code",
   "execution_count": 139,
   "id": "5a9054bb",
   "metadata": {},
   "outputs": [],
   "source": [
    "def solution(s: str) -> int:\n",
    "    answer = len(s)\n",
    "    dict = {}\n",
    "    for i in range(1, len(s)+1):\n",
    "        lst = []\n",
    "        for j in range(0, len(s), i):\n",
    "            lst.append(s[j:j+i])\n",
    "        \n",
    "        s_lst = []\n",
    "        if len(lst) == 1:\n",
    "            s_lst.append([lst[0], 1])\n",
    "        \n",
    "        for k in range(len(lst)-1):\n",
    "            if k == 0:\n",
    "                s_lst.append([lst[k], 1])\n",
    "            if lst[k] != lst[k+1]:\n",
    "                s_lst.append([lst[k+1], 1])\n",
    "            else:\n",
    "                s_lst[-1][1] += 1\n",
    "                \n",
    "        string = \"\"\n",
    "        for l in range(len(s_lst)):\n",
    "            if s_lst[l][1] == 1:\n",
    "                string += s_lst[l][0]\n",
    "            else:\n",
    "                string += str(s_lst[l][1]) + s_lst[l][0]\n",
    "        answer = min(answer, len(string))\n",
    "                     \n",
    "    return answer"
   ]
  },
  {
   "cell_type": "code",
   "execution_count": 140,
   "id": "3f39f010",
   "metadata": {
    "scrolled": true
   },
   "outputs": [
    {
     "data": {
      "text/plain": [
       "7"
      ]
     },
     "execution_count": 140,
     "metadata": {},
     "output_type": "execute_result"
    }
   ],
   "source": [
    "solution(\"aabbaccc\")"
   ]
  },
  {
   "cell_type": "code",
   "execution_count": 141,
   "id": "1a058ce7",
   "metadata": {},
   "outputs": [
    {
     "data": {
      "text/plain": [
       "9"
      ]
     },
     "execution_count": 141,
     "metadata": {},
     "output_type": "execute_result"
    }
   ],
   "source": [
    "solution(\"ababcdcdababcdcd\")"
   ]
  },
  {
   "cell_type": "code",
   "execution_count": 142,
   "id": "46e8731d",
   "metadata": {},
   "outputs": [
    {
     "data": {
      "text/plain": [
       "8"
      ]
     },
     "execution_count": 142,
     "metadata": {},
     "output_type": "execute_result"
    }
   ],
   "source": [
    "solution(\"abcabcdede\")"
   ]
  },
  {
   "cell_type": "code",
   "execution_count": 143,
   "id": "88ed3d15",
   "metadata": {},
   "outputs": [
    {
     "data": {
      "text/plain": [
       "14"
      ]
     },
     "execution_count": 143,
     "metadata": {},
     "output_type": "execute_result"
    }
   ],
   "source": [
    "solution(\"abcabcabcabcdededededede\")"
   ]
  },
  {
   "cell_type": "code",
   "execution_count": 144,
   "id": "d29123fb",
   "metadata": {
    "scrolled": true
   },
   "outputs": [
    {
     "data": {
      "text/plain": [
       "17"
      ]
     },
     "execution_count": 144,
     "metadata": {},
     "output_type": "execute_result"
    }
   ],
   "source": [
    "solution(\"xababcdcdababcdcd\")"
   ]
  },
  {
   "cell_type": "markdown",
   "id": "dcd79933",
   "metadata": {},
   "source": [
    "## 10 자물쇠와 열쇠\n",
    "- 잠겨있는 자물쇠는 격자 한 칸의 크기가 1×1인 N×N 크기의 정사각 격자 형태이고 특이한 모양의 열쇠는 M×M 크기인 정사각 격자 형태로 되어 있습니다. 자물쇠에는 홈이 파여 있고 열쇠 또한 홈과 돌기 부분이 있습니다. 열쇠는 회전과 이동이 가능하며 열쇠의 돌기 부분을 자물쇠의 홈 부분에 딱 맞게 채우면 자물쇠가 열리게 되는 구조입니다. 열쇠의 돌기와 자물쇠의 돌기가 만나서는 안 됩니다.(둘다 1이면 안 됨) 또한 자물쇠의 모든 홈을 채워 비어있는 곳이 없어야 자물쇠를 열 수 있습니다.\n",
    "\n",
    "- 열쇠를 나타내는 2차원 배열 key와 자물쇠를 나타내는 2차원 배열 lock이 매개변수로 주어질 때, 열쇠로 자물쇠를 열 수 있으면 true를, 열 수 없으면 false를 return 하도록 solution 함수를 완성 해주세요\n",
    "\n",
    "- key는 M × M(3 ≤ M ≤ 20, M은 자연수) 크기 2차원 배열입니다.\n",
    "- lock은 N × N(3 ≤ N ≤ 20, N은 자연수) 크기 2차원 배열입니다.\n",
    "- M은 항상 N 이하입니다.\n",
    "- key와 lock의 원소는 0 또는 1로 이루어져 있습니다. 이때 0은 홈 부분, 1은 돌기 부분을 나타냅니다"
   ]
  },
  {
   "cell_type": "code",
   "execution_count": null,
   "id": "085fca49",
   "metadata": {},
   "outputs": [],
   "source": [
    "def solution(key: list, lock: list) -> bool:\n",
    "\n",
    "    \n",
    "    \n",
    "def turn_90_list(key: list) -> list:\n",
    "    return list(map(list, zip(*key[::-1])))"
   ]
  },
  {
   "cell_type": "code",
   "execution_count": 156,
   "id": "3f688526",
   "metadata": {},
   "outputs": [
    {
     "name": "stdout",
     "output_type": "stream",
     "text": [
      "(0, 1, 0)\n",
      "(1, 0, 0)\n",
      "(1, 0, 0)\n",
      "[[0, 1, 1], [1, 0, 0], [0, 0, 0]]\n",
      "[0, 1, 1] [1, 0, 0] [0, 0, 0]\n"
     ]
    }
   ],
   "source": [
    "arr= [[0,0,0], [1,0,0], [0,1,1]]\n",
    "A = list(map(list, zip(*arr[::-1])))\n",
    "for i in zip(*arr[::-1]):\n",
    "    print(i)\n",
    "print(arr[::-1])\n",
    "print(*arr[::-1])"
   ]
  },
  {
   "cell_type": "markdown",
   "id": "4a167355",
   "metadata": {},
   "source": [
    "## 06 무지의 먹방 라이브\n",
    "https://school.programmers.co.kr/learn/courses/30/lessons/42891"
   ]
  },
  {
   "cell_type": "code",
   "execution_count": 1,
   "id": "9ed9645c",
   "metadata": {},
   "outputs": [],
   "source": [
    "def solution(food_times, k):\n",
    "    if sum(food_times) <= k:\n",
    "        return -1\n",
    "    if len(food_times) > k:\n",
    "        return k + 1\n",
    "\n",
    "    while 1:\n",
    "        for i in range(len(food_times)):\n",
    "            if food_times[i] > 0:\n",
    "                food_times[i] -= 1\n",
    "                k -= 1\n",
    "                if k == -1:\n",
    "                    return i+1"
   ]
  },
  {
   "cell_type": "code",
   "execution_count": 2,
   "id": "3afe5e14",
   "metadata": {},
   "outputs": [
    {
     "data": {
      "text/plain": [
       "1"
      ]
     },
     "execution_count": 2,
     "metadata": {},
     "output_type": "execute_result"
    }
   ],
   "source": [
    "solution([3,1,2], 5)"
   ]
  },
  {
   "cell_type": "code",
   "execution_count": 3,
   "id": "9ad16220",
   "metadata": {},
   "outputs": [
    {
     "data": {
      "text/plain": [
       "1"
      ]
     },
     "execution_count": 3,
     "metadata": {},
     "output_type": "execute_result"
    }
   ],
   "source": [
    "from heapq import heappush, heappop\n",
    "def solution(food_times, k):\n",
    "    an, len_f, b_cycle = -1, len(food_times), 0\n",
    "    hq = []\n",
    "    for i in range(len_f):\n",
    "        heappush(hq, (food_times[i], i))\n",
    "    while 1:\n",
    "        cycle = len_f * (hq[0][0] - b_cycle)\n",
    "        if cycle <= k:\n",
    "            k -= cycle\n",
    "            len_f -= 1\n",
    "            b_cycle, _ = heappop(hq)\n",
    "        else:\n",
    "            i = k % len_f\n",
    "            hq.sort(key = lambda x : x[1])\n",
    "            an = hq[i][1] + 1\n",
    "            break\n",
    "    return an\n",
    "solution([3,1,2], 5)"
   ]
  },
  {
   "cell_type": "code",
   "execution_count": null,
   "id": "b00f0aa2",
   "metadata": {},
   "outputs": [],
   "source": []
  }
 ],
 "metadata": {
  "kernelspec": {
   "display_name": "Python 3 (ipykernel)",
   "language": "python",
   "name": "python3"
  },
  "language_info": {
   "codemirror_mode": {
    "name": "ipython",
    "version": 3
   },
   "file_extension": ".py",
   "mimetype": "text/x-python",
   "name": "python",
   "nbconvert_exporter": "python",
   "pygments_lexer": "ipython3",
   "version": "3.11.1"
  }
 },
 "nbformat": 4,
 "nbformat_minor": 5
}
