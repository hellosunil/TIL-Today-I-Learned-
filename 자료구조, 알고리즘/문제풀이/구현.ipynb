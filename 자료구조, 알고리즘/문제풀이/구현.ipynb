{
 "cells": [
  {
   "cell_type": "code",
   "execution_count": 1,
   "id": "22f5b3d1",
   "metadata": {},
   "outputs": [],
   "source": [
    "from IPython.core.interactiveshell import InteractiveShell\n",
    "InteractiveShell.ast_node_interactivity = \"all\""
   ]
  },
  {
   "cell_type": "markdown",
   "id": "bf769b65",
   "metadata": {},
   "source": [
    "# 구현 "
   ]
  },
  {
   "cell_type": "markdown",
   "id": "760e92cf",
   "metadata": {},
   "source": [
    "## 07 럭키 스트레이트"
   ]
  },
  {
   "cell_type": "markdown",
   "id": "25794244",
   "metadata": {},
   "source": [
    "게임의 아웃복서 캐릭터는 필살기인 ‘럭키 스트레이트’ 기술이 있습니다. 이 기술은 매우 강력한 대\n",
    "신에 게임 내에서 점수가 특정 조건을 만족할 때만 사용할 수 있습니다.\n",
    "특정 조건이란 현재 캐릭터의 점수를 N이라고 할 때 자릿수를 기준으로 점수 N을 반으로 나누어 왼\n",
    "쪽 부분의 각 자릿수의 합과 오른쪽 부분의 각 자릿수의 합을 더한 값이 동일한 상황을 의미합니다.\n",
    "현재 점수 N이 주어지면 럭키 스트레이트를 사용할 수 있는 상태인지 아닌지를 알려주는 프로그램\n",
    "을 작성하세요.\n",
    "\n",
    "- 입력 조건\n",
    "- 첫째 줄에 점수 N이 정수로 주어집니다. (10 ≤ N ≤ 99,999,999) 단, 점수 N의 자릿수는 항상 짝수 형태로만 주어집니다. 예를 들어 자릿수가 5인 12,345와 같은 수는 입력으로 들어오지 않습니다.\n",
    "- 출력 조건\n",
    "- 첫째 줄에 럭키 스트레이트를 사용할 수 있다면 “LUCKY”를, 사용할 수 없다면 “READY”를 출력합니다."
   ]
  },
  {
   "cell_type": "code",
   "execution_count": 2,
   "id": "4087238c",
   "metadata": {
    "scrolled": true
   },
   "outputs": [],
   "source": [
    "def solution(n: int) -> str:\n",
    "    n = str(n)\n",
    "    n1, n2 = sum([int(i) for i in n[:(len(n)//2)]]), sum([int(i) for i in n[(len(n)//2):]])\n",
    "    if n1 == n2:\n",
    "        return \"LUCKY\"\n",
    "    else:\n",
    "        return \"READY\""
   ]
  },
  {
   "cell_type": "code",
   "execution_count": 3,
   "id": "8570b7bf",
   "metadata": {},
   "outputs": [
    {
     "data": {
      "text/plain": [
       "'LUCKY'"
      ]
     },
     "execution_count": 3,
     "metadata": {},
     "output_type": "execute_result"
    },
    {
     "data": {
      "text/plain": [
       "'READY'"
      ]
     },
     "execution_count": 3,
     "metadata": {},
     "output_type": "execute_result"
    }
   ],
   "source": [
    "solution(123402)\n",
    "solution(7755)"
   ]
  },
  {
   "cell_type": "markdown",
   "id": "0e05271a",
   "metadata": {},
   "source": [
    "## 08 문자열 재정렬 "
   ]
  },
  {
   "cell_type": "markdown",
   "id": "4537339c",
   "metadata": {},
   "source": [
    "알파벳 대문자와 숫자(0 ~ 9)로만 구성된 문자열이 입력으로 주어집니다. 이때 모든 알파벳을 오\n",
    "름차순으로 정렬하여 이어서 출력한 뒤에, 그 뒤에 모든 숫자를 더한 값을 이어서 출력합니다.\n",
    "예를 들어 K1KA5CB7이라는 값이 들어오면 ABCKK13을 출력합니다.\n",
    "\n",
    "- 입력 조건\n",
    "- 첫째 줄에 하나의 문자열 S가 주어집니다. (1 ≤ S의 길이 ≤ 10,000)\n",
    "- 출력 조건\n",
    "- 첫째 줄에 문제에서 요구하는 정답을 출력합니다."
   ]
  },
  {
   "cell_type": "code",
   "execution_count": 4,
   "id": "4140981c",
   "metadata": {},
   "outputs": [],
   "source": [
    "def solution(s: str) -> str:\n",
    "    n, st = 0, \"\"\n",
    "    for i in s:\n",
    "        if i.isdigit():\n",
    "            n += int(i)\n",
    "        else:\n",
    "            st += i\n",
    "    return ''.join(sorted(st))+str(n)"
   ]
  },
  {
   "cell_type": "code",
   "execution_count": 5,
   "id": "02a3061f",
   "metadata": {},
   "outputs": [
    {
     "data": {
      "text/plain": [
       "'ABCKK13'"
      ]
     },
     "execution_count": 5,
     "metadata": {},
     "output_type": "execute_result"
    },
    {
     "data": {
      "text/plain": [
       "'ADDIJJJKKLSS20'"
      ]
     },
     "execution_count": 5,
     "metadata": {},
     "output_type": "execute_result"
    }
   ],
   "source": [
    "solution(\"K1KA5CB7\")\n",
    "solution(\"AJKDLSI412K4JSJ9D\")"
   ]
  },
  {
   "cell_type": "markdown",
   "id": "af93b596",
   "metadata": {},
   "source": [
    "## 09 문자열 압축 "
   ]
  },
  {
   "cell_type": "markdown",
   "id": "e360cc22",
   "metadata": {},
   "source": [
    "- 압축할 문자열 s가 매개변수로 주어질 때, 1개 이상 단위로 문자열을 잘라 압 축하여 표현한 문자열 중 가장 짧은 것의 길이를 return 하도록 solution 함수를 완성해주세요.\n",
    "- 제한 사항\n",
    "- s의 길이는 1 이상 1,000 이하입니다.\n",
    "- s는 알파벳 소문자로만 이루어져 있습니다"
   ]
  },
  {
   "cell_type": "code",
   "execution_count": 6,
   "id": "8ee43a03",
   "metadata": {},
   "outputs": [],
   "source": [
    "def solution(s: str) -> int:\n",
    "    answer = len(s)\n",
    "    dict = {}\n",
    "    for i in range(1, len(s)+1):\n",
    "        lst = []\n",
    "        for j in range(0, len(s), i):\n",
    "            lst.append(s[j:j+i])\n",
    "        \n",
    "        s_lst = []\n",
    "        if len(lst) == 1:\n",
    "            s_lst.append([lst[0], 1])\n",
    "        \n",
    "        for k in range(len(lst)-1):\n",
    "            if k == 0:\n",
    "                s_lst.append([lst[k], 1])\n",
    "            if lst[k] != lst[k+1]:\n",
    "                s_lst.append([lst[k+1], 1])\n",
    "            else:\n",
    "                s_lst[-1][1] += 1\n",
    "                \n",
    "        string = \"\"\n",
    "        for l in range(len(s_lst)):\n",
    "            if s_lst[l][1] == 1:\n",
    "                string += s_lst[l][0]\n",
    "            else:\n",
    "                string += str(s_lst[l][1]) + s_lst[l][0]\n",
    "        answer = min(answer, len(string))\n",
    "                     \n",
    "    return answer"
   ]
  },
  {
   "cell_type": "code",
   "execution_count": 7,
   "id": "7f5838b6",
   "metadata": {
    "scrolled": true
   },
   "outputs": [
    {
     "data": {
      "text/plain": [
       "7"
      ]
     },
     "execution_count": 7,
     "metadata": {},
     "output_type": "execute_result"
    },
    {
     "data": {
      "text/plain": [
       "9"
      ]
     },
     "execution_count": 7,
     "metadata": {},
     "output_type": "execute_result"
    },
    {
     "data": {
      "text/plain": [
       "8"
      ]
     },
     "execution_count": 7,
     "metadata": {},
     "output_type": "execute_result"
    },
    {
     "data": {
      "text/plain": [
       "14"
      ]
     },
     "execution_count": 7,
     "metadata": {},
     "output_type": "execute_result"
    },
    {
     "data": {
      "text/plain": [
       "17"
      ]
     },
     "execution_count": 7,
     "metadata": {},
     "output_type": "execute_result"
    }
   ],
   "source": [
    "solution(\"aabbaccc\")\n",
    "solution(\"ababcdcdababcdcd\")\n",
    "solution(\"abcabcdede\")\n",
    "solution(\"abcabcabcabcdededededede\")\n",
    "solution(\"xababcdcdababcdcd\")"
   ]
  },
  {
   "cell_type": "markdown",
   "id": "93a12535",
   "metadata": {},
   "source": [
    "## 10 자물쇠와 열쇠\n",
    "https://programmers.co.kr/learn/courses/30/lessons/60059\n",
    "\n",
    "- 잠겨있는 자물쇠는 격자 한 칸의 크기가 1×1인 N×N 크기의 정사각 격자 형태이고 특이한 모양의 열쇠는 M×M 크기인 정사각 격자 형태로 되어 있습니다. 자물쇠에는 홈이 파여 있고 열쇠 또한 홈과 돌기 부분이 있습니다. 열쇠는 회전과 이동이 가능하며 열쇠의 돌기 부분을 자물쇠의 홈 부분에 딱 맞게 채우면 자물쇠가 열리게 되는 구조입니다. 열쇠의 돌기와 자물쇠의 돌기가 만나서는 안 됩니다.(둘다 1이면 안 됨) 또한 자물쇠의 모든 홈을 채워 비어있는 곳이 없어야 자물쇠를 열 수 있습니다.\n",
    "\n",
    "- 열쇠를 나타내는 2차원 배열 key와 자물쇠를 나타내는 2차원 배열 lock이 매개변수로 주어질 때, 열쇠로 자물쇠를 열 수 있으면 true를, 열 수 없으면 false를 return 하도록 solution 함수를 완성 해주세요\n",
    "\n",
    "- key는 M × M(3 ≤ M ≤ 20, M은 자연수) 크기 2차원 배열입니다.\n",
    "- lock은 N × N(3 ≤ N ≤ 20, N은 자연수) 크기 2차원 배열입니다.\n",
    "- M은 항상 N 이하입니다.\n",
    "- key와 lock의 원소는 0 또는 1로 이루어져 있습니다. 이때 0은 홈 부분, 1은 돌기 부분을 나타냅니다"
   ]
  },
  {
   "cell_type": "code",
   "execution_count": 8,
   "id": "cd072c49",
   "metadata": {},
   "outputs": [],
   "source": [
    "def solution(key: list, lock: list) -> bool:\n",
    "    n, m = len(lock), len(key)\n",
    "    x_lock_zero, y_lock_zero, x_lock_one, y_lock_one = get_index_list(lock)    \n",
    "    \n",
    "    for _ in range(4):\n",
    "        key = list(map(list, zip(*key[::-1])))\n",
    "        _, _, x_key, y_key = get_index_list(key)\n",
    "    \n",
    "        for i in range(-m-1, n+1):\n",
    "            move_x_key = [i+x for x in x_key]\n",
    "            for j in range(-m-1, n+1):\n",
    "                move_y_key = [j+y for y in y_key]\n",
    "                \n",
    "                key_pointer = set(point for point in zip(move_x_key, move_y_key))\n",
    "                lock_one_pointer = set(point for point in zip(x_lock_one, y_lock_one))\n",
    "                lock_zero_pointer = set(point for point in zip(x_lock_zero, y_lock_zero))\n",
    "    \n",
    "                if len(lock_zero_pointer - key_pointer) == 0 and len(key_pointer - lock_one_pointer) == len(key_pointer):\n",
    "                    return True\n",
    "    return False\n",
    "                            \n",
    "def get_index_list(lst: list) -> list:\n",
    "    x_zero, y_zero, x_one, y_one = [], [], [], []\n",
    "    for i in range(len(lst)):\n",
    "        for j in range(len(lst)):\n",
    "            if lst[j][i] == 1:\n",
    "                x_one.append(i+1)\n",
    "                y_one.append(j+1)\n",
    "            else:\n",
    "                x_zero.append(i+1)\n",
    "                y_zero.append(j+1)\n",
    "    return x_zero, y_zero, x_one, y_one"
   ]
  },
  {
   "cell_type": "code",
   "execution_count": 9,
   "id": "c8ba32e7",
   "metadata": {
    "scrolled": false
   },
   "outputs": [
    {
     "data": {
      "text/plain": [
       "True"
      ]
     },
     "execution_count": 9,
     "metadata": {},
     "output_type": "execute_result"
    }
   ],
   "source": [
    "solution([[0, 0, 0], [1, 0, 0], [0, 1, 1]], [[1, 1, 1], [1, 1, 0], [1, 0, 1]])"
   ]
  },
  {
   "cell_type": "markdown",
   "id": "db5b5263",
   "metadata": {},
   "source": [
    "## 11 뱀\n",
    "\n",
    "- ‘Dummy’라는 도스 게임이 있습니다. 이 게임에는 뱀이 나와서 기어 다니는데, 사과를 먹으면 뱀 길이가 늘어납니다. 뱀이 이리저리 기어 다니다가 벽 또는 자기 자신의 몸과 부딪히면 게임이 끝납니다.\n",
    "- 게임은 N × N 정사각 보드 위에서 진행되고, 몇몇 칸에는 사과가 놓여져 있습니다. 보드의 상하좌우 끝에는 벽이 있습니다. 게임을 시작할 때 뱀은 맨 위 맨 좌측에 위치하고 뱀의 길이는 1입니다. 뱀은 처음에 오른쪽을 향합니다.\n",
    "- 뱀은 매 초마다 이동을 하는데 다음과 같은 규칙을 따릅니다.\n",
    "\n",
    "- 먼저 뱀은 몸길이를 늘려 머리를 다음 칸에 위치시킵니다.\n",
    "- 만약 이동한 칸에 사과가 있다면, 그 칸에 있던 사과가 없어지고 꼬리는 움직이지 않습니다.\n",
    "- 만약 이동한 칸에 사과가 없다면, 몸길이를 줄여서 꼬리가 위치한 칸을 비워줍니다. 즉, 몸길이는 변하지 않습\n",
    "니다.\n",
    "- 사과의 위치와 뱀의 이동 경로가 주어질 때 이 게임이 몇 초에 끝나는지 계산하세요.\n",
    "\n",
    "- 입력 조건\n",
    "- 첫째 줄에 보드의 크기 N이 주어집니다. (2 ≤ N ≤ 100) 다음 줄에 사과의 개수 K가 주어집니다. (0 ≤ K ≤ 100)\n",
    "- 다음 K개의 줄에는 사과의 위치가 주어지는데, 첫 번째 정수는 행, 두 번째 정수는 열 위치를 의미합니다. 사과의 위치는 모두 다르며, 맨 위 맨 좌측(1행 1열)에는 사과가 없습니다.\n",
    "- 다음 줄에는 뱀의 방향 변환 횟수 L이 주어집니다. (1 ≤ L ≤ 100)\n",
    "- 다음 L개의 줄에는 뱀의 방향 변환 정보가 주어지는데, 정수 X와 문자 C로 이루어져 있으며. 게임 시작 \n",
    "- 시간으로부터 X초가 끝난 뒤에 왼쪽(C가 ‘L’) 또는 오른쪽(C가 ‘D’)으로 90도 방향을 회전시킨다는 뜻입니다. X는 10,000 이하의 양의 정수이며, 방향 전환 정보는 X가 증가하는 순으로 주어집니다.\n",
    "- 출력 조건\n",
    "- 첫째 줄에 게임이 몇 초에 끝나는지 출력합니다"
   ]
  },
  {
   "cell_type": "markdown",
   "id": "7fcb805f",
   "metadata": {},
   "source": [
    "#### Add element to the start\n",
    "deq.appendleft(10)\n",
    "\n",
    "#### Add element to the end\n",
    "deq.append(0)\n",
    "\n",
    "#### Pop element from the start\n",
    "deq.popleft()\n",
    "\n",
    "#### Pop element from the end\n",
    "deq.pop()"
   ]
  },
  {
   "cell_type": "code",
   "execution_count": 184,
   "id": "bd090ef3",
   "metadata": {},
   "outputs": [],
   "source": [
    "from collections import deque\n",
    "def solution() -> int:\n",
    "    \n",
    "    # setting variables\n",
    "    n = int(input())\n",
    "    k = int(input())\n",
    "    apples = []\n",
    "    for _ in range(k):\n",
    "        x, y = input().split()\n",
    "        apples.append((int(y), int(x)))\n",
    "    \n",
    "    l = int(input())\n",
    "    turns = []\n",
    "    for _ in range(l):\n",
    "        time, direc = input().split()\n",
    "        turns.append((int(time), direc))\n",
    "    \n",
    "    # 'H' = hold\n",
    "    plays = ['H' for i in range(10000)]\n",
    "    for i in turns:\n",
    "        plays[i[0]] = i[1]\n",
    "    \n",
    "    # create snake\n",
    "    snakes = deque([(1, 1, 'r')])\n",
    "    \n",
    "    # playing\n",
    "    count = 1\n",
    "    for play in range(10000):\n",
    "        next_point = get_next_point(snakes[-1], plays[play])\n",
    "        if next_point[0] < 1 or next_point[0] > n or next_point[1] < 1 or next_point[1] > n:\n",
    "            #print(\"범위초과\")\n",
    "            return count\n",
    "        for snake in snakes:\n",
    "            if next_point[0] == snake[0] and next_point[1] == snake[1]:\n",
    "                #print(\"자기 몸에 걸림\")\n",
    "                return count\n",
    "        count += 1\n",
    "        \n",
    "        snakes.append(next_point)\n",
    "        chk = 0\n",
    "        for apple in apples:\n",
    "            if next_point[0] == apple[0] and next_point[1] == apple[1]:\n",
    "                apples.remove(apple)\n",
    "                chk = 1\n",
    "        if chk == 0:        \n",
    "            snakes.popleft()        \n",
    "    return count\n",
    "        \n",
    "\n",
    "def get_next_point(head: tuple, direction: str) -> tuple:\n",
    "    direc = ['u', 'r', 'd', 'l']\n",
    "    plus = [-1, 1, 1, -1]\n",
    "    origin_direction = direc.index(head[2])\n",
    "    if direction == \"H\":\n",
    "        if direc[origin_direction] == 'u' or direc[origin_direction] == 'd':\n",
    "            next_point = (head[0], head[1] + plus[origin_direction], direc[origin_direction])\n",
    "        else:\n",
    "            next_point = (head[0] + plus[origin_direction], head[1], direc[origin_direction])    \n",
    "    elif direction == \"D\":\n",
    "        after_direction = direc[(origin_direction + 1) % len(direc)]\n",
    "        if after_direction == 'u' or after_direction == 'd':\n",
    "            next_point = (head[0], head[1] + plus[direc.index(after_direction)], after_direction)\n",
    "        else:\n",
    "            next_point = (head[0] + plus[direc.index(after_direction)], head[1], after_direction)\n",
    "        \n",
    "    elif direction == \"L\":\n",
    "        after_direction = direc[(origin_direction - 1) % len(direc)]\n",
    "        if after_direction == 'l' or after_direction == 'r':\n",
    "            next_point = (head[0] + plus[direc.index(after_direction)], head[1], after_direction)\n",
    "        else:\n",
    "            next_point = (head[0], head[1] + plus[direc.index(after_direction)], after_direction)\n",
    "    return next_point"
   ]
  },
  {
   "cell_type": "code",
   "execution_count": 187,
   "id": "9805f5df",
   "metadata": {},
   "outputs": [
    {
     "name": "stdout",
     "output_type": "stream",
     "text": [
      "6\n",
      "3\n",
      "3 4\n",
      "2 5\n",
      "5 3\n",
      "3\n",
      "3 D\n",
      "15 L\n",
      "17 D\n",
      "(4, 7, 'd')\n",
      "범위초과\n"
     ]
    },
    {
     "data": {
      "text/plain": [
       "9"
      ]
     },
     "execution_count": 187,
     "metadata": {},
     "output_type": "execute_result"
    }
   ],
   "source": [
    "solution()"
   ]
  },
  {
   "cell_type": "code",
   "execution_count": 185,
   "id": "420f0421",
   "metadata": {
    "scrolled": false
   },
   "outputs": [
    {
     "name": "stdout",
     "output_type": "stream",
     "text": [
      "10\n",
      "4\n",
      "1 2\n",
      "1 3\n",
      "1 4\n",
      "1 5\n",
      "4\n",
      "8 D\n",
      "10 D\n",
      "11 D\n",
      "13 L\n",
      "(0, 1, 'l')\n",
      "범위초과\n"
     ]
    },
    {
     "data": {
      "text/plain": [
       "21"
      ]
     },
     "execution_count": 185,
     "metadata": {},
     "output_type": "execute_result"
    }
   ],
   "source": [
    "solution()"
   ]
  },
  {
   "cell_type": "code",
   "execution_count": 186,
   "id": "9f74f295",
   "metadata": {},
   "outputs": [
    {
     "name": "stdout",
     "output_type": "stream",
     "text": [
      "10\n",
      "5\n",
      "1 5\n",
      "1 3\n",
      "1 2\n",
      "1 6\n",
      "1 7\n",
      "4\n",
      "8 D\n",
      "10 D\n",
      "11 D\n",
      "13 L\n",
      "자기 몸에 걸림\n"
     ]
    },
    {
     "data": {
      "text/plain": [
       "13"
      ]
     },
     "execution_count": 186,
     "metadata": {},
     "output_type": "execute_result"
    }
   ],
   "source": [
    "solution()"
   ]
  }
 ],
 "metadata": {
  "kernelspec": {
   "display_name": "Python 3 (ipykernel)",
   "language": "python",
   "name": "python3"
  },
  "language_info": {
   "codemirror_mode": {
    "name": "ipython",
    "version": 3
   },
   "file_extension": ".py",
   "mimetype": "text/x-python",
   "name": "python",
   "nbconvert_exporter": "python",
   "pygments_lexer": "ipython3",
   "version": "3.11.1"
  }
 },
 "nbformat": 4,
 "nbformat_minor": 5
}
