{
 "cells": [
  {
   "cell_type": "code",
   "execution_count": 1,
   "id": "0ffbafde",
   "metadata": {},
   "outputs": [
    {
     "data": {
      "text/plain": [
       "56"
      ]
     },
     "execution_count": 1,
     "metadata": {},
     "output_type": "execute_result"
    }
   ],
   "source": [
    "# eval() : 문자열 형식의 수식을 계산\n",
    "eval(\"(3+5) *7\")"
   ]
  },
  {
   "cell_type": "code",
   "execution_count": 2,
   "id": "af1d2ca5",
   "metadata": {},
   "outputs": [],
   "source": [
    "# list.sort() : 배열 자체를 정렬\n",
    "# sorted() : 정렬한 배열을 반환"
   ]
  },
  {
   "cell_type": "code",
   "execution_count": 3,
   "id": "daaced11",
   "metadata": {},
   "outputs": [
    {
     "name": "stdout",
     "output_type": "stream",
     "text": [
      "[('A', 'B', 'C'), ('A', 'C', 'B'), ('B', 'A', 'C'), ('B', 'C', 'A'), ('C', 'A', 'B'), ('C', 'B', 'A')]\n",
      "[('A', 'B'), ('A', 'C'), ('B', 'C')]\n"
     ]
    }
   ],
   "source": [
    "# itertools\n",
    "\n",
    "# permutaion : 조합\n",
    "from itertools import permutations\n",
    "data = ['A', 'B', 'C'] # 데이터 준비\n",
    "result = list(permutations(data, 3)) # 모든 순열 구하기\n",
    "print(result)\n",
    "# combination : 순열\n",
    "from itertools import combinations\n",
    "data = ['A', 'B', 'C'] # 데이터 준비\n",
    "result = list(combinations(data, 2)) # 2개를 뽑는 모든 조합 구하기\n",
    "print(result)"
   ]
  },
  {
   "cell_type": "code",
   "execution_count": 4,
   "id": "493caff4",
   "metadata": {},
   "outputs": [
    {
     "name": "stdout",
     "output_type": "stream",
     "text": [
      "[('A', 'A'), ('A', 'B'), ('A', 'C'), ('B', 'A'), ('B', 'B'), ('B', 'C'), ('C', 'A'), ('C', 'B'), ('C', 'C')]\n"
     ]
    }
   ],
   "source": [
    "from itertools import product\n",
    "data = ['A', 'B', 'C'] # 데이터 준비\n",
    "result = list(product(data, repeat=2)) # 2개를 뽑는 모든 순열 구하기(중복 허용)\n",
    "print(result)"
   ]
  },
  {
   "cell_type": "code",
   "execution_count": 6,
   "id": "9772dffe",
   "metadata": {},
   "outputs": [
    {
     "name": "stdout",
     "output_type": "stream",
     "text": [
      "[0, 1, 2, 3, 4, 5, 6, 7, 8, 9]\n"
     ]
    }
   ],
   "source": [
    "import heapq\n",
    "def heapsort(iterable):\n",
    "    h = []\n",
    "    result = []\n",
    "    # 모든 원소를 차례대로 힙에 삽입\n",
    "    for value in iterable:\n",
    "        heapq.heappush(h, value)\n",
    "    # 힙에 삽입된 모든 원소를 차례대로 꺼내어 담기\n",
    "    for i in range(len(h)):\n",
    "        result.append(heapq.heappop(h))\n",
    "    return result\n",
    "result = heapsort([1, 3, 5, 7, 9, 2, 4, 6, 8, 0])\n",
    "print(result)"
   ]
  },
  {
   "cell_type": "code",
   "execution_count": 7,
   "id": "1db0d202",
   "metadata": {},
   "outputs": [
    {
     "name": "stdout",
     "output_type": "stream",
     "text": [
      "[9, 8, 7, 6, 5, 4, 3, 2, 1, 0]\n"
     ]
    }
   ],
   "source": [
    "# 최대 힙 구현\n",
    "# 음수 처리해서 힙에 담은 후, 빼낼 때 다시 음수 처리\n",
    "import heapq\n",
    "def heapsort(iterable):\n",
    "    h = []\n",
    "    result = []\n",
    "   # 모든 원소를 차례대로 힙에 삽입\n",
    "    for value in iterable:\n",
    "        heapq.heappush(h, -value)\n",
    "    # 힙에 삽입된 모든 원소를 차례대로 꺼내어 담기\n",
    "    for i in range(len(h)):\n",
    "        result.append(-heapq.heappop(h))\n",
    "    return result\n",
    "\n",
    "result = heapsort([1, 3, 5, 7, 9, 2, 4, 6, 8, 0])\n",
    "print(result)"
   ]
  },
  {
   "cell_type": "code",
   "execution_count": 9,
   "id": "497778e3",
   "metadata": {},
   "outputs": [
    {
     "name": "stdout",
     "output_type": "stream",
     "text": [
      "2\n",
      "4\n"
     ]
    }
   ],
   "source": [
    "# bisect : 이진 탐색을 쉽게 구현\n",
    "# 정렬된 배열에서 특정 원소를 찾아야 할 때 주로 사용\n",
    "# bisect_left(), bisect_right() ==> O(logN)\n",
    "\n",
    "# bisect_left(a, x) : \n",
    "#정렬된 순서를 유지하면서 리스트 a에 데이터 x를 삽입할 가장 왼쪽 인덱스를 찾는 메서드\n",
    "\n",
    "# bisect_right(a, x) : \n",
    "#정렬된 순서를 유지하도록 리스트 a에 데이터 x를 삽입할 가장 오른쪽 인덱스를 찾는 메서드\n",
    "\n",
    "# 배열 [1,2,4,4,8]이 있을 때 4를 삽입하는 가정\n",
    "\n",
    "from bisect import bisect_left, bisect_right\n",
    "a = [1,2,4,4,8]\n",
    "x = 4\n",
    "\n",
    "print(bisect_left(a, 4))\n",
    "print(bisect_right(a, 4))\n"
   ]
  },
  {
   "cell_type": "code",
   "execution_count": 11,
   "id": "5e7ecdc2",
   "metadata": {},
   "outputs": [
    {
     "name": "stdout",
     "output_type": "stream",
     "text": [
      "2\n",
      "6\n"
     ]
    }
   ],
   "source": [
    "# 값이 특정 범위에 속하는 원소의 개수\n",
    "# ==> bisect\n",
    "# left_val <= x <= right_val을 O(logN)에 구할 수 있게 해줌\n",
    "\n",
    "from bisect import bisect_left, bisect_right\n",
    "\n",
    "def count_by_range(a, left_value, right_value):\n",
    "    right_index = bisect_right(a, right_value)\n",
    "    left_index = bisect_left(a, left_value)\n",
    "    return right_index - left_index\n",
    "\n",
    "a = [1, 2, 3, 3, 3, 3, 4, 4, 8, 9]\n",
    "\n",
    "# 값이 4인 데이터 개수 출력\n",
    "print(count_by_range(a, 4, 4))\n",
    "\n",
    "# 값이 [-1, 3]범위에 있는 데이터 개수 출력\n",
    "print(count_by_range(a, -1, 3))"
   ]
  },
  {
   "cell_type": "code",
   "execution_count": 12,
   "id": "eb0d4436",
   "metadata": {},
   "outputs": [
    {
     "name": "stdout",
     "output_type": "stream",
     "text": [
      "deque([1, 2, 3, 4, 5])\n",
      "[1, 2, 3, 4, 5]\n"
     ]
    }
   ],
   "source": [
    "# deque 빠르게 앞에 있는 원소를 처리해야 할 때\n",
    "# 단, 인덱싱, 슬라이스 기능은 사용할 수 없음\n",
    "\n",
    "from collections import deque\n",
    "data = deque([2, 3, 4])\n",
    "data.appendleft(1)\n",
    "data.append(5)\n",
    "print(data)\n",
    "print(list(data)) # 리스트 자료형으로 변환"
   ]
  },
  {
   "cell_type": "code",
   "execution_count": 13,
   "id": "3e743fc0",
   "metadata": {},
   "outputs": [
    {
     "name": "stdout",
     "output_type": "stream",
     "text": [
      "3\n",
      "1\n",
      "{'red': 2, 'blue': 3, 'green': 1}\n"
     ]
    }
   ],
   "source": [
    "# Counter : 등장 횟수 세기\n",
    "from collections import Counter\n",
    "counter = Counter(['red', 'blue', 'red', 'green', 'blue', 'blue'])\n",
    "print(counter['blue']) # 'blue'가 등장한 횟수 출력\n",
    "print(counter['green']) # 'green'이 등장한 횟수 출력\n",
    "print(dict(counter)) # 사전 자료형으로 변환"
   ]
  },
  {
   "cell_type": "code",
   "execution_count": 14,
   "id": "94b0bedb",
   "metadata": {},
   "outputs": [
    {
     "name": "stdout",
     "output_type": "stream",
     "text": [
      "120\n"
     ]
    }
   ],
   "source": [
    "# math\n",
    "import math\n",
    "\n",
    "print(math.factorial(5))"
   ]
  },
  {
   "cell_type": "code",
   "execution_count": 15,
   "id": "8fbc4e52",
   "metadata": {},
   "outputs": [
    {
     "data": {
      "text/plain": [
       "2.0"
      ]
     },
     "execution_count": 15,
     "metadata": {},
     "output_type": "execute_result"
    }
   ],
   "source": [
    "math.sqrt(4)"
   ]
  },
  {
   "cell_type": "code",
   "execution_count": 16,
   "id": "09bf3529",
   "metadata": {},
   "outputs": [
    {
     "data": {
      "text/plain": [
       "7"
      ]
     },
     "execution_count": 16,
     "metadata": {},
     "output_type": "execute_result"
    }
   ],
   "source": [
    "# 최대 공약수\n",
    "math.gcd(21, 14)"
   ]
  },
  {
   "cell_type": "code",
   "execution_count": 17,
   "id": "6601f29c",
   "metadata": {},
   "outputs": [
    {
     "data": {
      "text/plain": [
       "3.141592653589793"
      ]
     },
     "execution_count": 17,
     "metadata": {},
     "output_type": "execute_result"
    }
   ],
   "source": [
    "math.pi"
   ]
  },
  {
   "cell_type": "code",
   "execution_count": 18,
   "id": "6d50a7a4",
   "metadata": {},
   "outputs": [
    {
     "data": {
      "text/plain": [
       "2.718281828459045"
      ]
     },
     "execution_count": 18,
     "metadata": {},
     "output_type": "execute_result"
    }
   ],
   "source": [
    "math.e"
   ]
  },
  {
   "cell_type": "code",
   "execution_count": null,
   "id": "d2ba2096",
   "metadata": {},
   "outputs": [],
   "source": []
  }
 ],
 "metadata": {
  "kernelspec": {
   "display_name": "Python 3 (ipykernel)",
   "language": "python",
   "name": "python3"
  },
  "language_info": {
   "codemirror_mode": {
    "name": "ipython",
    "version": 3
   },
   "file_extension": ".py",
   "mimetype": "text/x-python",
   "name": "python",
   "nbconvert_exporter": "python",
   "pygments_lexer": "ipython3",
   "version": "3.11.1"
  }
 },
 "nbformat": 4,
 "nbformat_minor": 5
}
