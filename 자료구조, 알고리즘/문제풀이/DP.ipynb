{
 "cells": [
  {
   "cell_type": "markdown",
   "id": "683aa2c9",
   "metadata": {},
   "source": [
    "# DP"
   ]
  },
  {
   "cell_type": "markdown",
   "id": "b37d28f5",
   "metadata": {},
   "source": [
    "1. 큰 문제를 작은 문제로 나눌 수 있다.\n",
    "2. 작은 문제에서 구한 정답은 그것을 포함하는 큰 문제에서도 동일하다."
   ]
  },
  {
   "cell_type": "markdown",
   "id": "047b8941",
   "metadata": {},
   "source": [
    "- ex. fibonacci : memoization"
   ]
  },
  {
   "cell_type": "markdown",
   "id": "ed77bc96",
   "metadata": {},
   "source": [
    "- 해결하고자 하는 문제의 중복 부분을 생각하면, 떠올리기 쉬움"
   ]
  },
  {
   "cell_type": "markdown",
   "id": "7cdd364e",
   "metadata": {},
   "source": [
    "# Q.3 개미전사"
   ]
  },
  {
   "cell_type": "code",
   "execution_count": 2,
   "id": "a7920d10",
   "metadata": {},
   "outputs": [],
   "source": [
    "n = 4\n",
    "a = [1,3,1,5]"
   ]
  },
  {
   "cell_type": "code",
   "execution_count": 6,
   "id": "903455ff",
   "metadata": {},
   "outputs": [],
   "source": [
    "def solution(n, a) -> int:\n",
    "    d = [0 for i in range(n)]\n",
    "    d[0] = a[0]\n",
    "    d[1] = max(a[0], a[1])\n",
    "    \n",
    "    for i in range(2, n):\n",
    "        d[i] = max(a[i] + d[i-2], d[i-1])\n",
    "    \n",
    "    print(d[n-1])"
   ]
  },
  {
   "cell_type": "code",
   "execution_count": 7,
   "id": "c5cfd971",
   "metadata": {},
   "outputs": [
    {
     "name": "stdout",
     "output_type": "stream",
     "text": [
      "8\n"
     ]
    }
   ],
   "source": [
    "solution(n, a)"
   ]
  },
  {
   "cell_type": "markdown",
   "id": "8a189115",
   "metadata": {},
   "source": [
    "# Q.4 바닥공사"
   ]
  },
  {
   "cell_type": "code",
   "execution_count": 16,
   "id": "eb5727ee",
   "metadata": {},
   "outputs": [],
   "source": [
    "def solution(n) -> int:\n",
    "    d = [0 for i in range(n)]\n",
    "    d[0] = 1\n",
    "    d[1] = 3\n",
    "    \n",
    "    for i in range(2, n):\n",
    "        d[i] = (d[i-1] + 2*d[i-2]) % 796796\n",
    "        \n",
    "    print(d[n-1])"
   ]
  },
  {
   "cell_type": "code",
   "execution_count": 17,
   "id": "f4c58a20",
   "metadata": {},
   "outputs": [
    {
     "name": "stdout",
     "output_type": "stream",
     "text": [
      "5\n"
     ]
    }
   ],
   "source": [
    "solution(3)"
   ]
  },
  {
   "cell_type": "markdown",
   "id": "d67f0943",
   "metadata": {},
   "source": [
    "# Q31 금광"
   ]
  },
  {
   "cell_type": "code",
   "execution_count": 72,
   "id": "23a8f7e6",
   "metadata": {},
   "outputs": [],
   "source": [
    "def solution() -> int:\n",
    "    t = int(input())\n",
    "    \n",
    "    for _ in range(t):\n",
    "        n, m = map(int, input().split())\n",
    "        nums = list(map(int, input().split()))\n",
    "        a = [[] for _ in range(n)]\n",
    "        j = 0\n",
    "        for i in range(n):\n",
    "            for _ in range(m):\n",
    "                a[i].append(nums[j])\n",
    "                j += 1\n",
    "        d = [[0] * m for _ in range(n) ]\n",
    "        for i in range(3):\n",
    "            d[i][0] = a[i][0]\n",
    "        # 가로\n",
    "        for i in range(m):\n",
    "            # 세로\n",
    "            for j in range(n):\n",
    "                if j == 0:\n",
    "                    d[j][i] = a[j][i] + max(d[j+1][i-1], d[j][i-1])\n",
    "                elif j == n-1:\n",
    "                    d[j][i] = a[j][i] + max(d[j-1][i-1], d[j][i-1])\n",
    "                else:\n",
    "                    d[j][i] = a[j][i] + max(d[j-1][i-1], d[j][i-1], d[j+1][i-1])\n",
    "        \n",
    "        print(max([d[i][m-1] for i in range(n)])) "
   ]
  },
  {
   "cell_type": "code",
   "execution_count": 73,
   "id": "8a4dbd0a",
   "metadata": {},
   "outputs": [
    {
     "name": "stdout",
     "output_type": "stream",
     "text": [
      "2\n",
      "3 4\n",
      "1 3 3 2 2 1 4 1 0 6 4 7\n",
      "19\n",
      "4 4\n",
      "1 3 1 5 2 2 4 1 5 0 2 3 0 6 1 2\n",
      "16\n"
     ]
    }
   ],
   "source": [
    "solution()"
   ]
  },
  {
   "cell_type": "code",
   "execution_count": null,
   "id": "622bf677",
   "metadata": {},
   "outputs": [],
   "source": []
  }
 ],
 "metadata": {
  "kernelspec": {
   "display_name": "Python 3 (ipykernel)",
   "language": "python",
   "name": "python3"
  },
  "language_info": {
   "codemirror_mode": {
    "name": "ipython",
    "version": 3
   },
   "file_extension": ".py",
   "mimetype": "text/x-python",
   "name": "python",
   "nbconvert_exporter": "python",
   "pygments_lexer": "ipython3",
   "version": "3.11.1"
  }
 },
 "nbformat": 4,
 "nbformat_minor": 5
}
