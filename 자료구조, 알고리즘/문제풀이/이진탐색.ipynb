{
 "cells": [
  {
   "cell_type": "code",
   "execution_count": 1,
   "id": "69d995e1",
   "metadata": {},
   "outputs": [],
   "source": [
    "# count메서드는 순차 탐색"
   ]
  },
  {
   "cell_type": "markdown",
   "id": "f1a498aa",
   "metadata": {},
   "source": [
    "# 이진탐색\n",
    "- O(logN)\n",
    "- 정렬된 데이터에서 탐색 속도 높이기"
   ]
  },
  {
   "cell_type": "code",
   "execution_count": 2,
   "id": "7681726d",
   "metadata": {},
   "outputs": [],
   "source": [
    "# 재귀함수로 구현하기\n",
    "\n",
    "def binary_search(array, target, start, end):\n",
    "    if start > end:\n",
    "        return None\n",
    "    mid = (start + end) // 2\n",
    "    \n",
    "    if array[mid] == target:\n",
    "        return mid\n",
    "    \n",
    "    elif array[mid] > target:\n",
    "        return binary_search(array, target, start, mid-1)\n",
    "    \n",
    "    else:\n",
    "        return binary_search(array, target, mid+1, end)"
   ]
  },
  {
   "cell_type": "code",
   "execution_count": 3,
   "id": "38e1c551",
   "metadata": {},
   "outputs": [
    {
     "name": "stdout",
     "output_type": "stream",
     "text": [
      "10 7\n",
      "1 3 5 7 9 11 13 15 17 19\n",
      "7\n"
     ]
    }
   ],
   "source": [
    "n, target = list(map(int, input().split()))\n",
    "array = list(map(int, input().split()))\n",
    "\n",
    "result = binary_search(array, target, 0, n-1)\n",
    "if result == None:\n",
    "    print(\"원소가 없습니다.\")\n",
    "else:\n",
    "    print(array[result])"
   ]
  },
  {
   "cell_type": "code",
   "execution_count": 4,
   "id": "94426410",
   "metadata": {},
   "outputs": [],
   "source": [
    "# 반복문으로 구현하기\n",
    "\n",
    "def binary_search(array, target, start, end):\n",
    "    while start <= end:\n",
    "        mid = (start+end)//2\n",
    "        \n",
    "        if array[mid] == target:\n",
    "            return mid\n",
    "        elif array[mid] > target:\n",
    "            end = mid -1\n",
    "        else:\n",
    "            start = mid +1\n",
    "    return None"
   ]
  },
  {
   "cell_type": "code",
   "execution_count": 5,
   "id": "4d1a4bb7",
   "metadata": {},
   "outputs": [
    {
     "name": "stdout",
     "output_type": "stream",
     "text": [
      "10 7\n",
      "1 3 5 7 9 11 13 15 17 19\n",
      "7\n"
     ]
    }
   ],
   "source": [
    "n, target = list(map(int, input().split()))\n",
    "array = list(map(int, input().split()))\n",
    "\n",
    "result = binary_search(array, target, 0, n-1)\n",
    "if result == None:\n",
    "    print(\"원소가 없습니다.\")\n",
    "else:\n",
    "    print(array[result])"
   ]
  },
  {
   "cell_type": "code",
   "execution_count": 7,
   "id": "4cae90b5",
   "metadata": {},
   "outputs": [
    {
     "name": "stdout",
     "output_type": "stream",
     "text": [
      "\n"
     ]
    }
   ],
   "source": [
    "# 입력데이터가 많은 경우\n",
    "\n",
    "import sys\n",
    "input_data = sys.stdin.readline().rstrip() # rstrip = 엔터 공백문자 제거\n",
    "\n",
    "print(input_data)"
   ]
  },
  {
   "cell_type": "markdown",
   "id": "9d033514",
   "metadata": {},
   "source": [
    "# Q2. 부품찾기\n",
    "\n",
    "입력 조건\n",
    "•첫째 줄에 정수 N이 주어진다. (1 ≤ N ≤ 1,000,000)\n",
    "•둘째 줄에는 공백으로 구분하여 N개의 정수가 주어진다. 이때 정수는 1보다 크고 1,000,000 이하\n",
    "이다.\n",
    "•셋째 줄에는 정수 M이 주어진다. (1 ≤ M ≤ 100,000)\n",
    "•넷째 줄에는 공백으로 구분하여 M개의 정수가 주어진다. 이때 정수는 1보다 크고 1,000,000 이하\n",
    "이다.\n",
    "출력 조건\n",
    "•첫째 줄에 공백으로 구분하여 각 부품이 존재하면 yes를, 없으면 no를 출력한다."
   ]
  },
  {
   "cell_type": "code",
   "execution_count": 10,
   "id": "d9400f4e",
   "metadata": {},
   "outputs": [
    {
     "name": "stdout",
     "output_type": "stream",
     "text": [
      "5\n",
      "8 3 7 9 2\n",
      "3\n",
      "5 7 9\n",
      "no yes yes "
     ]
    }
   ],
   "source": [
    "def binary_search(array, target, start, end):\n",
    "    while start <= end:\n",
    "        mid = (start+end)//2\n",
    "        \n",
    "        if array[mid] == target:\n",
    "            return mid\n",
    "        elif array[mid] > target:\n",
    "            end = mid -1\n",
    "        else:\n",
    "            start = mid +1\n",
    "    return None\n",
    "\n",
    "n = int(input())\n",
    "array = list(map(int, input().split()))\n",
    "array.sort()\n",
    "\n",
    "m = int(input())\n",
    "x = list(map(int, input().split()))\n",
    "\n",
    "for i in x:\n",
    "    result = binary_search(array, i, 0, n-1)\n",
    "    if result != None:\n",
    "        print(\"yes\", end=' ')\n",
    "    else:\n",
    "        print(\"no\", end=' ')"
   ]
  },
  {
   "cell_type": "markdown",
   "id": "7402c450",
   "metadata": {},
   "source": [
    "# Q.3 떡볶이 떡 만들기"
   ]
  },
  {
   "cell_type": "markdown",
   "id": "aa9e58b9",
   "metadata": {},
   "source": [
    "입력 조건\n",
    "•첫째 줄에 떡의 개수 N과 요청한 떡의 길이 M이 주어진다. (1 ≤ N ≤ 1,000,000, 1 ≤ M ≤ \n",
    "2,000,000,000)\n",
    "•둘째 줄에는 떡의 개별 높이가 주어진다. 떡 높이의 총합은 항상 M 이상이므로, 손님은 필요한 양만큼 \n",
    "떡을 사갈 수 있다. 높이는 10억보다 작거나 같은 양의 정수 또는 0이다.\n",
    "출력 조건\n",
    "•적어도 M만큼의 떡을 집에 가져가기 위해 절단기에 설정할 수 있는 높이의 최댓값을 출력한다."
   ]
  },
  {
   "cell_type": "code",
   "execution_count": 11,
   "id": "b5559177",
   "metadata": {},
   "outputs": [],
   "source": [
    "# 파라메트릭 서치\n",
    "# 최적화 문제를 결정문제로 바꾸어 해결하는 기법\n",
    "# 범위 내에서 조건을 만족하는 가장 큰 값을 찾는 문제라면, \n",
    "# 이진 탐색으로 결정문제를 해결하면서 범위를 좁혀나가는 식으로 문제를 해결하는 방식"
   ]
  },
  {
   "cell_type": "code",
   "execution_count": 12,
   "id": "884872f4",
   "metadata": {},
   "outputs": [
    {
     "name": "stdout",
     "output_type": "stream",
     "text": [
      "4 6\n",
      "19 15 10 17\n",
      "15\n"
     ]
    }
   ],
   "source": [
    "# 떡의 개수(N)와 요청한 떡의 길이(M)을 입력받기\n",
    "n, m = list(map(int, input().split(' ')))\n",
    "# 각 떡의 개별 높이 정보를 입력받기\n",
    "array = list(map(int, input().split()))\n",
    "\n",
    "start = 0\n",
    "end = max(array)\n",
    "\n",
    "result = 0\n",
    "while(start <= end):\n",
    "    total = 0\n",
    "    mid = (start+end)//2\n",
    "    for x in array:\n",
    "        if x > mid:\n",
    "            total += x - mid\n",
    "    \n",
    "    if total < m:\n",
    "        end = mid -1\n",
    "    else:\n",
    "        # 최대한 덜 잘렸을 때가 정담\n",
    "        result = mid\n",
    "        start = mid + 1\n",
    "print(result)"
   ]
  },
  {
   "cell_type": "code",
   "execution_count": null,
   "id": "13f521b0",
   "metadata": {},
   "outputs": [],
   "source": []
  }
 ],
 "metadata": {
  "kernelspec": {
   "display_name": "Python 3 (ipykernel)",
   "language": "python",
   "name": "python3"
  },
  "language_info": {
   "codemirror_mode": {
    "name": "ipython",
    "version": 3
   },
   "file_extension": ".py",
   "mimetype": "text/x-python",
   "name": "python",
   "nbconvert_exporter": "python",
   "pygments_lexer": "ipython3",
   "version": "3.11.1"
  }
 },
 "nbformat": 4,
 "nbformat_minor": 5
}
