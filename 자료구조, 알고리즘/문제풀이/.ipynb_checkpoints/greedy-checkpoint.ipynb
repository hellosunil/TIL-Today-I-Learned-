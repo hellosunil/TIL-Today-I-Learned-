{
 "cells": [
  {
   "cell_type": "markdown",
   "id": "3c9a4e58",
   "metadata": {},
   "source": [
    "# 그리디\n",
    "- 현재 상황에서 가장 좋은 것을 선택하는 방법\n",
    "- 보통 특정 기준에 따라 좋은 것을 선택하므로 '가장 큰 순서', '가장 작은 순서'와 같은 기준이 제시될 가능성이 높다\n",
    "- 그리디 알고리즘의 정당성을 확인할 수 있어야 함(최소한의 아이디어 > 정당성 검증 과정)"
   ]
  },
  {
   "cell_type": "markdown",
   "id": "786ac532",
   "metadata": {},
   "source": [
    "## 1. 큰 수의 법칙\n",
    "\n",
    "- 배열의 크기 N, 숫자가 더해지는 횟수 M, 그리고 K가 주어질 때 동빈이의 큰 수의 법칙에 따른 결과를 출력하시오.\n",
    "- 입력 조건\n",
    "- 첫째 줄에 N(2 ≤ N ≤ 1,000), M(1 ≤ M ≤ 10,000), K(1 ≤ K ≤ 10,000)의 자연수가 주어지며, 각 자연수는 공백으로 구분한다.\n",
    "- 둘째 줄에 N개의 자연수가 주어진다. 각 자연수는 공백으로 구분한다. 단, 각각의 자연수는 1 이상 10,000 이하의 수로 주어진다.\n",
    "- 입력으로 주어지는 K는 항상 M보다 작거나 같다.\n",
    "- 출력 조건\n",
    "- 첫째 줄에 동빈이의 큰 수의 법칙에 따라 더해진 답을 출력한다"
   ]
  },
  {
   "cell_type": "code",
   "execution_count": 1,
   "id": "d93be444",
   "metadata": {},
   "outputs": [],
   "source": [
    "def solution() -> int:\n",
    "    n, m, k = map(int, input().split())\n",
    "    n_lst = sorted(list(map(int, input().split())))\n",
    "    s, r = divmod(m, k+1)\n",
    "    return (n_lst[-1] * (s * int(k) + r)) + (n_lst[-2] * s)"
   ]
  },
  {
   "cell_type": "code",
   "execution_count": 3,
   "id": "9d04b435",
   "metadata": {},
   "outputs": [
    {
     "name": "stdout",
     "output_type": "stream",
     "text": [
      "5 8 3\n",
      "2 4 5 4 6\n"
     ]
    },
    {
     "data": {
      "text/plain": [
       "46"
      ]
     },
     "execution_count": 3,
     "metadata": {},
     "output_type": "execute_result"
    }
   ],
   "source": [
    "solution()"
   ]
  },
  {
   "cell_type": "markdown",
   "id": "94537601",
   "metadata": {},
   "source": [
    "## 2. 숫자 카드 게임\n",
    "- 첫째 줄에 숫자 카드들이 놓인 행의 개수 N과 열의 개수 M이 공백을 기준으로 하여 각각 자연수로 주어진다. (1 ≤ N, M ≤ 100)\n",
    "- 둘째 줄부터 N개의 줄에 걸쳐 각 카드에 적힌 숫자가 주어진다. 각 숫자는 1 이상 10,000 이하의 자연수이다.\n",
    "- 출력 조건 첫째 줄에 게임의 룰에 맞게 선택한 카드에 적힌 숫자를 출력한다"
   ]
  },
  {
   "cell_type": "code",
   "execution_count": 12,
   "id": "8d50d67b",
   "metadata": {},
   "outputs": [],
   "source": [
    "def solution() -> int:\n",
    "    n, m = map(int, input().split())\n",
    "    n_lst = []\n",
    "    for _ in range(n):\n",
    "        n_lst.append(sorted(list(map(int, input().split())))[0])\n",
    "    return max(n_lst)"
   ]
  },
  {
   "cell_type": "code",
   "execution_count": 13,
   "id": "45f3238e",
   "metadata": {},
   "outputs": [
    {
     "name": "stdout",
     "output_type": "stream",
     "text": [
      "3 3\n",
      "3 1 2\n",
      "4 1 4\n",
      "2 2 2\n"
     ]
    },
    {
     "data": {
      "text/plain": [
       "2"
      ]
     },
     "execution_count": 13,
     "metadata": {},
     "output_type": "execute_result"
    }
   ],
   "source": [
    "solution()"
   ]
  },
  {
   "cell_type": "code",
   "execution_count": 14,
   "id": "b12a0419",
   "metadata": {},
   "outputs": [
    {
     "name": "stdout",
     "output_type": "stream",
     "text": [
      "2 4\n",
      "7 3 1 8\n",
      "3 3 3 4\n"
     ]
    },
    {
     "data": {
      "text/plain": [
       "3"
      ]
     },
     "execution_count": 14,
     "metadata": {},
     "output_type": "execute_result"
    }
   ],
   "source": [
    "solution()"
   ]
  },
  {
   "cell_type": "markdown",
   "id": "03f4ade4",
   "metadata": {},
   "source": [
    "## 3. 1이 될 때까지\n",
    "1. N에서 1을 뺀다.\n",
    "2. N을 K로 나눈다\n",
    "- 입력 조건\n",
    "- 첫째 줄에 N(2 ≤ N ≤ 100,000)과 K(2 ≤ K ≤ 100,000)가 공백으로 구분되며 각각 자연수로 주어진다. 이때 입력으로 주어지는 N은 항상 K보다 크거나 같다.\n",
    "- 출력 조건\n",
    "- 첫째 줄에 N이 1이 될 때까지 1번 혹은 2번의 과정을 수행해야 하는 횟수의 최솟값을 출력한다"
   ]
  },
  {
   "cell_type": "code",
   "execution_count": 18,
   "id": "ad5c5aa4",
   "metadata": {},
   "outputs": [],
   "source": [
    "def solution() -> int:\n",
    "    n, k = map(int, input().split())\n",
    "    cnt = 0\n",
    "    while(n != 1):\n",
    "        if n % k == 0:\n",
    "            n /= k\n",
    "            cnt += 1\n",
    "        else:\n",
    "            n -= 1\n",
    "            cnt += 1\n",
    "    return cnt"
   ]
  },
  {
   "cell_type": "code",
   "execution_count": 19,
   "id": "0d007d37",
   "metadata": {},
   "outputs": [
    {
     "name": "stdout",
     "output_type": "stream",
     "text": [
      "25 5\n"
     ]
    },
    {
     "data": {
      "text/plain": [
       "2"
      ]
     },
     "execution_count": 19,
     "metadata": {},
     "output_type": "execute_result"
    }
   ],
   "source": [
    "solution()"
   ]
  },
  {
   "cell_type": "markdown",
   "id": "7f546cbb",
   "metadata": {},
   "source": [
    "## 01 모험가 길드 \n",
    "공포도가 X인 모험가는 반드시 X명 \n",
    "이상으로 구성한 모험가 그룹에 참여해야 여행을 떠날 수 있도록 규정했습니다. 동빈이는 최대 몇 \n",
    "개의 모험가 그룹을 만들 수 있는지 궁금합니다.\n",
    "- 입력 조건\n",
    "- 첫째 줄에 모험가의 수 N이 주어집니다. (1 ≤ N ≤ 100,000)\n",
    "- 둘째 줄에 각 모험가의 공포도의 값을 N 이하의 자연수로 주어지며, 각 자연수는 공백으로 구분합니다.\n",
    "- 출력 조건\n",
    "- 여행을 떠날 수 있는 그룹 수의 최댓값을 출력합니다"
   ]
  },
  {
   "cell_type": "code",
   "execution_count": 26,
   "id": "bcd421bb",
   "metadata": {},
   "outputs": [],
   "source": [
    "def solution() -> int:\n",
    "    n = int(input())\n",
    "    f_list = sorted(list(map(int, input().split())))\n",
    "    g_list = []\n",
    "    cnt = 0\n",
    "    print(f_list)\n",
    "    for i in f_list:\n",
    "        g_list.append(i)\n",
    "        if len(g_list) == i:\n",
    "            cnt += 1\n",
    "            g_list = []\n",
    "    return cnt"
   ]
  },
  {
   "cell_type": "code",
   "execution_count": 27,
   "id": "e723d1e8",
   "metadata": {},
   "outputs": [
    {
     "name": "stdout",
     "output_type": "stream",
     "text": [
      "5\n",
      "1 2 2 2 3\n",
      "[1, 2, 2, 2, 3]\n"
     ]
    },
    {
     "data": {
      "text/plain": [
       "2"
      ]
     },
     "execution_count": 27,
     "metadata": {},
     "output_type": "execute_result"
    }
   ],
   "source": [
    "solution()"
   ]
  },
  {
   "cell_type": "code",
   "execution_count": 28,
   "id": "9cbf9a18",
   "metadata": {},
   "outputs": [
    {
     "name": "stdout",
     "output_type": "stream",
     "text": [
      "5\n",
      "1 2 3 4 5\n",
      "[1, 2, 3, 4, 5]\n"
     ]
    },
    {
     "data": {
      "text/plain": [
       "1"
      ]
     },
     "execution_count": 28,
     "metadata": {},
     "output_type": "execute_result"
    }
   ],
   "source": [
    "solution()"
   ]
  },
  {
   "cell_type": "code",
   "execution_count": 29,
   "id": "741a7fb2",
   "metadata": {
    "scrolled": true
   },
   "outputs": [
    {
     "name": "stdout",
     "output_type": "stream",
     "text": [
      "5\n",
      "1 2 3 3 5\n",
      "[1, 2, 3, 3, 5]\n"
     ]
    },
    {
     "data": {
      "text/plain": [
       "2"
      ]
     },
     "execution_count": 29,
     "metadata": {},
     "output_type": "execute_result"
    }
   ],
   "source": [
    "solution()"
   ]
  },
  {
   "cell_type": "markdown",
   "id": "f2bc91ca",
   "metadata": {},
   "source": [
    "## 02 곱하기 혹은 더하기\n",
    "숫자(0부터 9)로만 이루어진 문자열 S가 주어졌을 때, 왼쪽부터 오른쪽으로 하나씩 모든 \n",
    "숫자를 확인하며 숫자 사이에 ‘×’ 혹은 ‘+’ 연산자를 넣어 결과적으로 만들어질 수 있는 가장 큰 수\n",
    "를 구하는 프로그램을 작성하세요. 단, +보다 ×를 먼저 계산하는 일반적인 방식과는 달리, 모든 연\n",
    "산은 왼쪽에서부터 순서대로 이루어진다고 가정합니다.\n",
    "\n",
    "- 입력 조건\n",
    "- 첫째 줄에 여러 개의 숫자로 구성된 하나의 문자열 S가 주어집니다. (1 ≤ S의 길이 ≤ 20)\n",
    "- 출력 조건\n",
    "- 첫째 줄에 만들어질 수 있는 가장 큰 수를 출력합니다."
   ]
  },
  {
   "cell_type": "code",
   "execution_count": 41,
   "id": "7e7cf77d",
   "metadata": {},
   "outputs": [],
   "source": [
    "def solution() -> int:\n",
    "    s = list(map(int, input()))\n",
    "    n = s[0]\n",
    "    for i in s[1:]:\n",
    "        if n < 2 or i < 2:\n",
    "            n += i\n",
    "        else:\n",
    "            n *= i\n",
    "    return n"
   ]
  },
  {
   "cell_type": "code",
   "execution_count": 42,
   "id": "94d75700",
   "metadata": {},
   "outputs": [
    {
     "name": "stdout",
     "output_type": "stream",
     "text": [
      "02984\n"
     ]
    },
    {
     "data": {
      "text/plain": [
       "576"
      ]
     },
     "execution_count": 42,
     "metadata": {},
     "output_type": "execute_result"
    }
   ],
   "source": [
    "solution()"
   ]
  },
  {
   "cell_type": "code",
   "execution_count": 43,
   "id": "fb713d42",
   "metadata": {},
   "outputs": [
    {
     "name": "stdout",
     "output_type": "stream",
     "text": [
      "567\n"
     ]
    },
    {
     "data": {
      "text/plain": [
       "210"
      ]
     },
     "execution_count": 43,
     "metadata": {},
     "output_type": "execute_result"
    }
   ],
   "source": [
    "solution()"
   ]
  },
  {
   "cell_type": "code",
   "execution_count": 48,
   "id": "df3ef3f0",
   "metadata": {},
   "outputs": [
    {
     "data": {
      "text/plain": [
       "[1, 23]"
      ]
     },
     "execution_count": 48,
     "metadata": {},
     "output_type": "execute_result"
    }
   ],
   "source": [
    "list((1, 23))"
   ]
  },
  {
   "cell_type": "markdown",
   "id": "bf0637f0",
   "metadata": {},
   "source": [
    "## 03 문자열 뒤집기\n",
    "\n",
    "다솜이는 이 문자열 S에 있는 모든 숫자\n",
    "를 전부 같게 만들려고 합니다. 다솜이가 할 수 있는 행동은 S에서 연속된 하나 이상의 숫자를 잡고 \n",
    "모두 뒤집는 것입니다. \n",
    "\n",
    "- 입력 조건\n",
    "- 첫째 줄에 0과 1로만 이루어진 문자열 S가 주어집니다. S의 길이는 100만보다 작습니다.\n",
    "- 출력 조건\n",
    "- 첫째 줄에 다솜이가 해야 하는 행동의 최소 횟수를 출력합니다"
   ]
  },
  {
   "cell_type": "code",
   "execution_count": 148,
   "id": "e7cfde27",
   "metadata": {},
   "outputs": [],
   "source": [
    "def solution() -> int:\n",
    "    s = list(map(int, input()))\n",
    "    cnt = [0, 0]\n",
    "    n = s[0]\n",
    "    if n == 0:\n",
    "        cnt[0] += 1\n",
    "    else:\n",
    "        cnt[1] += 1\n",
    "    for i in range(len(s)-1):      \n",
    "        if s[i] != s[i+1]:\n",
    "            if s[i] == 0:\n",
    "                cnt[0] += 1\n",
    "            else:\n",
    "                cnt[1] += 1\n",
    "    return min(cnt)"
   ]
  },
  {
   "cell_type": "code",
   "execution_count": 149,
   "id": "df62f92c",
   "metadata": {},
   "outputs": [
    {
     "name": "stdout",
     "output_type": "stream",
     "text": [
      "0001100\n"
     ]
    },
    {
     "data": {
      "text/plain": [
       "1"
      ]
     },
     "execution_count": 149,
     "metadata": {},
     "output_type": "execute_result"
    }
   ],
   "source": [
    "solution()"
   ]
  },
  {
   "cell_type": "markdown",
   "id": "3885d71b",
   "metadata": {},
   "source": [
    "## 04 만들 수 없는 금액\n",
    "동빈이는 N개의 동전을 가지고 있습니다. 이때 N개의 동전을 이용하여 만들 \n",
    "수 없는 양의 정수 금액 중 최솟값을 구하는 프로그램을 작성하세요."
   ]
  },
  {
   "cell_type": "code",
   "execution_count": 103,
   "id": "e3ffba9f",
   "metadata": {},
   "outputs": [],
   "source": [
    "def solution() -> int:\n",
    "    n = input()\n",
    "    c_list = sorted(list(map(int, input().split())))\n",
    "    sm = sum(c_list)\n",
    "    for i in range(sm):\n",
    "        ck = 0\n",
    "        for j in range(sm):\n",
    "            ck += c_list[j]\n",
    "            if ck == i+1:\n",
    "                break\n",
    "            elif ck > i+1:\n",
    "                if (ck - (i+1)) in c_list[:j+1]:\n",
    "                    break\n",
    "                else:\n",
    "                    return i+1"
   ]
  },
  {
   "cell_type": "code",
   "execution_count": 104,
   "id": "3675b6a9",
   "metadata": {
    "scrolled": false
   },
   "outputs": [
    {
     "name": "stdout",
     "output_type": "stream",
     "text": [
      "5\n",
      "3 2 1 1 9\n"
     ]
    },
    {
     "data": {
      "text/plain": [
       "8"
      ]
     },
     "execution_count": 104,
     "metadata": {},
     "output_type": "execute_result"
    }
   ],
   "source": [
    "solution()"
   ]
  },
  {
   "cell_type": "markdown",
   "id": "38e9bde1",
   "metadata": {},
   "source": [
    "## 정답 코드 > 생각해볼만 함 "
   ]
  },
  {
   "cell_type": "code",
   "execution_count": 138,
   "id": "13f9064d",
   "metadata": {},
   "outputs": [
    {
     "name": "stdout",
     "output_type": "stream",
     "text": [
      "5\n",
      "3 2 1 1 9\n",
      "8\n"
     ]
    }
   ],
   "source": [
    "n = int(input())\n",
    "data = list(map(int, input().split()))\n",
    "data.sort()\n",
    "target = 1\n",
    "for x in data:\n",
    " # 만들 수 없는 금액을 찾았을 때 반복 종료\n",
    "    if target < x:\n",
    "        break\n",
    "    target += x\n",
    "# 만들 수 없는 금액 출력\n",
    "print(target)"
   ]
  },
  {
   "cell_type": "markdown",
   "id": "621e29f6",
   "metadata": {},
   "source": [
    "##  05 볼링공 고르기\n",
    "N개의 공의 무게가 각각 주어질 때, 두 사람이 볼링공을 고르는 경우의 수를 구하는 프로그램을 작성하세요.\n",
    "\n",
    "- 입력 조건\n",
    "- 첫째 줄에 볼링공의 개수 N, 공의 최대 무게 M이 공백으로 구분되어 각각 자연수 형태로 주어집니다. (1 ≤ N ≤ 1,000, 1 ≤ M ≤ 10)\n",
    "- 둘째 줄에 각 볼링공의 무게 K가 공백으로 구분되어 순서대로 자연수 형태로 주어집니다. (1 ≤ K ≤ M)\n",
    "- 출력 조건\n",
    "- 첫째 줄에 두 사람이 볼링공을 고르는 경우의 수를 출력합니다."
   ]
  },
  {
   "cell_type": "code",
   "execution_count": 64,
   "id": "5bb51de3",
   "metadata": {},
   "outputs": [],
   "source": [
    "from itertools import combinations\n",
    "def solution() -> int:\n",
    "    n, m = map(int, input().split())\n",
    "    k = list(map(int, input().split()))\n",
    "    cases = len([i for i in combinations(k, 2) if i[0] != i[1]])\n",
    "    return cases"
   ]
  },
  {
   "cell_type": "code",
   "execution_count": 65,
   "id": "5c912d99",
   "metadata": {
    "scrolled": true
   },
   "outputs": [
    {
     "name": "stdout",
     "output_type": "stream",
     "text": [
      "5 3\n",
      "1 3 2 3 2\n"
     ]
    },
    {
     "data": {
      "text/plain": [
       "8"
      ]
     },
     "execution_count": 65,
     "metadata": {},
     "output_type": "execute_result"
    }
   ],
   "source": [
    "solution()"
   ]
  },
  {
   "cell_type": "code",
   "execution_count": 66,
   "id": "0dc1f708",
   "metadata": {},
   "outputs": [
    {
     "name": "stdout",
     "output_type": "stream",
     "text": [
      "8 5\n",
      "1 5 4 3 2 4 5 2\n"
     ]
    },
    {
     "data": {
      "text/plain": [
       "25"
      ]
     },
     "execution_count": 66,
     "metadata": {},
     "output_type": "execute_result"
    }
   ],
   "source": [
    "solution()"
   ]
  }
 ],
 "metadata": {
  "kernelspec": {
   "display_name": "Python 3 (ipykernel)",
   "language": "python",
   "name": "python3"
  },
  "language_info": {
   "codemirror_mode": {
    "name": "ipython",
    "version": 3
   },
   "file_extension": ".py",
   "mimetype": "text/x-python",
   "name": "python",
   "nbconvert_exporter": "python",
   "pygments_lexer": "ipython3",
   "version": "3.11.1"
  }
 },
 "nbformat": 4,
 "nbformat_minor": 5
}
