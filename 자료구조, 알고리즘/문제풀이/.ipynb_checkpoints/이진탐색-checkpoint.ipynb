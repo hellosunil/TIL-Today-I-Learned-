{
 "cells": [
  {
   "cell_type": "code",
   "execution_count": 1,
   "id": "e029ad7b",
   "metadata": {},
   "outputs": [],
   "source": [
    "# count메서드는 순차 탐색"
   ]
  },
  {
   "cell_type": "markdown",
   "id": "8f45ae62",
   "metadata": {},
   "source": [
    "# 이진탐색 O(logN)"
   ]
  },
  {
   "cell_type": "code",
   "execution_count": 2,
   "id": "c9dfaf76",
   "metadata": {},
   "outputs": [],
   "source": [
    "# 재귀함수로 구현하기\n",
    "\n",
    "def binary_search(array, target, start, end):\n",
    "    if start > end:\n",
    "        return None\n",
    "    mid = (start + end) // 2\n",
    "    \n",
    "    if array[mid] == target:\n",
    "        return mid\n",
    "    \n",
    "    elif array[mid] > target:\n",
    "        return binary_search(array, target, start, mid-1)\n",
    "    \n",
    "    else:\n",
    "        return binary_search(array, target, mid+1, end)"
   ]
  },
  {
   "cell_type": "code",
   "execution_count": 3,
   "id": "a8c04f3e",
   "metadata": {},
   "outputs": [
    {
     "name": "stdout",
     "output_type": "stream",
     "text": [
      "10 7\n",
      "1 3 5 7 9 11 13 15 17 19\n",
      "7\n"
     ]
    }
   ],
   "source": [
    "n, target = list(map(int, input().split()))\n",
    "array = list(map(int, input().split()))\n",
    "\n",
    "result = binary_search(array, target, 0, n-1)\n",
    "if result == None:\n",
    "    print(\"원소가 없습니다.\")\n",
    "else:\n",
    "    print(array[result])"
   ]
  },
  {
   "cell_type": "code",
   "execution_count": null,
   "id": "40d5c29b",
   "metadata": {},
   "outputs": [],
   "source": []
  }
 ],
 "metadata": {
  "kernelspec": {
   "display_name": "Python 3 (ipykernel)",
   "language": "python",
   "name": "python3"
  },
  "language_info": {
   "codemirror_mode": {
    "name": "ipython",
    "version": 3
   },
   "file_extension": ".py",
   "mimetype": "text/x-python",
   "name": "python",
   "nbconvert_exporter": "python",
   "pygments_lexer": "ipython3",
   "version": "3.11.1"
  }
 },
 "nbformat": 4,
 "nbformat_minor": 5
}
