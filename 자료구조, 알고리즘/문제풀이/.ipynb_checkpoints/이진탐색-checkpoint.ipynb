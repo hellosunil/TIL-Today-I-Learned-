{
 "cells": [
  {
   "cell_type": "code",
   "execution_count": 1,
   "id": "69d995e1",
   "metadata": {},
   "outputs": [],
   "source": [
    "# count메서드는 순차 탐색"
   ]
  },
  {
   "cell_type": "markdown",
   "id": "f1a498aa",
   "metadata": {},
   "source": [
    "# 이진탐색\n",
    "- O(logN)\n",
    "- 정렬된 데이터에서 탐색 속도 높이기"
   ]
  },
  {
   "cell_type": "markdown",
   "id": "53c6d74c",
   "metadata": {},
   "source": [
    "탐색 범위를 반으로 줄여나가면서 데이터를 빠르게 탐색하는 탐색 기법입니다. 이진 \n",
    "탐색은 배열 내부의 데이터가 정렬되어 있을 때만 사용할 수 있으며, 이진 탐색 알고\n",
    "리즘에서는 3가지 변수가 사용됩니다(시작점, 끝점, 중간점)."
   ]
  },
  {
   "cell_type": "code",
   "execution_count": 2,
   "id": "7681726d",
   "metadata": {},
   "outputs": [],
   "source": [
    "# 재귀함수로 구현하기\n",
    "\n",
    "def binary_search(array, target, start, end):\n",
    "    if start > end:\n",
    "        return None\n",
    "    mid = (start + end) // 2\n",
    "    \n",
    "    if array[mid] == target:\n",
    "        return mid\n",
    "    \n",
    "    elif array[mid] > target:\n",
    "        return binary_search(array, target, start, mid-1)\n",
    "    \n",
    "    else:\n",
    "        return binary_search(array, target, mid+1, end)"
   ]
  },
  {
   "cell_type": "code",
   "execution_count": 3,
   "id": "38e1c551",
   "metadata": {},
   "outputs": [
    {
     "name": "stdout",
     "output_type": "stream",
     "text": [
      "10 7\n",
      "1 3 5 7 9 11 13 15 17 19\n",
      "7\n"
     ]
    }
   ],
   "source": [
    "n, target = list(map(int, input().split()))\n",
    "array = list(map(int, input().split()))\n",
    "\n",
    "result = binary_search(array, target, 0, n-1)\n",
    "if result == None:\n",
    "    print(\"원소가 없습니다.\")\n",
    "else:\n",
    "    print(array[result])"
   ]
  },
  {
   "cell_type": "code",
   "execution_count": 4,
   "id": "94426410",
   "metadata": {},
   "outputs": [],
   "source": [
    "# 반복문으로 구현하기\n",
    "\n",
    "def binary_search(array, target, start, end):\n",
    "    while start <= end:\n",
    "        mid = (start+end)//2\n",
    "        \n",
    "        if array[mid] == target:\n",
    "            return mid\n",
    "        elif array[mid] > target:\n",
    "            end = mid -1\n",
    "        else:\n",
    "            start = mid +1\n",
    "    return None"
   ]
  },
  {
   "cell_type": "code",
   "execution_count": 5,
   "id": "4d1a4bb7",
   "metadata": {},
   "outputs": [
    {
     "name": "stdout",
     "output_type": "stream",
     "text": [
      "10 7\n",
      "1 3 5 7 9 11 13 15 17 19\n",
      "7\n"
     ]
    }
   ],
   "source": [
    "n, target = list(map(int, input().split()))\n",
    "array = list(map(int, input().split()))\n",
    "\n",
    "result = binary_search(array, target, 0, n-1)\n",
    "if result == None:\n",
    "    print(\"원소가 없습니다.\")\n",
    "else:\n",
    "    print(array[result])"
   ]
  },
  {
   "cell_type": "code",
   "execution_count": 7,
   "id": "4cae90b5",
   "metadata": {},
   "outputs": [
    {
     "name": "stdout",
     "output_type": "stream",
     "text": [
      "\n"
     ]
    }
   ],
   "source": [
    "# 입력데이터가 많은 경우\n",
    "\n",
    "import sys\n",
    "input_data = sys.stdin.readline().rstrip() # rstrip = 엔터 공백문자 제거\n",
    "\n",
    "print(input_data)"
   ]
  },
  {
   "cell_type": "markdown",
   "id": "9d033514",
   "metadata": {},
   "source": [
    "# Q2. 부품찾기\n",
    "\n",
    "입력 조건\n",
    "•첫째 줄에 정수 N이 주어진다. (1 ≤ N ≤ 1,000,000)\n",
    "•둘째 줄에는 공백으로 구분하여 N개의 정수가 주어진다. 이때 정수는 1보다 크고 1,000,000 이하\n",
    "이다.\n",
    "•셋째 줄에는 정수 M이 주어진다. (1 ≤ M ≤ 100,000)\n",
    "•넷째 줄에는 공백으로 구분하여 M개의 정수가 주어진다. 이때 정수는 1보다 크고 1,000,000 이하\n",
    "이다.\n",
    "출력 조건\n",
    "•첫째 줄에 공백으로 구분하여 각 부품이 존재하면 yes를, 없으면 no를 출력한다."
   ]
  },
  {
   "cell_type": "code",
   "execution_count": 10,
   "id": "d9400f4e",
   "metadata": {},
   "outputs": [
    {
     "name": "stdout",
     "output_type": "stream",
     "text": [
      "5\n",
      "8 3 7 9 2\n",
      "3\n",
      "5 7 9\n",
      "no yes yes "
     ]
    }
   ],
   "source": [
    "def binary_search(array, target, start, end):\n",
    "    while start <= end:\n",
    "        mid = (start+end)//2\n",
    "        \n",
    "        if array[mid] == target:\n",
    "            return mid\n",
    "        elif array[mid] > target:\n",
    "            end = mid -1\n",
    "        else:\n",
    "            start = mid +1\n",
    "    return None\n",
    "\n",
    "n = int(input())\n",
    "array = list(map(int, input().split()))\n",
    "array.sort()\n",
    "\n",
    "m = int(input())\n",
    "x = list(map(int, input().split()))\n",
    "\n",
    "for i in x:\n",
    "    result = binary_search(array, i, 0, n-1)\n",
    "    if result != None:\n",
    "        print(\"yes\", end=' ')\n",
    "    else:\n",
    "        print(\"no\", end=' ')"
   ]
  },
  {
   "cell_type": "markdown",
   "id": "7402c450",
   "metadata": {},
   "source": [
    "# Q.3 떡볶이 떡 만들기"
   ]
  },
  {
   "cell_type": "markdown",
   "id": "aa9e58b9",
   "metadata": {},
   "source": [
    "입력 조건\n",
    "•첫째 줄에 떡의 개수 N과 요청한 떡의 길이 M이 주어진다. (1 ≤ N ≤ 1,000,000, 1 ≤ M ≤ \n",
    "2,000,000,000)\n",
    "•둘째 줄에는 떡의 개별 높이가 주어진다. 떡 높이의 총합은 항상 M 이상이므로, 손님은 필요한 양만큼 \n",
    "떡을 사갈 수 있다. 높이는 10억보다 작거나 같은 양의 정수 또는 0이다.\n",
    "출력 조건\n",
    "•적어도 M만큼의 떡을 집에 가져가기 위해 절단기에 설정할 수 있는 높이의 최댓값을 출력한다."
   ]
  },
  {
   "cell_type": "code",
   "execution_count": 11,
   "id": "b5559177",
   "metadata": {},
   "outputs": [],
   "source": [
    "# 파라메트릭 서치\n",
    "# 최적화 문제를 결정문제로 바꾸어 해결하는 기법\n",
    "# 범위 내에서 조건을 만족하는 가장 큰 값을 찾는 문제라면, \n",
    "# 이진 탐색으로 결정문제를 해결하면서 범위를 좁혀나가는 식으로 문제를 해결하는 방식"
   ]
  },
  {
   "cell_type": "code",
   "execution_count": 12,
   "id": "884872f4",
   "metadata": {},
   "outputs": [
    {
     "name": "stdout",
     "output_type": "stream",
     "text": [
      "4 6\n",
      "19 15 10 17\n",
      "15\n"
     ]
    }
   ],
   "source": [
    "# 떡의 개수(N)와 요청한 떡의 길이(M)을 입력받기\n",
    "n, m = list(map(int, input().split(' ')))\n",
    "# 각 떡의 개별 높이 정보를 입력받기\n",
    "array = list(map(int, input().split()))\n",
    "\n",
    "start = 0\n",
    "end = max(array)\n",
    "\n",
    "result = 0\n",
    "while(start <= end):\n",
    "    total = 0\n",
    "    mid = (start+end)//2\n",
    "    for x in array:\n",
    "        if x > mid:\n",
    "            total += x - mid\n",
    "    \n",
    "    if total < m:\n",
    "        end = mid -1\n",
    "    else:\n",
    "        # 최대한 덜 잘렸을 때가 정담\n",
    "        result = mid\n",
    "        start = mid + 1\n",
    "print(result)"
   ]
  },
  {
   "cell_type": "markdown",
   "id": "0622b0e1",
   "metadata": {},
   "source": [
    "# Q.27 정렬된 배열에서 특정 수의 개수 구하기"
   ]
  },
  {
   "cell_type": "markdown",
   "id": "8842b288",
   "metadata": {},
   "source": [
    "N개의 원소를 포함하고 있는 수열이 오름차순으로 정렬되어 있습니다. 이때 이 수열에서 x가 등장\n",
    "하는 횟수를 계산하세요. 예를 들어 수열 {1, 1, 2, 2, 2, 2, 3}이 있을 때 x = 2라면, 현재 수열에서 \n",
    "값이 2인 원소가 4개이므로 4를 출력합니다.\n",
    "단, 이 문제는 시간 복잡도 O(logN)으로 알고리즘을 설계하지 않으면 ‘시간 초과’ 판정을 받습니다"
   ]
  },
  {
   "cell_type": "code",
   "execution_count": 11,
   "id": "db52e736",
   "metadata": {},
   "outputs": [],
   "source": [
    "from bisect import bisect_left, bisect_right\n",
    "def solution() -> int:\n",
    "    n, x = map(int, input().split())\n",
    "    num_list = list(map(int, input().split()))\n",
    "    result = bisect_right(num_list, x) - bisect_left(num_list, x)    \n",
    "    if result == 0:\n",
    "        return -1\n",
    "    else:\n",
    "        return result"
   ]
  },
  {
   "cell_type": "code",
   "execution_count": 9,
   "id": "c92b5359",
   "metadata": {},
   "outputs": [
    {
     "name": "stdout",
     "output_type": "stream",
     "text": [
      "7 2\n",
      "1 1 2 2 2 2 3\n"
     ]
    },
    {
     "data": {
      "text/plain": [
       "4"
      ]
     },
     "execution_count": 9,
     "metadata": {},
     "output_type": "execute_result"
    }
   ],
   "source": [
    "solution()"
   ]
  },
  {
   "cell_type": "code",
   "execution_count": 12,
   "id": "caa0d29f",
   "metadata": {},
   "outputs": [
    {
     "name": "stdout",
     "output_type": "stream",
     "text": [
      "7 4\n",
      "1 1 2 2 2 2 3\n"
     ]
    },
    {
     "data": {
      "text/plain": [
       "-1"
      ]
     },
     "execution_count": 12,
     "metadata": {},
     "output_type": "execute_result"
    }
   ],
   "source": [
    "solution()"
   ]
  },
  {
   "cell_type": "markdown",
   "id": "bfa92bbc",
   "metadata": {},
   "source": [
    "# Q.28 고정점 찾기"
   ]
  },
  {
   "cell_type": "markdown",
   "id": "2bbbbfd8",
   "metadata": {},
   "source": [
    "고정점Fixed Point이란, 수열의 원소 중에서 그 값이 인덱스와 동일한 원소를 의미합니다. 예를 들어 수\n",
    "열 a = {-15, -4, 2, 8, 13}이 있을 때 a[2] = 2이므로, 고정점은 2가 됩니다.\n",
    "하나의 수열이 N개의 서로 다른 원소를 포함하고 있으며, 모든 원소가 오름차순으로 정렬되어 있습\n",
    "니다. 이때 이 수열에서 고정점이 있다면, 고정점을 출력하는 프로그램을 작성하세요. 고정점은 최\n",
    "대 1개만 존재합니다. 만약 고정점이 없다면 -1을 출력합니다.\n",
    "단, 이 문제는 시간 복잡도 O(logN)으로 알고리즘을 설계하지 않으면 ‘시간 초과’ 판정을 받습니다."
   ]
  },
  {
   "cell_type": "code",
   "execution_count": 20,
   "id": "6e628b3a",
   "metadata": {},
   "outputs": [],
   "source": [
    "def solution() -> int:\n",
    "    n = int(input())\n",
    "    num_list = list(map(int, input().split()))\n",
    "\n",
    "    start = 0\n",
    "    end = len(num_list)+1\n",
    "    \n",
    "    print(b_search(num_list, start, end))\n",
    "    \n",
    "\n",
    "def b_search(num_list, start, end) -> int:\n",
    "    while start <= end:\n",
    "        mid = (start+end)//2\n",
    "        if num_list[mid] == mid:\n",
    "            return mid\n",
    "        elif num_list[mid] > mid:\n",
    "            end = mid -1\n",
    "        else:\n",
    "            start = mid +1\n",
    "    return -1"
   ]
  },
  {
   "cell_type": "code",
   "execution_count": 21,
   "id": "7fdf2142",
   "metadata": {},
   "outputs": [
    {
     "name": "stdout",
     "output_type": "stream",
     "text": [
      "5\n",
      "-15 -6 1 3 7\n",
      "3\n"
     ]
    }
   ],
   "source": [
    "solution()"
   ]
  },
  {
   "cell_type": "code",
   "execution_count": 22,
   "id": "fb03865a",
   "metadata": {},
   "outputs": [
    {
     "name": "stdout",
     "output_type": "stream",
     "text": [
      "7\n",
      "-15 -4 2 8 9 13 15\n",
      "2\n"
     ]
    }
   ],
   "source": [
    "solution()"
   ]
  },
  {
   "cell_type": "code",
   "execution_count": 23,
   "id": "d5bbe852",
   "metadata": {},
   "outputs": [
    {
     "name": "stdout",
     "output_type": "stream",
     "text": [
      "7\n",
      "-15 -4 3 8 9 13 15\n",
      "-1\n"
     ]
    }
   ],
   "source": [
    "solution()"
   ]
  },
  {
   "cell_type": "markdown",
   "id": "edbd584b",
   "metadata": {},
   "source": [
    "# Q. 29 공유기 설치"
   ]
  },
  {
   "cell_type": "markdown",
   "id": "0b881f44",
   "metadata": {},
   "source": [
    "도현이의 집 N개가 수직선 위에 있습니다. 각각의 집의 좌표는 x1, x2, ..., xN이고, 집 여러 개가 같\n",
    "은 좌표를 가지는 일은 없습니다.\n",
    "도현이는 언제 어디서나 와이파이를 즐기기 위해서 집에 공유기 C개를 설치하려고 합니다. 최대한 \n",
    "많은 곳에서 와이파이를 사용하려고 하기 때문에, 한 집에는 공유기를 하나만 설치할 수 있고, 가장 \n",
    "인접한 두 공유기 사이의 거리를 가능한 크게하여 설치하려고 합니다.\n",
    "C개의 공유기를 N개의 집에 적당히 설치해서, 가장 인접한 두 공유기 사이의 거리를 최대로 하는 \n",
    "프로그램을 작성하세요."
   ]
  },
  {
   "cell_type": "markdown",
   "id": "2aaf5b64",
   "metadata": {},
   "source": [
    "입력 조건\n",
    "•첫째 줄에 집의 개수 N(2 ≤ N ≤ 200,000)과 공유기의 개수 C(2 ≤ C ≤ N)가 하나 이상의 빈칸\n",
    "을 사이에 두고 주어집니다. \n",
    "•둘째 줄부터 N개의 줄에는 집의 좌표를 나타내는 xi(1 ≤ xi ≤ 1,000,000,000)가 한 줄에 하나씩 \n",
    "주어집니다.\n",
    "출력 조건\n",
    "•첫째 줄에 가장 인접한 두 공유기 사이의 최대 거리를 출력합니다."
   ]
  },
  {
   "cell_type": "code",
   "execution_count": 37,
   "id": "e217ca0a",
   "metadata": {},
   "outputs": [],
   "source": [
    "def solution() -> int:\n",
    "    n, c = map(int, input().split())\n",
    "    print(n)\n",
    "    print(c)\n",
    "    houses = []\n",
    "    for i in range(n):\n",
    "        houses.append(int(input()))\n",
    "\n",
    "    houses.sort()\n",
    "    start = houses[1] - houses[0]\n",
    "    end = houses[-1] - houses[0]\n",
    "    \n",
    "    if n == 2:\n",
    "        return len(houses) - 1\n",
    "    \n",
    "    \n",
    "    max_distance = 0\n",
    "\n",
    "    while (start <= end):\n",
    "        mid = (end+start)//2\n",
    "        distance = houses[0]\n",
    "        # 첫번째 공유기는 무조건 설치\n",
    "        cnt = 1\n",
    "\n",
    "        # 공유기 설치 .. 인덱스 계산으로 못함 // for문 돌려야 하나...\n",
    "        for i in range(1, n):\n",
    "            if houses[i] >= distance + mid:\n",
    "                distance = houses[i]\n",
    "                cnt += 1\n",
    "        \n",
    "        # 설치한 개수가 공유기 개수보다 많다 => 최대값이 늘어날 수 있다 => 최대값을 증가시켜서 다시 시도\n",
    "        if cnt >= c:\n",
    "            start = mid + 1\n",
    "            max_distance = mid\n",
    "        else:\n",
    "            end = mid -1                        \n",
    "\n",
    "            \n",
    "    return max_distance"
   ]
  },
  {
   "cell_type": "code",
   "execution_count": 38,
   "id": "a5e1fca0",
   "metadata": {},
   "outputs": [
    {
     "name": "stdout",
     "output_type": "stream",
     "text": [
      "5 3\n",
      "5\n",
      "3\n",
      "1\n",
      "2\n",
      "8\n",
      "4\n",
      "9\n"
     ]
    },
    {
     "data": {
      "text/plain": [
       "3"
      ]
     },
     "execution_count": 38,
     "metadata": {},
     "output_type": "execute_result"
    }
   ],
   "source": [
    "solution()"
   ]
  },
  {
   "cell_type": "code",
   "execution_count": null,
   "id": "425cbb90",
   "metadata": {},
   "outputs": [],
   "source": []
  }
 ],
 "metadata": {
  "kernelspec": {
   "display_name": "Python 3 (ipykernel)",
   "language": "python",
   "name": "python3"
  },
  "language_info": {
   "codemirror_mode": {
    "name": "ipython",
    "version": 3
   },
   "file_extension": ".py",
   "mimetype": "text/x-python",
   "name": "python",
   "nbconvert_exporter": "python",
   "pygments_lexer": "ipython3",
   "version": "3.9.13"
  }
 },
 "nbformat": 4,
 "nbformat_minor": 5
}
