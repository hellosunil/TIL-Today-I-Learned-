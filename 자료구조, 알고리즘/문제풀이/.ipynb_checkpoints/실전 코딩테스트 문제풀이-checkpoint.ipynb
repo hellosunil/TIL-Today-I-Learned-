{
 "cells": [
  {
   "cell_type": "markdown",
   "id": "919a11e1",
   "metadata": {},
   "source": [
    "# 02.자료형의 기본 활용과 TIP"
   ]
  },
  {
   "cell_type": "markdown",
   "id": "501a1a90",
   "metadata": {},
   "source": [
    "# integer"
   ]
  },
  {
   "cell_type": "code",
   "execution_count": 1,
   "id": "f1885d25",
   "metadata": {},
   "outputs": [
    {
     "name": "stdout",
     "output_type": "stream",
     "text": [
      "1\n"
     ]
    }
   ],
   "source": [
    "a = 1\n",
    "print(a)"
   ]
  },
  {
   "cell_type": "code",
   "execution_count": 7,
   "id": "c191c632",
   "metadata": {},
   "outputs": [
    {
     "name": "stdout",
     "output_type": "stream",
     "text": [
      "10715086071862673209484250490600018105614048117055336074437503883703510511249361224931983788156958581275946729175531468251871452856923140435984577574698574803934567774824230985421074605062371141877954182153046474983581941267398767559165543946077062914571196477686542167660429831652624386837205668069376\n"
     ]
    }
   ],
   "source": [
    "# 수의 크기에 제한이 없음\n",
    "print(2**1000)"
   ]
  },
  {
   "cell_type": "code",
   "execution_count": 8,
   "id": "69ab0fef",
   "metadata": {},
   "outputs": [
    {
     "name": "stdout",
     "output_type": "stream",
     "text": [
      "123\n"
     ]
    }
   ],
   "source": [
    "# str()로 쉬운 형변환\n",
    "print(str(123))"
   ]
  },
  {
   "cell_type": "code",
   "execution_count": 9,
   "id": "256f6f21",
   "metadata": {
    "scrolled": true
   },
   "outputs": [
    {
     "data": {
      "text/plain": [
       "float"
      ]
     },
     "execution_count": 9,
     "metadata": {},
     "output_type": "execute_result"
    }
   ],
   "source": [
    "# 연산, 함수 사용 시, float로 변환되는 경우를 주의해야함\n",
    "# 나눗셈은 /가 아닌 //로 안전하게 나누자 혹은 divmod 사용\n",
    "type(3/3)"
   ]
  },
  {
   "cell_type": "code",
   "execution_count": 11,
   "id": "3db88a5f",
   "metadata": {},
   "outputs": [
    {
     "data": {
      "text/plain": [
       "int"
      ]
     },
     "execution_count": 11,
     "metadata": {},
     "output_type": "execute_result"
    }
   ],
   "source": [
    "type(3//3)"
   ]
  },
  {
   "cell_type": "code",
   "execution_count": 10,
   "id": "c855aa91",
   "metadata": {},
   "outputs": [
    {
     "data": {
      "text/plain": [
       "(2, 1)"
      ]
     },
     "execution_count": 10,
     "metadata": {},
     "output_type": "execute_result"
    }
   ],
   "source": [
    "divmod(7,3)"
   ]
  },
  {
   "cell_type": "markdown",
   "id": "3d697edb",
   "metadata": {},
   "source": [
    "# float"
   ]
  },
  {
   "cell_type": "code",
   "execution_count": 13,
   "id": "3393030f",
   "metadata": {},
   "outputs": [
    {
     "data": {
      "text/plain": [
       "False"
      ]
     },
     "execution_count": 13,
     "metadata": {},
     "output_type": "execute_result"
    }
   ],
   "source": [
    "# 일단 연산에서는 쓰지 말자\n",
    "0.1 * 3 == 0.3"
   ]
  },
  {
   "cell_type": "code",
   "execution_count": 14,
   "id": "f024e2b3",
   "metadata": {},
   "outputs": [
    {
     "data": {
      "text/plain": [
       "0.3333333333333333"
      ]
     },
     "execution_count": 14,
     "metadata": {},
     "output_type": "execute_result"
    }
   ],
   "source": [
    "# 유리수 연산은?\n",
    "# 될 수 있다면 tuple 등으로 분자/분모를 따로 처리하자\n",
    "\n",
    "1/3"
   ]
  },
  {
   "cell_type": "code",
   "execution_count": 15,
   "id": "b4a52f2b",
   "metadata": {},
   "outputs": [
    {
     "data": {
      "text/plain": [
       "((1, 3), (2, 3))"
      ]
     },
     "execution_count": 15,
     "metadata": {},
     "output_type": "execute_result"
    }
   ],
   "source": [
    "(1, 3), (2,3)"
   ]
  },
  {
   "cell_type": "markdown",
   "id": "b1fcf4b0",
   "metadata": {},
   "source": [
    "# string"
   ]
  },
  {
   "cell_type": "code",
   "execution_count": 16,
   "id": "5f0e26e9",
   "metadata": {},
   "outputs": [
    {
     "name": "stdout",
     "output_type": "stream",
     "text": [
      "an subin\n"
     ]
    }
   ],
   "source": [
    "# immutable 변수 (변경이 불가능한)\n",
    "# => List로 변환하여 사용하기\n",
    "s = 'an subin'\n",
    "for i in s:\n",
    "    i = 'c'\n",
    "print(s) # 변하지 않음"
   ]
  },
  {
   "cell_type": "code",
   "execution_count": 18,
   "id": "7ff0de17",
   "metadata": {
    "scrolled": true
   },
   "outputs": [
    {
     "name": "stdout",
     "output_type": "stream",
     "text": [
      "abcedf\n",
      "abcabcabc\n"
     ]
    }
   ],
   "source": [
    "s = 'abc'\n",
    "b = 'edf'\n",
    "print(s + b)\n",
    "print(s*3)"
   ]
  },
  {
   "cell_type": "code",
   "execution_count": 28,
   "id": "29809564",
   "metadata": {},
   "outputs": [],
   "source": [
    "# string은 +-*/ 연산자 사용을 조심해야함\n",
    "# join() method 활용하기"
   ]
  },
  {
   "cell_type": "code",
   "execution_count": 29,
   "id": "393324dd",
   "metadata": {},
   "outputs": [
    {
     "name": "stdout",
     "output_type": "stream",
     "text": [
      "time 0.03803515434265137\n"
     ]
    }
   ],
   "source": [
    "import time\n",
    "start = time.time()\n",
    "s = ''\n",
    "\n",
    "for i in range(100000):\n",
    "    s = s + str(i)\n",
    "end = time.time()\n",
    "print('time', end - start)"
   ]
  },
  {
   "cell_type": "code",
   "execution_count": 30,
   "id": "d34b9904",
   "metadata": {},
   "outputs": [
    {
     "name": "stdout",
     "output_type": "stream",
     "text": [
      "time 0.019079923629760742\n"
     ]
    }
   ],
   "source": [
    "import time\n",
    "start = time.time()\n",
    "\n",
    "s = ''\n",
    "\n",
    "s = s.join([str(i) for i in range(100000)])\n",
    "end = time.time()\n",
    "print('time', end - start)"
   ]
  },
  {
   "cell_type": "code",
   "execution_count": 31,
   "id": "a3b0ce53",
   "metadata": {},
   "outputs": [
    {
     "data": {
      "text/plain": [
       "'a'"
      ]
     },
     "execution_count": 31,
     "metadata": {},
     "output_type": "execute_result"
    }
   ],
   "source": [
    "# split(), replace() 등 다양한 method 활용이 초점\n",
    "# sliceing을 자유롭게 활용하는 것이 중요\n",
    "\n",
    "s = 'abcd'\n",
    "s[:1]"
   ]
  },
  {
   "cell_type": "code",
   "execution_count": 34,
   "id": "cb2980c6",
   "metadata": {},
   "outputs": [
    {
     "name": "stdout",
     "output_type": "stream",
     "text": [
      "A\n",
      "65\n"
     ]
    }
   ],
   "source": [
    "# char를 ord와 chr로 다루기\n",
    "print(chr(65)) # 아스키 코드를 변환한 값\n",
    "print(ord('A'))"
   ]
  },
  {
   "cell_type": "markdown",
   "id": "17120332",
   "metadata": {},
   "source": [
    "# boolean"
   ]
  },
  {
   "cell_type": "code",
   "execution_count": 35,
   "id": "0f22320d",
   "metadata": {},
   "outputs": [],
   "source": [
    "# 논리 연산과 활용\n",
    "if 0 and 1//0: # runtime error 발생해야 함!\n",
    "    print('hello') # and연산자는 앞 연산이 거짓이므로 에러 발생X"
   ]
  },
  {
   "cell_type": "code",
   "execution_count": 37,
   "id": "c77ab943",
   "metadata": {},
   "outputs": [
    {
     "name": "stdout",
     "output_type": "stream",
     "text": [
      "hello\n"
     ]
    }
   ],
   "source": [
    "if 1 or 1//0:\n",
    "    print('hello') # or연산자 앞 연산이 참이므로 에러 발생X"
   ]
  },
  {
   "cell_type": "code",
   "execution_count": 39,
   "id": "7ea58ddf",
   "metadata": {},
   "outputs": [],
   "source": [
    "# Short Circuit을 잘 활용해야 함\n",
    "# or 연산에 앞 항이 참\n",
    "# and 연산에 앞 항이 거짓"
   ]
  },
  {
   "cell_type": "markdown",
   "id": "f6eb7897",
   "metadata": {},
   "source": [
    "# List"
   ]
  },
  {
   "cell_type": "code",
   "execution_count": 43,
   "id": "d3654a84",
   "metadata": {},
   "outputs": [
    {
     "name": "stdout",
     "output_type": "stream",
     "text": [
      "0.04601907730102539\n"
     ]
    }
   ],
   "source": [
    "# List Comprehension 사용하기\n",
    "# append보다 더 빠르기 때문에\n",
    "import time\n",
    "start = time.time()\n",
    "list_arr = [i for i in range(1000000)]\n",
    "end = time.time()\n",
    "print(end-start)"
   ]
  },
  {
   "cell_type": "code",
   "execution_count": 45,
   "id": "7cfa8c25",
   "metadata": {},
   "outputs": [
    {
     "name": "stdout",
     "output_type": "stream",
     "text": [
      "0.09712886810302734\n"
     ]
    }
   ],
   "source": [
    "import time\n",
    "start = time.time()\n",
    "list_arr2 = []\n",
    "for i in range(1000000):\n",
    "    list_arr2.append(i)\n",
    "end = time.time()\n",
    "print(end-start)"
   ]
  },
  {
   "cell_type": "code",
   "execution_count": 46,
   "id": "a38175f4",
   "metadata": {},
   "outputs": [],
   "source": [
    "# list comprehension 안에 조건식도 추가할 수 있기 때문에\n",
    "# 왠만하면 listcomprehension을 사용하는 것이 좋음\n",
    "list_arr = [i for i in range(1000000) if i%2 ==0]"
   ]
  },
  {
   "cell_type": "code",
   "execution_count": 55,
   "id": "83cd08ab",
   "metadata": {},
   "outputs": [
    {
     "name": "stdout",
     "output_type": "stream",
     "text": [
      "[2, 3, 5, 6, 9]\n",
      "[3, 5, 6, 9, 2]\n",
      "None\n",
      "[2, 3, 5, 6, 9]\n"
     ]
    }
   ],
   "source": [
    "# sort와 sorted 구분하기\n",
    "lst = [3, 5, 6, 9, 2]\n",
    "print(sorted(lst)) # lst를 정렬해서 반환\n",
    "print(lst)\n",
    "print(lst.sort()) # lst자체를 정렬값으로 변환\n",
    "print(lst)"
   ]
  },
  {
   "cell_type": "code",
   "execution_count": 51,
   "id": "51196bb3",
   "metadata": {},
   "outputs": [
    {
     "name": "stdout",
     "output_type": "stream",
     "text": [
      "5\n",
      "25\n",
      "2\n",
      "9\n"
     ]
    }
   ],
   "source": [
    "# len, sum, max, min 등 활용하기\n",
    "print(len(lst))\n",
    "print(sum(lst))\n",
    "print(min(lst))\n",
    "print(max(lst))"
   ]
  },
  {
   "cell_type": "code",
   "execution_count": 56,
   "id": "34b0281a",
   "metadata": {},
   "outputs": [
    {
     "data": {
      "text/plain": [
       "[2, 3, 5, 6, 9]"
      ]
     },
     "execution_count": 56,
     "metadata": {},
     "output_type": "execute_result"
    }
   ],
   "source": [
    "# slicing 활용하기\n",
    "lst"
   ]
  },
  {
   "cell_type": "code",
   "execution_count": 57,
   "id": "8b2e946c",
   "metadata": {},
   "outputs": [
    {
     "data": {
      "text/plain": [
       "[1, 2, 3, 5, 6, 9]"
      ]
     },
     "execution_count": 57,
     "metadata": {},
     "output_type": "execute_result"
    }
   ],
   "source": [
    "lst = [1] + lst\n",
    "lst"
   ]
  },
  {
   "cell_type": "code",
   "execution_count": 58,
   "id": "1e2ce646",
   "metadata": {},
   "outputs": [
    {
     "name": "stdout",
     "output_type": "stream",
     "text": [
      "[1, 1, 2, 3, 5, 6, 9]\n"
     ]
    }
   ],
   "source": [
    "lst[:0] = [1]\n",
    "print(lst)"
   ]
  },
  {
   "cell_type": "markdown",
   "id": "b6dc0112",
   "metadata": {},
   "source": [
    "# tuple"
   ]
  },
  {
   "cell_type": "code",
   "execution_count": 59,
   "id": "88546756",
   "metadata": {},
   "outputs": [
    {
     "name": "stdout",
     "output_type": "stream",
     "text": [
      "1\n",
      "2\n",
      "3\n"
     ]
    }
   ],
   "source": [
    "# 가장 큰 장점은 표현을 간결하게 할 수 있다는 것\n",
    "a, b, c = 1, 2, 3\n",
    "print(a)\n",
    "print(b)\n",
    "print(c)"
   ]
  },
  {
   "cell_type": "code",
   "execution_count": 60,
   "id": "eea31c63",
   "metadata": {},
   "outputs": [
    {
     "name": "stdout",
     "output_type": "stream",
     "text": [
      "3 7\n"
     ]
    }
   ],
   "source": [
    "# map과 함께 사용하여 입력 받기\n",
    "a, b = map(int, input().split())"
   ]
  },
  {
   "cell_type": "code",
   "execution_count": 61,
   "id": "16a9a929",
   "metadata": {},
   "outputs": [
    {
     "name": "stdout",
     "output_type": "stream",
     "text": [
      "3 7\n"
     ]
    }
   ],
   "source": [
    "print(a, b)"
   ]
  },
  {
   "cell_type": "code",
   "execution_count": 65,
   "id": "3dd326d1",
   "metadata": {},
   "outputs": [
    {
     "name": "stdout",
     "output_type": "stream",
     "text": [
      "3\n",
      "7\n"
     ]
    }
   ],
   "source": [
    "# 동시에 변해야하는 객체에 효율적으로 표현 가능\n",
    "a, b = 3, 7\n",
    "print(a)\n",
    "print(b)"
   ]
  },
  {
   "cell_type": "code",
   "execution_count": 63,
   "id": "f79c2d17",
   "metadata": {},
   "outputs": [
    {
     "name": "stdout",
     "output_type": "stream",
     "text": [
      "7 7\n"
     ]
    }
   ],
   "source": [
    "a = b\n",
    "b = a\n",
    "print(a, b)"
   ]
  },
  {
   "cell_type": "code",
   "execution_count": 66,
   "id": "0bb4ba20",
   "metadata": {},
   "outputs": [
    {
     "name": "stdout",
     "output_type": "stream",
     "text": [
      "7 3\n"
     ]
    }
   ],
   "source": [
    "tmp = a\n",
    "a = b\n",
    "b = tmp\n",
    "print(a, b)"
   ]
  },
  {
   "cell_type": "code",
   "execution_count": 67,
   "id": "bd9522ce",
   "metadata": {},
   "outputs": [
    {
     "name": "stdout",
     "output_type": "stream",
     "text": [
      "7 3\n"
     ]
    }
   ],
   "source": [
    "# tuple 사용 시\n",
    "a, b = 3, 7\n",
    "a, b = b, a\n",
    "print(a, b)"
   ]
  },
  {
   "cell_type": "markdown",
   "id": "c7b254ef",
   "metadata": {},
   "source": [
    "# Dictionary"
   ]
  },
  {
   "cell_type": "code",
   "execution_count": 68,
   "id": "fb22d22a",
   "metadata": {},
   "outputs": [
    {
     "name": "stdout",
     "output_type": "stream",
     "text": [
      "{1: 2, 2: 3, 'abc': 7}\n"
     ]
    }
   ],
   "source": [
    "# key나 values를 사용하여 효율적인 사용 가능\n",
    "dict_test = {1: 2, 2: 3, 'abc' : 7}\n",
    "print(dict_test)"
   ]
  },
  {
   "cell_type": "code",
   "execution_count": 69,
   "id": "1741333c",
   "metadata": {},
   "outputs": [
    {
     "data": {
      "text/plain": [
       "dict_values([2, 3, 7])"
      ]
     },
     "execution_count": 69,
     "metadata": {},
     "output_type": "execute_result"
    }
   ],
   "source": [
    "dict_test.values()"
   ]
  },
  {
   "cell_type": "code",
   "execution_count": 70,
   "id": "57a74375",
   "metadata": {},
   "outputs": [
    {
     "data": {
      "text/plain": [
       "dict_keys([1, 2, 'abc'])"
      ]
     },
     "execution_count": 70,
     "metadata": {},
     "output_type": "execute_result"
    }
   ],
   "source": [
    "dict_test.keys()"
   ]
  },
  {
   "cell_type": "code",
   "execution_count": 71,
   "id": "fd9d7b14",
   "metadata": {},
   "outputs": [],
   "source": [
    "import collections"
   ]
  },
  {
   "cell_type": "code",
   "execution_count": 72,
   "id": "6034ea9c",
   "metadata": {},
   "outputs": [
    {
     "data": {
      "text/plain": [
       "Counter({1: 2, 2: 3, 'abc': 7})"
      ]
     },
     "execution_count": 72,
     "metadata": {},
     "output_type": "execute_result"
    }
   ],
   "source": [
    "# collections.Counter() 등을 활용할 수 있음"
   ]
  },
  {
   "cell_type": "code",
   "execution_count": 74,
   "id": "9b5bcd0b",
   "metadata": {},
   "outputs": [
    {
     "name": "stdout",
     "output_type": "stream",
     "text": [
      "1 2\n",
      "2 3\n",
      "abc 7\n"
     ]
    }
   ],
   "source": [
    "# 반복문\n",
    "for a, b in dict_test.items():\n",
    "    print(a, b)"
   ]
  },
  {
   "cell_type": "markdown",
   "id": "0580e78c",
   "metadata": {},
   "source": [
    "# Set"
   ]
  },
  {
   "cell_type": "code",
   "execution_count": 76,
   "id": "673c297e",
   "metadata": {},
   "outputs": [
    {
     "data": {
      "text/plain": [
       "{1, 2, 3, 4, 5}"
      ]
     },
     "execution_count": 76,
     "metadata": {},
     "output_type": "execute_result"
    }
   ],
   "source": [
    "# 중복 체크\n",
    "st = set([1,2,3,4,5,1,2,3,4,5,1,2,3])\n",
    "st"
   ]
  },
  {
   "cell_type": "code",
   "execution_count": 77,
   "id": "01744195",
   "metadata": {},
   "outputs": [],
   "source": [
    "# 중복 체크 함수\n",
    "def isCheck(lst):\n",
    "    return len(lst) == len(set(lst))"
   ]
  },
  {
   "cell_type": "code",
   "execution_count": 78,
   "id": "08be7ee5",
   "metadata": {},
   "outputs": [],
   "source": [
    "# 합집합, 여집합, 차집합 등은 시간복잡도가 크니 사용 주의"
   ]
  },
  {
   "cell_type": "markdown",
   "id": "ef8bafa2",
   "metadata": {},
   "source": [
    "## 행복 15969번"
   ]
  },
  {
   "cell_type": "code",
   "execution_count": 6,
   "id": "b28c6591",
   "metadata": {},
   "outputs": [
    {
     "name": "stdout",
     "output_type": "stream",
     "text": [
      "5\n",
      "27 35 92 75 42\n",
      "65\n"
     ]
    }
   ],
   "source": [
    "N, score = int(input()), list(map(int, input().split()))\n",
    "print(max(score)-min(score))"
   ]
  },
  {
   "cell_type": "markdown",
   "id": "f24ef680",
   "metadata": {},
   "source": [
    "## 수빈이와 수열 10539번"
   ]
  },
  {
   "cell_type": "code",
   "execution_count": 25,
   "id": "35722c91",
   "metadata": {},
   "outputs": [
    {
     "name": "stdout",
     "output_type": "stream",
     "text": [
      "4\n",
      "3 2 3 5\n",
      "3 1 5 11\n"
     ]
    }
   ],
   "source": [
    "N, num = int(input()), list(map(int, input().split()))\n",
    "A = []\n",
    "for i in range(1, N + 1):\n",
    "    if i == 1:\n",
    "        A.append(str(num[i - 1] * i))\n",
    "    else:\n",
    "        A.append(str(num[i - 1] * i - num[i - 2] * (i - 1)))\n",
    "result = ' '.join(A)\n",
    "print(result)"
   ]
  },
  {
   "cell_type": "code",
   "execution_count": 30,
   "id": "79912eda",
   "metadata": {},
   "outputs": [
    {
     "name": "stdout",
     "output_type": "stream",
     "text": [
      "4\n",
      "3 2 3 5\n",
      "3 1 5 11 "
     ]
    }
   ],
   "source": [
    "# 미리 A를 선언하는 쪽이 더 빠름\n",
    "N, B = int(input()), list(map(int, input().split()))\n",
    "A = [0 for i in range(len(B))]\n",
    "A[0] = B[0]\n",
    "\n",
    "for i in range(1, N):\n",
    "    A[i] = B[i] * (i + 1) - sum(A)\n",
    "for j in A:\n",
    "    print(j, end=' ')"
   ]
  },
  {
   "cell_type": "markdown",
   "id": "8cccb129",
   "metadata": {},
   "source": [
    "## 이름궁합 테스트 17269번"
   ]
  },
  {
   "cell_type": "code",
   "execution_count": 83,
   "id": "73ca5405",
   "metadata": {},
   "outputs": [
    {
     "name": "stdout",
     "output_type": "stream",
     "text": [
      "8 14\n",
      "LEESIYUN MIYAWAKISAKURA\n",
      "27%\n"
     ]
    }
   ],
   "source": [
    "N, M = map(int, input().split())\n",
    "A, B = map(str, input().split())\n",
    "Nkeys = ['A','B','C','D','E','F','G','H','I','J','K','L','M','N','O','P','Q','R','S','T','U','V','W','X','Y','Z']\n",
    "Nvalues = [3,2,1,2,4,3,1,3,1,1,3,1,3,2,1,2,2,2,1,2,1,1,1,2,2,1]\n",
    "TransDict = dict(zip(Nkeys, Nvalues))\n",
    "\n",
    "def NamePlus(name1, name2):\n",
    "    NAME = []\n",
    "    for i in range(max(len(name1), len(name2))):\n",
    "        if i <= min(len(name1), len(name2)) - 1:\n",
    "            NAME.append(name1[i])\n",
    "            NAME.append(name2[i])\n",
    "        elif i > len(name1) - 1:\n",
    "            NAME.append(name2[i])\n",
    "        elif i > len(name2) - 1:\n",
    "            NAME.append(name1[i])\n",
    "    # NAME을 숫자로 바꾸기\n",
    "    NUM = []\n",
    "    for i in NAME:\n",
    "        NUM.append(TransDict[i])\n",
    "    return NUM\n",
    "\n",
    "def percentage(NUM):\n",
    "    # 숫자를 더하고 일의 자리만 남기기\n",
    "    result = []\n",
    "    for i in range(len(NUM) - 1):\n",
    "        result.append((NUM[i] + NUM[i+1]) % 10)\n",
    "    if len(result) > 2:\n",
    "        percentage(result)\n",
    "    if len(result) == 2:\n",
    "        print(str(result[0] * 10 + result[1]) + '%')\n",
    "NUM = NamePlus(A, B)\n",
    "percentage(NUM)\n",
    "        "
   ]
  },
  {
   "cell_type": "code",
   "execution_count": 92,
   "id": "96fbb290",
   "metadata": {},
   "outputs": [
    {
     "name": "stdout",
     "output_type": "stream",
     "text": [
      "8 14\n",
      "LEESIYUN MIYAWAKISAKURA\n",
      "27%\n"
     ]
    }
   ],
   "source": [
    "N, M = map(int, input().split())\n",
    "A, B = input().split()\n",
    "\n",
    "alp = [3,2,1,2,4,3,1,3,1,1,3,1,3,2,1,2,2,2,1,2,1,1,1,2,2,1]\n",
    "\n",
    "AB = ''\n",
    "min_len = min(N, M)\n",
    "for i in range(min_len):\n",
    "    AB += A[i] + B[i]\n",
    "AB  += A[min_len:] + B[min_len:]\n",
    "\n",
    "lst = [alp[ord(i) - ord('A')] for i in AB]\n",
    "\n",
    "for i in range(N+M-2):\n",
    "    for j in range(N+M-1-i):\n",
    "        lst[j] += lst[j+1]\n",
    "        # lst[j] %= 10\n",
    "        # 어차피 계속 더해도 일의 자리 숫자에는 지장이 없음\n",
    "        # 마지막 print()에서 처리해주면 됨\n",
    "print('{}%'.format(lst[0] % 10*10 + lst[1]%10))\n",
    "\n",
    "# 시간복잡도 = O(N^2)"
   ]
  },
  {
   "cell_type": "markdown",
   "id": "6a13d589",
   "metadata": {},
   "source": [
    "## 보너스 점수 17389번"
   ]
  },
  {
   "cell_type": "code",
   "execution_count": 104,
   "id": "af631261",
   "metadata": {},
   "outputs": [
    {
     "name": "stdout",
     "output_type": "stream",
     "text": [
      "8\n",
      "XOOOXOOX\n",
      "26\n"
     ]
    }
   ],
   "source": [
    "N = int(input())\n",
    "S = str(input())\n",
    "score, B = 0, 0\n",
    "for i in range(N):\n",
    "    if S[i] == 'O':\n",
    "        score += (i+1) + B\n",
    "        B += 1\n",
    "    else:\n",
    "        B = 0\n",
    "print(score)\n",
    "# 시간복잡도 = O(N)"
   ]
  },
  {
   "cell_type": "markdown",
   "id": "ee13a0c9",
   "metadata": {},
   "source": [
    "# 03.매개변수의 이해와 구조화"
   ]
  },
  {
   "cell_type": "markdown",
   "id": "2105c881",
   "metadata": {},
   "source": [
    "## 함수"
   ]
  },
  {
   "cell_type": "code",
   "execution_count": null,
   "id": "be2184e1",
   "metadata": {},
   "outputs": [],
   "source": [
    "# 함수의 이름과 역할\n",
    "\n",
    "# 문법에 틀리지 않은 표현이라면 OK\n",
    "# 단, 함수가 많아지거나 코드가 길어질 것 같으면 함수명 확실하게\n",
    "\n",
    "# 스네이크 표기법(연결부에 _ 모든 문자는 소문자)\n",
    "def money_sum(N, money_arr): \n",
    "\n",
    "# 카넬 표기법(연결부의 문자를 대문자로)\n",
    "def moneySum(N, moneyArr):\n",
    "\n",
    "# 파스칼표기법(모든문자의 첫글자를 대문자로)\n",
    "def MoneySum(N, MoneyArr):\n",
    "\n",
    "# 함수의 개수\n",
    "# 가장 좋은 것은 기능별로 나누는 것!\n",
    "\n",
    "init()\n",
    "process()\n",
    "output()\n",
    "\n",
    "# 스타일을 통일 시키는 것이 일관된 코드를 만든다\n",
    "\n",
    "# 함수 사용시, 반환 값을 미리 지정해주는 것이 좋음\n",
    "def moneySum(N, moneyArr):\n",
    "    ret = 0\n",
    "    # 내부 코드\n",
    "    return ret\n",
    "\n",
    "# 함수의 매개변수 -> 복잡한 내용은 주석 활용!\n",
    "# moneySum : 돈의 합을 출력\n",
    "# N : 사람수, moneyArr : 사람의 돈\n",
    "def moneySum(N, moneyArr):\n",
    "    ret = 0\n",
    "    for i in range(N): # N을 매개변수로 지정하지 않아도되지만,\n",
    "                       # 가독성 및 편하게 하려고 넘겨줌\n",
    "        ret += moneyArr[i]\n",
    "    return ret"
   ]
  },
  {
   "cell_type": "code",
   "execution_count": null,
   "id": "af6264fb",
   "metadata": {},
   "outputs": [],
   "source": [
    "# container의 역할\n",
    "# 함수와 마찬가지로 적절한 명명 필요!\n",
    "\n",
    "(x, y) = p # x좌표, y좌표\n",
    "set() # 중복이름제거\n",
    "A = [0 for i in range(100)] #A[i] = i번째 소녀의 키\n",
    "# dp[i][j] : i번째 사람이 j개를 먹는 가짓수\n",
    "\n",
    "\n",
    "# container의 분할\n",
    "A = [[0 for i in range(2)] for j in range(100)] # 100x2 배열\n",
    "# 1번째 값은 순서, 2번째 값은 값\n",
    "\n",
    "A[1000], V[1000]\n",
    "# 위에 것을 두개로 나누면, 코드 길이는 길어지지만,\n",
    "# 가독성을 높일 수 있음!"
   ]
  },
  {
   "cell_type": "markdown",
   "id": "dc822015",
   "metadata": {},
   "source": [
    "## 수 찾기 1920번"
   ]
  },
  {
   "cell_type": "code",
   "execution_count": 107,
   "id": "11eab761",
   "metadata": {},
   "outputs": [
    {
     "name": "stdout",
     "output_type": "stream",
     "text": [
      "5\n",
      "4 1 5 2 3\n",
      "5\n",
      "1 3 7 9 5\n",
      "1\n",
      "1\n",
      "0\n",
      "0\n",
      "1\n"
     ]
    }
   ],
   "source": [
    "N, Num1 = int(input()), set(map(int, input().split()))\n",
    "M, Num2 = int(input()), list(map(int, input().split()))\n",
    "\n",
    "for i in Num2:\n",
    "    if i in Num1:\n",
    "        print('1')\n",
    "    else:\n",
    "        print('0')"
   ]
  },
  {
   "cell_type": "code",
   "execution_count": 108,
   "id": "74f93bc9",
   "metadata": {},
   "outputs": [
    {
     "name": "stdout",
     "output_type": "stream",
     "text": [
      "5\n",
      "4 1 5 2 3\n",
      "5\n",
      "1 3 7 9 5\n",
      "1\n",
      "1\n",
      "0\n",
      "0\n",
      "1\n"
     ]
    }
   ],
   "source": [
    "# 미리 딕셔너리 value값에 1을 넣어서 1을 출력하도록\n",
    "N, A = int(input()), {i: 1 for i in map(int, input().split())}\n",
    "M = input()\n",
    "\n",
    "for i in list(map(int, input().split())):\n",
    "    print(A.get(i, 0))\n",
    "# A.get(key) = values 반환, A.get(key, 0) = 없을 경우 0 반환"
   ]
  },
  {
   "cell_type": "markdown",
   "id": "76d1a657",
   "metadata": {},
   "source": [
    "## 걸그룹 마스터 준석이 16165번"
   ]
  },
  {
   "cell_type": "code",
   "execution_count": 117,
   "id": "5d6122bb",
   "metadata": {},
   "outputs": [
    {
     "ename": "SyntaxError",
     "evalue": "invalid syntax (Temp/ipykernel_2624/2997700628.py, line 18)",
     "output_type": "error",
     "traceback": [
      "\u001b[1;36m  File \u001b[1;32m\"C:\\Users\\admin\\AppData\\Local\\Temp/ipykernel_2624/2997700628.py\"\u001b[1;36m, line \u001b[1;32m18\u001b[0m\n\u001b[1;33m    for j in girlGroupDict[name]\u001b[0m\n\u001b[1;37m                                ^\u001b[0m\n\u001b[1;31mSyntaxError\u001b[0m\u001b[1;31m:\u001b[0m invalid syntax\n"
     ]
    }
   ],
   "source": [
    "# N : 걸그룹 수,  M : 문제 수\n",
    "N, M = map(int, input().split())\n",
    "\n",
    "def makeGirlGroupList(N):\n",
    "    girlGroup = {}\n",
    "    for _ in range(N):\n",
    "        group = str(input())\n",
    "        for _ in range(int(input())):\n",
    "            girl = str(input())\n",
    "            girlGroup[group] = []\n",
    "            girlGroup[group].append(girl)\n",
    "    return girlGroup\n",
    "\n",
    "def solveProblem(M, girlGroupDict):\n",
    "    for i in range(M):\n",
    "        name, problem = str(input()), int(input())\n",
    "        if problem == 0:\n",
    "            for j in sorted(girlGroupDict[name]):\n",
    "                print(j)\n",
    "        else:\n",
    "            for key in girlGroupDict:\n",
    "                if name in girlGroupDict[key]:\n",
    "                    print(key)\n",
    "girlGroup = makeGirlGroupList(N)\n",
    "solveProblem(M, girlGroup)"
   ]
  },
  {
   "cell_type": "code",
   "execution_count": 128,
   "id": "36faf74e",
   "metadata": {},
   "outputs": [
    {
     "name": "stdout",
     "output_type": "stream",
     "text": [
      "{'name': 'gay', 'phone': '0119993323', 'birth': '1118'}\n"
     ]
    }
   ],
   "source": [
    "girl = [('name','pey'), ('name', 'gay'), ('phone', '0119993323'), ('birth', '1118')]\n",
    "girldict = dict(girl)\n",
    "print(girldict)\n",
    "\n",
    "# 위처럼 딕셔너리 하나로 진행할 시,\n",
    "# 딕셔너리 value값이 나중에 추가한 값만 반영되어\n",
    "# 답 출력할 수 없음!!\n",
    "# 하나씩 value 값에 append해줘야 함"
   ]
  },
  {
   "cell_type": "code",
   "execution_count": null,
   "id": "d6754f61",
   "metadata": {},
   "outputs": [],
   "source": [
    "# 딕셔너리를 두 개 만들어서 문제 풀이\n",
    "N, M = map(int, input().split())\n",
    "team_mem, mem_team = {}, {}\n",
    "\n",
    "for i in range(N):\n",
    "    team_name, mem_num = input(), int(input())\n",
    "    team_mem[team_name] = []\n",
    "    for j in range(mem_num):\n",
    "        name = input()\n",
    "        team_mem[team_name].append(name)\n",
    "        mem_team[name] = team_name\n",
    "\n",
    "for i in range(M):\n",
    "    name, q = input(), int(input())\n",
    "    if q:\n",
    "        print(mem_team[name])\n",
    "    else:\n",
    "        for mem in sorted(team_mem[name]):\n",
    "            print(mem)"
   ]
  },
  {
   "cell_type": "markdown",
   "id": "efebbe65",
   "metadata": {},
   "source": [
    "## APC는 왜 서브태스크 대회가 되었을까? 17224번"
   ]
  },
  {
   "cell_type": "code",
   "execution_count": 140,
   "id": "1885395f",
   "metadata": {},
   "outputs": [
    {
     "name": "stdout",
     "output_type": "stream",
     "text": [
      "8 7 5\n",
      "1 3\n",
      "2 5\n",
      "3 5\n",
      "4 8\n",
      "5 8\n",
      "6 9\n",
      "6 7\n",
      "7 10\n",
      "660\n"
     ]
    }
   ],
   "source": [
    "# N : 문제의 개수\n",
    "# L : 현정이의 역량\n",
    "# K : 현정이가 풀 수 있는 문제의 최대 개수\n",
    "# sub1 : 쉬운버전의 난이도, sub2 : 어려운 버전의 난이도\n",
    "N, L, K = map(int, input().split())\n",
    "easy, hard = 0, 0\n",
    "for i in range(N):\n",
    "    sub1, sub2 = map(int, input().split())\n",
    "    if L >= sub2:\n",
    "        hard += 1\n",
    "    elif L >= sub1 and L < sub2:\n",
    "        easy += 1\n",
    "    \n",
    "score = min(hard, K) * 140\n",
    "if hard < K:\n",
    "    score += min(K-hard, easy) * 100\n",
    "print(score)"
   ]
  },
  {
   "cell_type": "markdown",
   "id": "6f0ef71c",
   "metadata": {},
   "source": [
    "## The candy war 9037번"
   ]
  },
  {
   "cell_type": "code",
   "execution_count": 175,
   "id": "548a2cab",
   "metadata": {},
   "outputs": [
    {
     "name": "stdout",
     "output_type": "stream",
     "text": [
      "4\n",
      "5\n",
      "2 4 7 8 9\n",
      "6\n",
      "1\n",
      "9\n",
      "0\n",
      "6\n",
      "10 5 13 2 7 8\n",
      "4\n",
      "4\n",
      "3 4 4 3\n",
      "0\n"
     ]
    }
   ],
   "source": [
    "T = int(input()) # Test Case\n",
    "for _ in range(T):\n",
    "    N = int(input()) # Child Number\n",
    "    C = list(map(int, input().split())) # Candy Number\n",
    "    for i in range(N):\n",
    "        if C[i] % 2 == 1:\n",
    "            C[i] += 1   \n",
    "    count = 0\n",
    "    while len(set(C)) != 1: \n",
    "        sumList = []\n",
    "        sumList.append(C[-1]//2)\n",
    "        for i in range(N-1): # 1순환       \n",
    "            sumList.append(C[i] // 2)\n",
    "        for k in range(N):\n",
    "            C[k] = C[k] //2\n",
    "        count += 1\n",
    "        Circle = [x+y for x,y in zip(sumList, C)]\n",
    "        for j in range(N):\n",
    "            if Circle[j] % 2 == 1:\n",
    "                Circle[j] += 1\n",
    "        C = Circle\n",
    "\n",
    "    print(count)"
   ]
  },
  {
   "cell_type": "code",
   "execution_count": 178,
   "id": "e297be58",
   "metadata": {},
   "outputs": [
    {
     "name": "stdout",
     "output_type": "stream",
     "text": [
      "4\n",
      "5\n",
      "2 4 7 8 9\n",
      "6\n",
      "1\n",
      "9\n",
      "0\n",
      "6\n",
      "10 5 13 2 7 8\n",
      "3\n",
      "4\n",
      "3 4 4 3\n",
      "0\n"
     ]
    }
   ],
   "source": [
    "# 지금 뭔가 오류가 있음! 3번째 case 정답 오류\n",
    "\n",
    "def process():\n",
    "    N, candy = int(input()), list(map(int, input().split()))\n",
    "    count = 0\n",
    "    while not check(N, candy):\n",
    "        count += 1\n",
    "        candy = teacher(N, candy)\n",
    "    print(count)\n",
    "    \n",
    "def check(N, candy):\n",
    "    for i in range(N):\n",
    "        if candy[i] % 2 == 1:\n",
    "            candy[i] += 1\n",
    "    return len(set(candy)) == 1\n",
    "\n",
    "def teacher(N, candy):\n",
    "    tmp_lst = [0 for i in range(N)]\n",
    "    for idx in range(N):\n",
    "        if candy[idx] % 2: # cd % 2 == 1:\n",
    "            candy[idx] += 1\n",
    "        candy[idx] //= 2\n",
    "        tmp_lst[(idx+1) % N] = candy[idx] // 2 # 마지막 값을 첫번째 값에 넣을 때, 이런 식으로 활용할 수 있음!\n",
    "    for idx in range(N):\n",
    "        candy[idx] += tmp_lst[idx]\n",
    "    return candy\n",
    "\n",
    "for i in range(int(input())):\n",
    "    process()"
   ]
  },
  {
   "cell_type": "markdown",
   "id": "357dd272",
   "metadata": {},
   "source": [
    "## Mixing Milk 16769번"
   ]
  },
  {
   "cell_type": "code",
   "execution_count": 15,
   "id": "daf71b98",
   "metadata": {},
   "outputs": [
    {
     "name": "stdout",
     "output_type": "stream",
     "text": [
      "10 3\n",
      "11 4\n",
      "12 5\n",
      "4\n",
      "11\n",
      "10\n"
     ]
    }
   ],
   "source": [
    "C1, M1 = map(int, input().split()) # C : capacity\n",
    "C2, M2 = map(int, input().split()) # M: amount of milk\n",
    "C3, M3 = map(int, input().split())\n",
    "milk = [[C1, M1], [C2, M2], [C3, M3]]\n",
    "\n",
    "\n",
    "for _ in range(33):\n",
    "    for i in range(3):\n",
    "        if i == 2:\n",
    "            if milk[i][1] + milk[i-2][1] < milk[i-2][0]:\n",
    "                milk[i-2][1] = milk[i][1] + milk[i-2][1]\n",
    "                milk[i][1] = 0\n",
    "            elif milk[i][1] + milk[i-2][1] >= milk[i-2][0]:\n",
    "                milk[i][1] -= milk[i][1] + milk[i-2][1] - milk[i-2][0]\n",
    "                milk[i-2][1] = milk[i-2][0]\n",
    "\n",
    "        else:\n",
    "            # 내 내용물을 다 넘기는 경우\n",
    "            if milk[i][1] + milk[i+1][1] < milk[i+1][0]:\n",
    "                milk[i+1][1] = milk[i][1] + milk[i+1][1]\n",
    "                milk[i][1] = 0\n",
    "            # 내 내용물을 다 넘기지 않는 경우\n",
    "            elif milk[i][1] + milk[i+1][1] >= milk[i+1][0]:\n",
    "                milk[i][1] -= milk[i][1] + milk[i+1][1] - milk[i+1][0]\n",
    "                milk[i+1][1] = milk[i+1][0]\n",
    "\n",
    " # 내 내용물을 다 넘기는 경우\n",
    "if milk[0][1] + milk[1][1] < milk[1][0]:\n",
    "    milk[1][1] = milk[0][1] + milk[1][1]\n",
    "    milk[0][1] = 0\n",
    "# 내 내용물을 다 넘기지 않는 경우\n",
    "elif milk[0][1] + milk[1][1] >= milk[1][0]:\n",
    "    milk[0][1] -= milk[0][1] + milk[1][1] - milk[1][0]\n",
    "    milk[1][1] = milk[1][0]\n",
    "                \n",
    "                \n",
    "                \n",
    "                \n",
    "                \n",
    "for i in range(3):\n",
    "    print(milk[i][1])"
   ]
  },
  {
   "cell_type": "code",
   "execution_count": 19,
   "id": "cdd3280d",
   "metadata": {},
   "outputs": [
    {
     "name": "stdout",
     "output_type": "stream",
     "text": [
      "10 3\n",
      "11 4\n",
      "12 5\n",
      "0\n",
      "10\n",
      "2\n"
     ]
    }
   ],
   "source": [
    "C, M = [], []\n",
    "\n",
    "for i in range(3):\n",
    "    a, b = map(int, input().split())\n",
    "    C.append(a)\n",
    "    M.append(b)\n",
    "\n",
    "for i in range(100):\n",
    "    idx = i % 3\n",
    "    nxt = (idx+1) % 3\n",
    "    M[idx], M[nxt] = max(M[idx] - (C[nxt] - M[nxt]) , 0), min(C[nxt], M[nxt] + M[idx])\n",
    "\n",
    "for i in M:\n",
    "    print(i)"
   ]
  },
  {
   "cell_type": "markdown",
   "id": "0e9a177d",
   "metadata": {},
   "source": [
    "## Z 1074번"
   ]
  },
  {
   "cell_type": "code",
   "execution_count": 23,
   "id": "687ffefb",
   "metadata": {},
   "outputs": [
    {
     "name": "stdout",
     "output_type": "stream",
     "text": [
      "2 3 1\n",
      "11\n"
     ]
    }
   ],
   "source": [
    "def solve(n, x, y):\n",
    "    global result\n",
    "    if n == 2:\n",
    "        if x == X and y == Y:\n",
    "            print(result)\n",
    "            return\n",
    "        result += 1\n",
    "        if x == X and y + 1 == Y:\n",
    "            print(result)\n",
    "            return\n",
    "        result += 1\n",
    "        if x + 1 == X and y == Y:\n",
    "            print(result)\n",
    "            return\n",
    "        result += 1\n",
    "        if x + 1 == X and y + 1 == Y:\n",
    "            print(result)\n",
    "            return\n",
    "        result += 1\n",
    "        return\n",
    "    solve(n / 2, x, y)\n",
    "    solve(n / 2, x, y + n / 2)\n",
    "    solve(n / 2, x + n / 2, y)\n",
    "    solve(n / 2, x + n / 2, y + n / 2)\n",
    "\n",
    "result = 0\n",
    "N, X, Y = map(int, input().split())\n",
    "solve(2 ** N, 0, 0)\n",
    "\n",
    "# 시간 초과!!"
   ]
  },
  {
   "cell_type": "code",
   "execution_count": 34,
   "id": "aab9d88f",
   "metadata": {},
   "outputs": [
    {
     "name": "stdout",
     "output_type": "stream",
     "text": [
      "10 512 512\n",
      "786432\n"
     ]
    }
   ],
   "source": [
    "N, r, c = map(int, input().split())\n",
    "\n",
    "# Z : 0,0을 기준으로 x, y의 숫자\n",
    "def Z(sz, x, y):\n",
    "    if sz == 1:\n",
    "        return 0\n",
    "    # 2 by 2 사각형 탐색\n",
    "    sz //= 2\n",
    "    for i in range(2):\n",
    "        for j in range(2):\n",
    "            # 4등분 한 곳에서 해당 값의 위치를 찾는 행위(if절)\n",
    "            if x < sz * (i+1) and y < sz * (j+1):\n",
    "                return (i*2+j)*sz*sz + Z(sz, x-sz*i, y-sz*j)\n",
    "            # 3번째라면 1,2번째의 합   #2by2에서의 나머지 값들   \n",
    "\n",
    "print(Z(2**N, r, c))"
   ]
  },
  {
   "cell_type": "markdown",
   "id": "8f89a33a",
   "metadata": {},
   "source": [
    "# 04. 예외처리 (조건문과 반복문)"
   ]
  },
  {
   "cell_type": "code",
   "execution_count": null,
   "id": "5b62b85e",
   "metadata": {},
   "outputs": [],
   "source": [
    "# 조건문과 반복문\n",
    "# 문제가 준 까다로운 조건\n",
    "# (ex. 이때는 이걸 하고, 이건 이렇게 하지 마세요)\n",
    "# Case by Case => 문제를 통해 연습하는 수밖에 없음\n",
    "\n",
    "# 1. 논리연산자/비트연산자 활용하기\n",
    "a, b = 10, 20\n",
    "if a > b:\n",
    "    if a % 10 == 0:\n",
    "        print(a)\n",
    "        \n",
    "if a > b and a % 10 == 0:\n",
    "    print(a)\n",
    "    \n",
    "# and, or, not 정도 활용해서 if문을 최소화\n",
    "\n",
    "# 비트 연산자 활용\n",
    "1 << 2, 1 & 1\n",
    "1 | 1\n",
    "1 ^ 1\n",
    "\n",
    "# 상태를 나타내는 자료 활용하기\n",
    "# ex.소수를 나타내는 함수\n",
    "\n",
    "N = 71\n",
    "ck = False\n",
    "for i in range(2, N):\n",
    "    if N % i ==0:\n",
    "        print(\"Not Prime\")\n",
    "        ck = True\n",
    "        break\n",
    "        \n",
    "if not ck:\n",
    "    print(\"Prime\")\n",
    "    \n",
    "    \n",
    "# 나눠서 진행하기(위 예시가 1 ~ 100까지 수라면)\n",
    "\n",
    "for N in range(1, 101):\n",
    "    for i in range(2, N):\n",
    "        if N % i ==0:\n",
    "            print(\"Not Prime\")\n",
    "            ck = True\n",
    "            break\n",
    "\n",
    "    if not ck:\n",
    "        print(\"Prime\")\n",
    "\n",
    "# 이것 대신에\n",
    "\n",
    "def isPrime(N):\n",
    "    for i in range(2, N):\n",
    "        if N % i == 0:\n",
    "            return False\n",
    "    return True\n",
    "\n",
    "for N in range(1, 101):\n",
    "    if isPrime(N):\n",
    "        print(\"{} is Prime\".format(N))\n",
    "    else:\n",
    "        print(\"Not Prime\")\n",
    "\n",
    "# 이렇게 활용하면, 코드가 좀더 깔끔하고 정갈해짐\n",
    "\n",
    "\n",
    "# DFS, BFS에서 탐색\n",
    "# 0부터 N,M까지의 배열에서 a,b가 배열 안에 있는가?\n",
    "def isRange(a, b, N, M):\n",
    "    return 0 <= a < N and 0 <= b < M\n",
    "# 이런 식으로 함수로 체크할 경우 편할 때가 많음\n",
    "\n",
    "# Palin\n",
    "\n",
    "S = 'hello'\n",
    "\n",
    "for idx in S:\n",
    "    if S[idx] != S[len(S)-idx-1]:\n",
    "        print('Not palin')\n",
    "# 이렇게 구현할 수도 있지만\n",
    "if S == S[::-1]:\n",
    "    print(\"is Palin\")\n",
    "# 이렇게도 표현할 수 있음(리스트 슬라이싱을 이용해서)\n",
    "\n",
    "\n",
    "# 미리 처리한 케이스와 처리할 케이스 정리하기\n",
    "\n",
    "# 1. 예제 케이스\n",
    "# 2. 조건 A처리\n",
    "# 3. 조건 B처리\n",
    "# 4. 조건 AB처리\n",
    "\n",
    "# 순서대로 하나씩 하면, 정확도와 속도 개선에 도움이 될 것!!\n",
    "\n",
    "\n",
    "# 예제, 최소, 최대, 예외, 랜덤 케이스 만들기\n",
    "# 예제 케이스가 주어지지 않을 경우\n",
    "\n",
    "# 1. 문제 조건을 따라 예제 만들어 활용\n",
    "# 2. 최소/최대 케이스 체크(0 ~ 10000)까지라면 0과 10000은 꼭 체크!!\n",
    " "
   ]
  },
  {
   "cell_type": "markdown",
   "id": "3aec3c21",
   "metadata": {},
   "source": [
    "## 주사위 세개 2480번"
   ]
  },
  {
   "cell_type": "code",
   "execution_count": 39,
   "id": "deaade12",
   "metadata": {},
   "outputs": [
    {
     "name": "stdout",
     "output_type": "stream",
     "text": [
      "6 2 5\n",
      "600\n"
     ]
    }
   ],
   "source": [
    "N = list(map(int, input().split()))\n",
    "\n",
    "if len(set(N)) == 1:\n",
    "    print(10000+max(N)*1000)\n",
    "elif len(set(N)) ==2:\n",
    "    for i in N:\n",
    "        if N.count(i) == 2:\n",
    "            print(1000+ i*100)\n",
    "            break\n",
    "else:\n",
    "    print(100*max(N))"
   ]
  },
  {
   "cell_type": "code",
   "execution_count": 40,
   "id": "87644ea5",
   "metadata": {},
   "outputs": [
    {
     "name": "stdout",
     "output_type": "stream",
     "text": [
      "6 2 5\n",
      "600\n"
     ]
    }
   ],
   "source": [
    "lst = sorted(list(map(int, input().split())))\n",
    "if len(set(lst)) == 1:\n",
    "    print(10000+lst[0])\n",
    "elif len(set(lst)) == 2:\n",
    "    print(1000+ lst[1]*100)\n",
    "else:\n",
    "    print(lst[2]*100)"
   ]
  },
  {
   "cell_type": "markdown",
   "id": "84fc4801",
   "metadata": {},
   "source": [
    "## 주사위 네개 2484번"
   ]
  },
  {
   "cell_type": "code",
   "execution_count": 49,
   "id": "d7e360b8",
   "metadata": {},
   "outputs": [
    {
     "name": "stdout",
     "output_type": "stream",
     "text": [
      "4\n",
      "3 3 3 3\n",
      "3 3 6 3\n",
      "2 2 6 6\n",
      "6 2 1 5\n",
      "65000\n"
     ]
    }
   ],
   "source": [
    "N = int(input())\n",
    "reward = 0\n",
    "for i in range(N):\n",
    "    lst = list(map(int, input().split()))\n",
    "    if len(set(lst)) == 1:\n",
    "        if reward <= 50000 + lst[0]*5000:\n",
    "            reward = 50000 + lst[0]*5000\n",
    "    elif len(set(lst)) == 2:\n",
    "        for i in lst:\n",
    "            if lst.count(i) == 3:\n",
    "                if reward <= 10000 + i*1000:\n",
    "                    reward = 10000 + i*1000\n",
    "                    continue\n",
    "            if lst.count(i) == 2:\n",
    "                sorted(lst)\n",
    "                if reward <= 2000 + (lst[1]+ lst[2])*500:\n",
    "                    reward = 2000 + (lst[1]+ lst[2])*500\n",
    "                    continue\n",
    "    elif len(set(lst)) == 3:\n",
    "        for i in lst:\n",
    "            if lst.count(i) == 2:\n",
    "                if reward <= 1000+ i*100:\n",
    "                    reward = 1000+ i*100\n",
    "                    continue\n",
    "    elif len(set(lst)) == 0:\n",
    "        sorted(lst)\n",
    "        if reward <= lst[-1]*100:\n",
    "            reward = lst[-1]*100\n",
    "print(reward)"
   ]
  },
  {
   "cell_type": "code",
   "execution_count": null,
   "id": "2fffc7ca",
   "metadata": {},
   "outputs": [],
   "source": [
    "def money():\n",
    "    lst = sorted(list(map(int, input().split())))\n",
    "    if len(set(lst)) == 1:\n",
    "        return lst[0] * 5000 + 50000\n",
    "    if len(set(lst)) == 2:\n",
    "        if lst[1] == lst[2]:\n",
    "            return 10000 + lst[1] * 1000\n",
    "        else:\n",
    "            return 2000 + (lst[1]+lst[2])*500\n",
    "    for i in range(3):\n",
    "        if lst[i] == lst[i+1]:\n",
    "            return 1000+ lst[i] * 100\n",
    "    return lst[-1] * 100\n",
    "\n",
    "N = int(input())\n",
    "print(max(money() for i in range(N)))"
   ]
  },
  {
   "cell_type": "markdown",
   "id": "9ad61437",
   "metadata": {},
   "source": [
    "## 두 개의 손 16675번"
   ]
  },
  {
   "cell_type": "code",
   "execution_count": 55,
   "id": "da5e55af",
   "metadata": {},
   "outputs": [
    {
     "name": "stdout",
     "output_type": "stream",
     "text": [
      "P P S R\n",
      "TK\n"
     ]
    }
   ],
   "source": [
    "# SPR을 받아서 index로 반환하는 방법 find를 사용해도 무방함\n",
    "# 모듈러 연산을 활용해서 테이블 구성 없이 관계성을 활용!\n",
    "ML, MR, TL, TR = ('SPR'.index(i) for i in input().split())\n",
    "# 찌(0), 빠(1), 묵(2)\n",
    "if ML == MR and (ML+2)%3 in [TL, TR]:\n",
    "    print('TK')\n",
    "elif TL == TR and (TL+2)%3 in [ML, MR]:\n",
    "    print(('MS'))\n",
    "else:\n",
    "    print('?')"
   ]
  },
  {
   "cell_type": "markdown",
   "id": "e8cbaf4d",
   "metadata": {},
   "source": [
    "## 단어 뒤집기2 17413번"
   ]
  },
  {
   "cell_type": "code",
   "execution_count": 56,
   "id": "e95be5eb",
   "metadata": {},
   "outputs": [
    {
     "name": "stdout",
     "output_type": "stream",
     "text": [
      "<int><max>2147483647<long long><max>9223372036854775807\n",
      "<int><max>7463847412<long long><max>7085774586302733229\n"
     ]
    }
   ],
   "source": [
    "# split으로 받아서 푸는 것은 비효율적\n",
    "# 정규표현식에 익숙치 않은 사람은 힘들 수 있음\n",
    "# 또한, 조건문, 반복문의 연습으로도 좋은 문제이기에\n",
    "# 조건문, 반복문으로 푸는 연습이 중요함\n",
    "\n",
    "S = input()\n",
    "tmp, ans, ck = '', '', False\n",
    "\n",
    "for i in S:\n",
    "    if i == ' ':\n",
    "        if not ck:\n",
    "            ans += tmp[::-1] + ' '\n",
    "            tmp = '' #이미 출력한 애들은 초기화\n",
    "        else: ans += ' '\n",
    "    elif i == '<':\n",
    "        ck = True\n",
    "        ans += tmp[::-1] + '<'\n",
    "        tmp = ''\n",
    "    elif i == '>':\n",
    "        ck = False\n",
    "        ans += '>'\n",
    "    else: # 알파벳과 숫자\n",
    "        if ck:\n",
    "            ans += i\n",
    "        else: tmp += i\n",
    "            \n",
    "# 꺽쇠로 끝나면 출력을 안하기 때문에 마지막에 다시 출력\n",
    "ans += tmp[::-1]\n",
    "print(ans)"
   ]
  },
  {
   "cell_type": "markdown",
   "id": "aa40931c",
   "metadata": {},
   "source": [
    "# 방향벡터"
   ]
  },
  {
   "cell_type": "code",
   "execution_count": null,
   "id": "1360ca68",
   "metadata": {},
   "outputs": [],
   "source": [
    "대표적으로 BFS, DFS 등이 있음\n",
    "\n",
    "2, 3 차원 배열이나, 트리구조 등으로 나옴\n",
    "\n",
    "EX) 상하좌우\n",
    "\n",
    "if way == 'N':\n",
    "    x -= 1\n",
    "    y += 0\n",
    "elif way = 'S':\n",
    "    x += 1\n",
    "    y += 0\n",
    "elif way == 'E':\n",
    "    x += 0\n",
    "    y += 1\n",
    "else:\n",
    "    x += 0\n",
    "    y -= 1\n",
    "    \n",
    "표로 나타내면,    \n",
    "   N   S   E   W    \n",
    "x -1   1   0   0\n",
    "y  0   0   1   -1   \n",
    "\n",
    "초기 선언으로, 쓰기 편함\n",
    "dx, dy = [-1,1,0,0], [0,0,1,-1]\n",
    "    \n",
    "반시계 방향\n",
    "dx, dy = [0,-1,0,1], [1,0,-1,0]\n",
    "\n",
    "시계방향\n",
    "dx, dy = [0,1,0,-1], [1,0,-1,0]\n",
    "\n",
    "활용법\n",
    "x += dx['ENSW'.index(way)]\n",
    "y += dy['ENSW'.index(way)]\n",
    "\n",
    "DFS에서의 방향\n",
    "for i in range(4):\n",
    "    dfs(x + dx[i], y+ dy[i])"
   ]
  },
  {
   "cell_type": "markdown",
   "id": "31ef70a6",
   "metadata": {},
   "source": [
    "## 늑대와 양 16956번"
   ]
  },
  {
   "cell_type": "code",
   "execution_count": 5,
   "id": "03768ee7",
   "metadata": {},
   "outputs": [
    {
     "name": "stdout",
     "output_type": "stream",
     "text": [
      "6 6\n",
      "..S...\n",
      "..S.W.\n",
      ".S....\n",
      "..W...\n",
      "...W..\n",
      "......\n"
     ]
    },
    {
     "ename": "IndexError",
     "evalue": "list index out of range",
     "output_type": "error",
     "traceback": [
      "\u001b[1;31m---------------------------------------------------------------------------\u001b[0m",
      "\u001b[1;31mIndexError\u001b[0m                                Traceback (most recent call last)",
      "\u001b[1;32m<ipython-input-5-0edb16f197e1>\u001b[0m in \u001b[0;36m<module>\u001b[1;34m\u001b[0m\n\u001b[0;32m      8\u001b[0m \u001b[1;32mfor\u001b[0m \u001b[0mi\u001b[0m \u001b[1;32min\u001b[0m \u001b[0mrange\u001b[0m\u001b[1;33m(\u001b[0m\u001b[0mR\u001b[0m\u001b[1;33m)\u001b[0m\u001b[1;33m:\u001b[0m\u001b[1;33m\u001b[0m\u001b[1;33m\u001b[0m\u001b[0m\n\u001b[0;32m      9\u001b[0m     \u001b[1;32mfor\u001b[0m \u001b[0mj\u001b[0m \u001b[1;32min\u001b[0m \u001b[0mrange\u001b[0m\u001b[1;33m(\u001b[0m\u001b[0mC\u001b[0m\u001b[1;33m)\u001b[0m\u001b[1;33m:\u001b[0m\u001b[1;33m\u001b[0m\u001b[1;33m\u001b[0m\u001b[0m\n\u001b[1;32m---> 10\u001b[1;33m         \u001b[1;32mif\u001b[0m \u001b[0mM\u001b[0m\u001b[1;33m[\u001b[0m\u001b[0mi\u001b[0m\u001b[1;33m]\u001b[0m\u001b[1;33m[\u001b[0m\u001b[0mj\u001b[0m\u001b[1;33m]\u001b[0m \u001b[1;33m==\u001b[0m \u001b[1;34m'W'\u001b[0m\u001b[1;33m:\u001b[0m\u001b[1;33m\u001b[0m\u001b[1;33m\u001b[0m\u001b[0m\n\u001b[0m\u001b[0;32m     11\u001b[0m             \u001b[1;32mfor\u001b[0m \u001b[0mw\u001b[0m \u001b[1;32min\u001b[0m \u001b[0mrange\u001b[0m\u001b[1;33m(\u001b[0m\u001b[1;36m4\u001b[0m\u001b[1;33m)\u001b[0m\u001b[1;33m:\u001b[0m\u001b[1;33m\u001b[0m\u001b[1;33m\u001b[0m\u001b[0m\n\u001b[0;32m     12\u001b[0m                 \u001b[0mii\u001b[0m\u001b[1;33m,\u001b[0m \u001b[0mjj\u001b[0m \u001b[1;33m=\u001b[0m \u001b[0mi\u001b[0m \u001b[1;33m+\u001b[0m \u001b[0mdx\u001b[0m\u001b[1;33m[\u001b[0m\u001b[0mw\u001b[0m\u001b[1;33m]\u001b[0m\u001b[1;33m,\u001b[0m \u001b[0mj\u001b[0m \u001b[1;33m+\u001b[0m \u001b[0mdy\u001b[0m\u001b[1;33m[\u001b[0m\u001b[0mw\u001b[0m\u001b[1;33m]\u001b[0m\u001b[1;33m\u001b[0m\u001b[1;33m\u001b[0m\u001b[0m\n",
      "\u001b[1;31mIndexError\u001b[0m: list index out of range"
     ]
    }
   ],
   "source": [
    "R, C = map(int, input().split())\n",
    "M = [list(input()) for i in range(R)]\n",
    "\n",
    "dx, dy = [0,1,0,-1], [1,0,-1,0]\n",
    "\n",
    "ck = False\n",
    "\n",
    "for i in range(R):\n",
    "    for j in range(C):\n",
    "        if M[i][j] == 'W':\n",
    "            for w in range(4):\n",
    "                ii, jj = i + dx[w], j + dy[w]\n",
    "                if ii < 0 or ii == R or jj <0 or jj ==C:\n",
    "                    continue\n",
    "                if M[ii][jj] == 'S':\n",
    "                    ck = True                    \n",
    "\n",
    "if ck:\n",
    "    print(0)\n",
    "else:\n",
    "    print(1)\n",
    "    for i in range(R):\n",
    "        for j in range(C):\n",
    "            if M[i][j] not in 'SW':\n",
    "                M[i][j] = 'D'\n",
    "for i in M:\n",
    "    print(''.join(i))"
   ]
  },
  {
   "cell_type": "code",
   "execution_count": 11,
   "id": "198edbb9",
   "metadata": {},
   "outputs": [
    {
     "name": "stdout",
     "output_type": "stream",
     "text": [
      "6\n",
      "dddddd\n",
      "dddddd\n",
      "dddddd\n",
      "dddddd\n",
      "dddddd\n",
      "dddddd\n",
      "[['d', 'd', 'd', 'd', 'd', 'd'], ['d', 'd', 'd', 'd', 'd', 'd'], ['d', 'd', 'd', 'd', 'd', 'd'], ['d', 'd', 'd', 'd', 'd', 'd'], ['d', 'd', 'd', 'd', 'd', 'd'], ['d', 'd', 'd', 'd', 'd', 'd']]\n"
     ]
    }
   ],
   "source": [
    "R = int(input())\n",
    "M = [list(input()) for i in range(R)]\n",
    "print(M)"
   ]
  },
  {
   "cell_type": "code",
   "execution_count": 14,
   "id": "1ae334de",
   "metadata": {},
   "outputs": [
    {
     "name": "stdout",
     "output_type": "stream",
     "text": [
      "6\n",
      "dddddd\n",
      "dddddd\n",
      "dddddd\n",
      "dddddd\n",
      "dddddd\n",
      "dddddd\n",
      "[['dddddd'], ['dddddd'], ['dddddd'], ['dddddd'], ['dddddd'], ['dddddd']]\n"
     ]
    }
   ],
   "source": [
    "R = int(input())\n",
    "M = [[input()] for i in range(R)]\n",
    "print(M)"
   ]
  },
  {
   "cell_type": "markdown",
   "id": "794c3ed1",
   "metadata": {},
   "source": [
    "## 꽃길 14620번"
   ]
  },
  {
   "cell_type": "code",
   "execution_count": 2,
   "id": "204611a7",
   "metadata": {
    "scrolled": true
   },
   "outputs": [
    {
     "name": "stdout",
     "output_type": "stream",
     "text": [
      "6\n",
      "1 0 2 3 3 4\n",
      "1 1 1 1 1 1\n",
      "0 0 1 1 1 1\n",
      "3 9 9 0 1 99\n",
      "9 11 3 1 0 3\n",
      "12 3 0 0 0 1\n",
      "12\n"
     ]
    }
   ],
   "source": [
    "N = int(input())\n",
    "M = [list(map(int, input().split())) for i in range(N)] # 가격 매트릭스\n",
    "\n",
    "#각 꽃의 위치를 x * N + y로 설정\n",
    "\n",
    "dx, dy = [0, 1,-1,0,0], [0, 0,0,-1,1] # 중앙에서 동서남북 이동\n",
    "\n",
    "ans = 10000\n",
    "\n",
    "def ck(lst): # 꽃이 a, b, c에 있을 때 비용\n",
    "    ret = 0\n",
    "    flow = []\n",
    "    for flower in lst:\n",
    "        x = flower // N\n",
    "        y = flower % N\n",
    "        if x == 0 or x == N-1 or y == 0 or y == N-1:\n",
    "            return 10000\n",
    "        for w in range(5):\n",
    "            flow.append((x+dx[w], y+dy[w]))\n",
    "            ret += M[x+dx[w]][y+dy[w]]\n",
    "    if len(set(flow)) != 15:\n",
    "        return 10000\n",
    "    return ret\n",
    "\n",
    "\n",
    "for i in range(N**2):\n",
    "    for j in range(N**2):\n",
    "        for k in range(N**2):\n",
    "            ans = min(ans, ck([i, j, k]))\n",
    "            \n",
    "print(ans)"
   ]
  },
  {
   "cell_type": "markdown",
   "id": "5f2528fb",
   "metadata": {},
   "source": [
    "# 탐색의 개념과 유형"
   ]
  },
  {
   "cell_type": "markdown",
   "id": "dbfa6875",
   "metadata": {},
   "source": [
    "### 탐색 : 특정 조건을 만족하는 상태를 찾기 위한 일련의 과정"
   ]
  },
  {
   "cell_type": "markdown",
   "id": "9f77625c",
   "metadata": {},
   "source": [
    " * BFS : 너비우선탐색 : Queue\n",
    " * DFS : 깊이우선탐색 : Recursion(더 편함) or Stack"
   ]
  },
  {
   "cell_type": "markdown",
   "id": "236c18f1",
   "metadata": {},
   "source": [
    "### 구현에 초점\n",
    "  - BFS/DFS, 백트래킹에 수많은 조건\n",
    "  - 부분 상태 탐색(위치 이동, 수) : 상태에 대한 체크 함수가 필요\n",
    "  - 전체 상태 탐색(전체 map) : N차원 배열을 조정하는 방법\n",
    "  - Flood Fill 알고리즘\n",
    "  - 트리 순회\n",
    "\n",
    "### 알고리즘 지식\n",
    "  - 알고리즘적 구현(고급 알고리즘)\n",
    "  - 위상정렬(Topological Sort)\n",
    "  - 최소신장트리(MST)\n",
    "  - 최단거리"
   ]
  },
  {
   "cell_type": "markdown",
   "id": "65104faa",
   "metadata": {},
   "source": [
    "## 유기농 배추 1012번"
   ]
  },
  {
   "cell_type": "code",
   "execution_count": 36,
   "id": "ad1eaf82",
   "metadata": {},
   "outputs": [
    {
     "name": "stdout",
     "output_type": "stream",
     "text": [
      "2\n",
      "10 8 17\n",
      "0 0\n",
      "1 0\n",
      "1 1\n",
      "4 2\n",
      "4 3\n",
      "4 5\n",
      "2 4\n",
      "3 4\n",
      "7 4\n",
      "8 4\n",
      "9 4\n",
      "7 5\n",
      "8 5\n",
      "9 5\n",
      "7 6\n",
      "8 6\n",
      "9 6\n",
      "5\n",
      "10 10 1\n",
      "5 5\n",
      "1\n"
     ]
    }
   ],
   "source": [
    "import sys\n",
    "sys.setrecursionlimit(10000)\n",
    "\n",
    "def recur(x, y):\n",
    "    global MAP, ck\n",
    "    dx, dy = [1, -1, 0, 0], [0, 0, -1, 1] # 중앙에서 동서남북 이동\n",
    "    if ck[x][y] == 1:\n",
    "        return\n",
    "    ck[x][y] = 1\n",
    "    for w in range(4):\n",
    "        xx, yy = x+dx[w], y+dy[w]\n",
    "        if MAP[xx][yy] == 0 or ck[xx][yy] == 1:\n",
    "            continue\n",
    "        recur(xx, yy)\n",
    "\n",
    "for t in range(int(input())):\n",
    "    global MAP, ck\n",
    "    M, N, K = list(map(int, input().split()))\n",
    "    MAP = [[0 for i in range(M+2)] for j in range(N+2)]\n",
    "    ck = [[0 for i in range(M+2)] for j in range(N+2)]\n",
    "    for k in range(K):\n",
    "        X, Y = map(int, input().split())\n",
    "        MAP[Y+1][X+1] = 1\n",
    "    cnt = 0\n",
    "    for i in range(1, N+1):\n",
    "        for j in range(1, M+1):\n",
    "            if MAP[i][j] == 0 or ck[i][j] == 1:\n",
    "                continue\n",
    "            recur(i, j)\n",
    "            cnt += 1\n",
    "    print(cnt)"
   ]
  },
  {
   "cell_type": "markdown",
   "id": "18bb38a9",
   "metadata": {},
   "source": [
    "## Mooyo Mooyo 16768번"
   ]
  },
  {
   "cell_type": "code",
   "execution_count": 13,
   "id": "19301fc1",
   "metadata": {
    "scrolled": true
   },
   "outputs": [
    {
     "name": "stdout",
     "output_type": "stream",
     "text": [
      "6 3\n",
      "0000000000\n",
      "0000000300\n",
      "0054000300\n",
      "1054502230\n",
      "2211122220\n",
      "1111111223\n",
      "[]\n",
      "[]\n",
      "[]\n",
      "[]\n",
      "[]\n",
      "[]\n",
      "[]\n",
      "[]\n",
      "[]\n",
      "[]\n",
      "[]\n",
      "[]\n",
      "[]\n",
      "[]\n",
      "[]\n",
      "[]\n",
      "[]\n",
      "[]\n",
      "[]\n",
      "[]\n",
      "[]\n",
      "[]\n",
      "[]\n",
      "[]\n",
      "[]\n",
      "[]\n",
      "[]\n",
      "[]\n",
      "[]\n",
      "[]\n",
      "[]\n",
      "[]\n",
      "[]\n",
      "[]\n",
      "[]\n",
      "[]\n",
      "[]\n",
      "[]\n",
      "[]\n",
      "[]\n",
      "[]\n",
      "[]\n",
      "[]\n",
      "[]\n",
      "[]\n",
      "[]\n",
      "[]\n",
      "[]\n",
      "[]\n",
      "[]\n",
      "[]\n",
      "[]\n",
      "[]\n",
      "[]\n",
      "[]\n",
      "[]\n",
      "[]\n",
      "[]\n",
      "[]\n",
      "[]\n",
      "[['0', '0', '0', '0', '0', '0', '0', '0', '0', '0'], ['0', '0', '0', '0', '0', '0', '0', '3', '0', '0'], ['0', '0', '5', '4', '0', '0', '0', '3', '0', '0'], ['1', '0', '5', '4', '5', '0', '2', '2', '3', '0'], ['2', '2', '1', '1', '1', '2', '2', '2', '2', '0'], ['1', '1', '1', '1', '1', '1', '1', '2', '2', '3']]\n"
     ]
    }
   ],
   "source": [
    "# 그룹핑하고 개수 반환\n",
    "def grouping(x, y):\n",
    "    global MAP, CMAP\n",
    "    dx, dy = [0,0,1,-1], [1,-1,0,0]\n",
    "    if CMAP[x][y] == 1:\n",
    "        return\n",
    "    CMAP[x][y] = 1\n",
    "    cnt = 0\n",
    "    Nlist = []\n",
    "    for w in range(4):\n",
    "        xx, yy = x+dx[w], y+dy[w]\n",
    "        if xx < 0 or xx >= N or yy < 0 or yy >= 10:\n",
    "            continue\n",
    "        if CMAP[xx][yy] or MAP[x][y] != MAP[xx][yy]:\n",
    "            continue\n",
    "            cnt += 1\n",
    "            grouping(xx, yy)\n",
    "    if cnt > K:\n",
    "        Nlist.append(MAP[x][y])\n",
    "    print(Nlist)\n",
    "    return Nlist\n",
    "\n",
    "# 개수가 K보다 클 때, 삭제 후 재배열\n",
    "def delete(Nlist):\n",
    "    global MAP, CMAP\n",
    "    for i in Nlist:\n",
    "        for y in range(N):\n",
    "            for x in range(N):\n",
    "                if MAP[x][y] == i:\n",
    "                    if y == 0:\n",
    "                        MAP[x][y] = 0\n",
    "                    else:\n",
    "                        MAP[x][y] = MAP[x][y-1]    \n",
    "    return MAP\n",
    "\n",
    "N, K = map(int, input().split())\n",
    "MAP = [list(input()) for _ in range(N)]\n",
    "CMAP = [[0 for i in range(10)] for j in range(N)]\n",
    "\n",
    "for x in range(N):\n",
    "    for y in range(10):\n",
    "        if MAP[x][y] == 0 or CMAP[x][y] == 1:\n",
    "            continue\n",
    "        delete(grouping(x, y))\n",
    "print(MAP)"
   ]
  },
  {
   "cell_type": "code",
   "execution_count": 11,
   "id": "cf5ca088",
   "metadata": {},
   "outputs": [
    {
     "name": "stdout",
     "output_type": "stream",
     "text": [
      "6 3\n",
      "0000000000\n",
      "0000000300\n",
      "0054000300\n",
      "1054502230\n",
      "2211122220\n",
      "1111111223\n",
      "0000000000\n",
      "0000000000\n",
      "0000000000\n",
      "0000000000\n",
      "1054000330\n",
      "2254511223\n"
     ]
    }
   ],
   "source": [
    "def new_array(N):\n",
    "    return [[False for i in range(10)] for _ in range(N)]\n",
    "\n",
    "N, K = map(int, input().split())\n",
    "M = [list(input()) for _ in range(N)]\n",
    "ck = new_array(N)\n",
    "ck2 = new_array(N)\n",
    "\n",
    "dx, dy = [0,1,0,-1], [1,0,-1,0]\n",
    "\n",
    "def dfs(x, y):\n",
    "    # group에 있는가 체크 배열\n",
    "    ck[x][y] = True\n",
    "    ret = 1\n",
    "    for i in range(4):\n",
    "        xx, yy = x+dx[i], y+dy[i]\n",
    "        if xx < 0 or xx >= N or yy < 0 or yy >= 10:\n",
    "            continue\n",
    "        if ck[xx][yy] or M[x][y] != M[xx][yy]:\n",
    "            continue\n",
    "        ret += dfs(xx, yy)\n",
    "    return ret\n",
    "\n",
    "def dfs2(x, y, val):\n",
    "    # 지워도 되는가 체크 배열\n",
    "    ck2[x][y] = True\n",
    "    M[x][y] = '0'\n",
    "    for i in range(4):\n",
    "        xx, yy = x+dx[i], y+dy[i]\n",
    "        if xx < 0 or xx >= N or yy < 0 or yy >= 10:\n",
    "            continue\n",
    "        if ck[xx][yy] or M[xx][yy] != val:\n",
    "            continue\n",
    "        dfs2(xx, yy, val)\n",
    "        \n",
    "def down():\n",
    "    # 세로줄부터\n",
    "    for i in range(10):\n",
    "        tmp = []\n",
    "        for j in range(N):\n",
    "            if M[j][i] != '0':\n",
    "                tmp.append(M[j][i])\n",
    "        for j in range(N-len(tmp)):\n",
    "            M[j][i] = '0'\n",
    "        for j in range(N-len(tmp), N):\n",
    "            M[j][i] = tmp[j - (N - len(tmp))]\n",
    "            \n",
    "while True:\n",
    "    exist = False\n",
    "    ck = new_array(N)\n",
    "    ck2 = new_array(N)\n",
    "    for i in range(N):\n",
    "        for j in range(10):\n",
    "            if M[i][j] == '0' or ck[i][j]:\n",
    "                continue\n",
    "            res = dfs(i, j) # 개수 세기\n",
    "            if res >= K:\n",
    "                dfs2(i, j, M[i][j]) # 지우기\n",
    "                exist = True\n",
    "    if not exist:\n",
    "        break\n",
    "    down() # 내리기\n",
    "    \n",
    "for i in M:\n",
    "    print(''.join(i))"
   ]
  },
  {
   "cell_type": "code",
   "execution_count": null,
   "id": "0c5e1e0c",
   "metadata": {},
   "outputs": [],
   "source": []
  }
 ],
 "metadata": {
  "kernelspec": {
   "display_name": "Python 3 (ipykernel)",
   "language": "python",
   "name": "python3"
  },
  "language_info": {
   "codemirror_mode": {
    "name": "ipython",
    "version": 3
   },
   "file_extension": ".py",
   "mimetype": "text/x-python",
   "name": "python",
   "nbconvert_exporter": "python",
   "pygments_lexer": "ipython3",
   "version": "3.8.12"
  }
 },
 "nbformat": 4,
 "nbformat_minor": 5
}
