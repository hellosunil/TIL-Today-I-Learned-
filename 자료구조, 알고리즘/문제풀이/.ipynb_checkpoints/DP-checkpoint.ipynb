{
 "cells": [
  {
   "cell_type": "markdown",
   "id": "683aa2c9",
   "metadata": {},
   "source": [
    "# DP"
   ]
  },
  {
   "cell_type": "markdown",
   "id": "b37d28f5",
   "metadata": {},
   "source": [
    "1. 큰 문제를 작은 문제로 나눌 수 있다.\n",
    "2. 작은 문제에서 구한 정답은 그것을 포함하는 큰 문제에서도 동일하다."
   ]
  },
  {
   "cell_type": "markdown",
   "id": "047b8941",
   "metadata": {},
   "source": [
    "- ex. fibonacci : memoization"
   ]
  },
  {
   "cell_type": "markdown",
   "id": "ed77bc96",
   "metadata": {},
   "source": [
    "- 해결하고자 하는 문제의 중복 부분을 생각하면, 떠올리기 쉬움"
   ]
  },
  {
   "cell_type": "markdown",
   "id": "7cdd364e",
   "metadata": {},
   "source": [
    "# Q.3 개미전사"
   ]
  },
  {
   "cell_type": "code",
   "execution_count": 2,
   "id": "a7920d10",
   "metadata": {},
   "outputs": [],
   "source": [
    "n = 4\n",
    "a = [1,3,1,5]"
   ]
  },
  {
   "cell_type": "code",
   "execution_count": 6,
   "id": "903455ff",
   "metadata": {},
   "outputs": [],
   "source": [
    "def solution(n, a) -> int:\n",
    "    d = [0 for i in range(n)]\n",
    "    d[0] = a[0]\n",
    "    d[1] = max(a[0], a[1])\n",
    "    \n",
    "    for i in range(2, n):\n",
    "        d[i] = max(a[i] + d[i-2], d[i-1])\n",
    "    \n",
    "    print(d[n-1])"
   ]
  },
  {
   "cell_type": "code",
   "execution_count": 7,
   "id": "c5cfd971",
   "metadata": {},
   "outputs": [
    {
     "name": "stdout",
     "output_type": "stream",
     "text": [
      "8\n"
     ]
    }
   ],
   "source": [
    "solution(n, a)"
   ]
  },
  {
   "cell_type": "markdown",
   "id": "8a189115",
   "metadata": {},
   "source": [
    "# Q.4 바닥공사"
   ]
  },
  {
   "cell_type": "code",
   "execution_count": 16,
   "id": "eb5727ee",
   "metadata": {},
   "outputs": [],
   "source": [
    "def solution(n) -> int:\n",
    "    d = [0 for i in range(n)]\n",
    "    d[0] = 1\n",
    "    d[1] = 3\n",
    "    \n",
    "    for i in range(2, n):\n",
    "        d[i] = (d[i-1] + 2*d[i-2]) % 796796\n",
    "        \n",
    "    print(d[n-1])"
   ]
  },
  {
   "cell_type": "code",
   "execution_count": 17,
   "id": "f4c58a20",
   "metadata": {},
   "outputs": [
    {
     "name": "stdout",
     "output_type": "stream",
     "text": [
      "5\n"
     ]
    }
   ],
   "source": [
    "solution(3)"
   ]
  },
  {
   "cell_type": "markdown",
   "id": "d67f0943",
   "metadata": {},
   "source": [
    "# Q31 금광"
   ]
  },
  {
   "cell_type": "code",
   "execution_count": 72,
   "id": "23a8f7e6",
   "metadata": {},
   "outputs": [],
   "source": [
    "def solution() -> int:\n",
    "    t = int(input())\n",
    "    \n",
    "    for _ in range(t):\n",
    "        n, m = map(int, input().split())\n",
    "        nums = list(map(int, input().split()))\n",
    "        a = [[] for _ in range(n)]\n",
    "        j = 0\n",
    "        for i in range(n):\n",
    "            for _ in range(m):\n",
    "                a[i].append(nums[j])\n",
    "                j += 1\n",
    "        d = [[0] * m for _ in range(n) ]\n",
    "        for i in range(3):\n",
    "            d[i][0] = a[i][0]\n",
    "        # 가로\n",
    "        for i in range(m):\n",
    "            # 세로\n",
    "            for j in range(n):\n",
    "                if j == 0:\n",
    "                    d[j][i] = a[j][i] + max(d[j+1][i-1], d[j][i-1])\n",
    "                elif j == n-1:\n",
    "                    d[j][i] = a[j][i] + max(d[j-1][i-1], d[j][i-1])\n",
    "                else:\n",
    "                    d[j][i] = a[j][i] + max(d[j-1][i-1], d[j][i-1], d[j+1][i-1])\n",
    "        \n",
    "        print(max([d[i][m-1] for i in range(n)])) "
   ]
  },
  {
   "cell_type": "code",
   "execution_count": 73,
   "id": "8a4dbd0a",
   "metadata": {},
   "outputs": [
    {
     "name": "stdout",
     "output_type": "stream",
     "text": [
      "2\n",
      "3 4\n",
      "1 3 3 2 2 1 4 1 0 6 4 7\n",
      "19\n",
      "4 4\n",
      "1 3 1 5 2 2 4 1 5 0 2 3 0 6 1 2\n",
      "16\n"
     ]
    }
   ],
   "source": [
    "solution()"
   ]
  },
  {
   "cell_type": "markdown",
   "id": "a9537476",
   "metadata": {},
   "source": [
    "# Q. 32 정수 삼각형\n"
   ]
  },
  {
   "cell_type": "code",
   "execution_count": 68,
   "id": "1fcce98a",
   "metadata": {},
   "outputs": [],
   "source": [
    "import copy\n",
    "def solution() -> int:\n",
    "    n = int(input())\n",
    "    triangles = []\n",
    "    for i in range(n):\n",
    "        triangles.append(list(map(int, input().split())))\n",
    "    \n",
    "    dp = [0 for _ in range(n)]\n",
    "    result = [0 for _ in range(n)]\n",
    "    result[0] = triangles[0][0]\n",
    "    for t_idx in range(1, len(triangles)):\n",
    "        dp = copy.deepcopy(result)\n",
    "        for idx in range(len(triangles[t_idx])):\n",
    "            if idx == 0:\n",
    "                result[idx] = dp[idx] + triangles[t_idx][idx]\n",
    "            elif idx == len(triangles[t_idx]) -1:\n",
    "                result[idx] = dp[idx-1] + triangles[t_idx][-1]\n",
    "            else:\n",
    "                if dp[idx] > dp[idx-1]:\n",
    "                    result[idx] = triangles[t_idx][idx] + dp[idx]\n",
    "                else:\n",
    "                    result[idx] = triangles[t_idx][idx] + dp[idx-1]\n",
    "\n",
    "    print(max(result))\n",
    "    \n",
    "    "
   ]
  },
  {
   "cell_type": "code",
   "execution_count": 69,
   "id": "aafc23f9",
   "metadata": {},
   "outputs": [
    {
     "name": "stdout",
     "output_type": "stream",
     "text": [
      "5\n",
      "7\n",
      "3 8\n",
      "8 1 0\n",
      "2 7 4 4\n",
      "4 5 2 6 5\n",
      "30\n"
     ]
    }
   ],
   "source": [
    "solution()"
   ]
  },
  {
   "cell_type": "markdown",
   "id": "a5a74080",
   "metadata": {},
   "source": [
    "# Q 33 퇴사"
   ]
  },
  {
   "cell_type": "code",
   "execution_count": 163,
   "id": "c26c81ac",
   "metadata": {},
   "outputs": [],
   "source": [
    "def solution(n, n_list) -> int:\n",
    "    dp = [0 for _ in range(len(n_list))]\n",
    "    \n",
    "    for i in range(n_list[0][0]):\n",
    "        dp[i] = (n_list[0][1] / n_list[0][0]) * (i+1)\n",
    "    \n",
    "    result = 0\n",
    "    for i in range(1, len(n_list)):\n",
    "        # 각 값이 끝까지 도달했다면, 합산\n",
    "        if dp[i] == 0:\n",
    "            result += dp[i-1]\n",
    "\n",
    "        if n_list[i][0] + i <= n:\n",
    "            # 마지막 값이라면, 비교 후 업데이트\n",
    "            if n_list[i][0] + i == n:\n",
    "                if n_list[i][1] > dp[i]:\n",
    "                    result += n_list[i][1] \n",
    "                    break\n",
    "            # pay per day\n",
    "            # 중간에 끊겼다면, 새로 업데이트\n",
    "            ppd = n_list[i][1] / n_list[i][0]\n",
    "            if dp[i] < ppd:\n",
    "                for j in range(n_list[i][0]):\n",
    "                    dp[i+j] = ppd * (j+1)\n",
    "        \n",
    "        if i == len(n_list)-1:\n",
    "            result += dp[i]\n",
    "    print(int(result))        "
   ]
  },
  {
   "cell_type": "code",
   "execution_count": 164,
   "id": "a9c032b2",
   "metadata": {},
   "outputs": [],
   "source": [
    "n = 7\n",
    "n_list = [[3, 10],\n",
    "[5, 20],\n",
    "[1, 10],\n",
    "[1, 20],\n",
    "[2, 15],\n",
    "[4, 40],\n",
    "[2, 200]]"
   ]
  },
  {
   "cell_type": "code",
   "execution_count": 165,
   "id": "de01bf62",
   "metadata": {},
   "outputs": [
    {
     "name": "stdout",
     "output_type": "stream",
     "text": [
      "45\n"
     ]
    }
   ],
   "source": [
    "solution(n, n_list)"
   ]
  },
  {
   "cell_type": "code",
   "execution_count": 166,
   "id": "ee747bde",
   "metadata": {},
   "outputs": [],
   "source": [
    "n = 10\n",
    "n_list = [[1, 1],\n",
    "[1, 2],\n",
    "[1, 3],\n",
    "[1, 4],\n",
    "[1, 5],\n",
    "[1, 6],\n",
    "[1, 7],\n",
    "[1, 8],\n",
    "[1, 9],\n",
    "[1, 10]]"
   ]
  },
  {
   "cell_type": "code",
   "execution_count": 167,
   "id": "b7976962",
   "metadata": {},
   "outputs": [
    {
     "name": "stdout",
     "output_type": "stream",
     "text": [
      "55\n"
     ]
    }
   ],
   "source": [
    "solution(n, n_list)"
   ]
  },
  {
   "cell_type": "code",
   "execution_count": 168,
   "id": "39d0dbcf",
   "metadata": {},
   "outputs": [],
   "source": [
    "n = 10\n",
    "n_list = [[5, 10],\n",
    "[5, 9],\n",
    "[5, 8],\n",
    "[5, 7],\n",
    "[5, 6],\n",
    "[5, 10],\n",
    "[5, 9],\n",
    "[5, 8],\n",
    "[5, 7],\n",
    "[5, 6]]"
   ]
  },
  {
   "cell_type": "code",
   "execution_count": 169,
   "id": "ccb70403",
   "metadata": {},
   "outputs": [
    {
     "name": "stdout",
     "output_type": "stream",
     "text": [
      "20\n"
     ]
    }
   ],
   "source": [
    "solution(n, n_list)"
   ]
  },
  {
   "cell_type": "code",
   "execution_count": 170,
   "id": "b49cba51",
   "metadata": {},
   "outputs": [],
   "source": [
    "n = 10\n",
    "n_list =[[5, 50],\n",
    "[4, 40],\n",
    "[3, 30],\n",
    "[2, 20],\n",
    "[1, 10],\n",
    "[1, 10],\n",
    "[2, 20],\n",
    "[3, 30],\n",
    "[4, 40],\n",
    "[5, 50]]"
   ]
  },
  {
   "cell_type": "code",
   "execution_count": 171,
   "id": "973d7de4",
   "metadata": {},
   "outputs": [
    {
     "name": "stdout",
     "output_type": "stream",
     "text": [
      "90\n"
     ]
    }
   ],
   "source": [
    "solution(n, n_list)"
   ]
  }
 ],
 "metadata": {
  "kernelspec": {
   "display_name": "Python 3 (ipykernel)",
   "language": "python",
   "name": "python3"
  },
  "language_info": {
   "codemirror_mode": {
    "name": "ipython",
    "version": 3
   },
   "file_extension": ".py",
   "mimetype": "text/x-python",
   "name": "python",
   "nbconvert_exporter": "python",
   "pygments_lexer": "ipython3",
   "version": "3.11.1"
  }
 },
 "nbformat": 4,
 "nbformat_minor": 5
}
