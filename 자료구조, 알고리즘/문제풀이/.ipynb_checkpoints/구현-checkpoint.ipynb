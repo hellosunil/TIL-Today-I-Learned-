{
 "cells": [
  {
   "cell_type": "markdown",
   "id": "046d9204",
   "metadata": {},
   "source": [
    "# 구현 "
   ]
  },
  {
   "cell_type": "markdown",
   "id": "7f7a4415",
   "metadata": {},
   "source": [
    "## 07 럭키 스트레이트"
   ]
  },
  {
   "cell_type": "markdown",
   "id": "1ed86820",
   "metadata": {},
   "source": [
    "게임의 아웃복서 캐릭터는 필살기인 ‘럭키 스트레이트’ 기술이 있습니다. 이 기술은 매우 강력한 대\n",
    "신에 게임 내에서 점수가 특정 조건을 만족할 때만 사용할 수 있습니다.\n",
    "특정 조건이란 현재 캐릭터의 점수를 N이라고 할 때 자릿수를 기준으로 점수 N을 반으로 나누어 왼\n",
    "쪽 부분의 각 자릿수의 합과 오른쪽 부분의 각 자릿수의 합을 더한 값이 동일한 상황을 의미합니다.\n",
    "현재 점수 N이 주어지면 럭키 스트레이트를 사용할 수 있는 상태인지 아닌지를 알려주는 프로그램\n",
    "을 작성하세요.\n",
    "\n",
    "- 입력 조건\n",
    "- 첫째 줄에 점수 N이 정수로 주어집니다. (10 ≤ N ≤ 99,999,999) 단, 점수 N의 자릿수는 항상 짝수 형태로만 주어집니다. 예를 들어 자릿수가 5인 12,345와 같은 수는 입력으로 들어오지 않습니다.\n",
    "- 출력 조건\n",
    "- 첫째 줄에 럭키 스트레이트를 사용할 수 있다면 “LUCKY”를, 사용할 수 없다면 “READY”를 출력합니다."
   ]
  },
  {
   "cell_type": "code",
   "execution_count": 15,
   "id": "72597c16",
   "metadata": {
    "scrolled": true
   },
   "outputs": [],
   "source": [
    "def solution(n: int) -> str:\n",
    "    n = str(n)\n",
    "    n1, n2 = sum([int(i) for i in n[:(len(n)//2)]]), sum([int(i) for i in n[(len(n)//2):]])\n",
    "    if n1 == n2:\n",
    "        return \"LUCKY\"\n",
    "    else:\n",
    "        return \"READY\""
   ]
  },
  {
   "cell_type": "code",
   "execution_count": 16,
   "id": "a5767f5d",
   "metadata": {},
   "outputs": [
    {
     "data": {
      "text/plain": [
       "'LUCKY'"
      ]
     },
     "execution_count": 16,
     "metadata": {},
     "output_type": "execute_result"
    }
   ],
   "source": [
    "solution(123402)"
   ]
  },
  {
   "cell_type": "code",
   "execution_count": 17,
   "id": "e1757cf4",
   "metadata": {},
   "outputs": [
    {
     "data": {
      "text/plain": [
       "'READY'"
      ]
     },
     "execution_count": 17,
     "metadata": {},
     "output_type": "execute_result"
    }
   ],
   "source": [
    "solution(7755)"
   ]
  },
  {
   "cell_type": "markdown",
   "id": "8d3c977d",
   "metadata": {},
   "source": [
    "## 08 문자열 재정렬 "
   ]
  },
  {
   "cell_type": "markdown",
   "id": "f542d1c9",
   "metadata": {},
   "source": [
    "알파벳 대문자와 숫자(0 ~ 9)로만 구성된 문자열이 입력으로 주어집니다. 이때 모든 알파벳을 오\n",
    "름차순으로 정렬하여 이어서 출력한 뒤에, 그 뒤에 모든 숫자를 더한 값을 이어서 출력합니다.\n",
    "예를 들어 K1KA5CB7이라는 값이 들어오면 ABCKK13을 출력합니다.\n",
    "\n",
    "- 입력 조건\n",
    "- 첫째 줄에 하나의 문자열 S가 주어집니다. (1 ≤ S의 길이 ≤ 10,000)\n",
    "- 출력 조건\n",
    "- 첫째 줄에 문제에서 요구하는 정답을 출력합니다."
   ]
  },
  {
   "cell_type": "code",
   "execution_count": 37,
   "id": "a3ff84b1",
   "metadata": {},
   "outputs": [],
   "source": [
    "def solution(s: str) -> str:\n",
    "    n, st = 0, \"\"\n",
    "    for i in s:\n",
    "        if i.isdigit():\n",
    "            n += int(i)\n",
    "        else:\n",
    "            st += i\n",
    "    return ''.join(sorted(st))+str(n)"
   ]
  },
  {
   "cell_type": "code",
   "execution_count": 38,
   "id": "915b35a8",
   "metadata": {},
   "outputs": [
    {
     "data": {
      "text/plain": [
       "'ABCKK13'"
      ]
     },
     "execution_count": 38,
     "metadata": {},
     "output_type": "execute_result"
    }
   ],
   "source": [
    "solution(\"K1KA5CB7\")"
   ]
  },
  {
   "cell_type": "code",
   "execution_count": 39,
   "id": "ed6b9ce8",
   "metadata": {},
   "outputs": [
    {
     "data": {
      "text/plain": [
       "'ADDIJJJKKLSS20'"
      ]
     },
     "execution_count": 39,
     "metadata": {},
     "output_type": "execute_result"
    }
   ],
   "source": [
    "solution(\"AJKDLSI412K4JSJ9D\")"
   ]
  },
  {
   "cell_type": "markdown",
   "id": "52d12874",
   "metadata": {},
   "source": [
    "## 09 문자열 압축 "
   ]
  },
  {
   "cell_type": "code",
   "execution_count": null,
   "id": "67986034",
   "metadata": {},
   "outputs": [],
   "source": []
  },
  {
   "cell_type": "markdown",
   "id": "fee81066",
   "metadata": {},
   "source": [
    "## 06 무지의 먹방 라이브\n",
    "https://school.programmers.co.kr/learn/courses/30/lessons/42891"
   ]
  },
  {
   "cell_type": "code",
   "execution_count": 1,
   "id": "c418a4d4",
   "metadata": {},
   "outputs": [],
   "source": [
    "def solution(food_times, k):\n",
    "    if sum(food_times) <= k:\n",
    "        return -1\n",
    "    if len(food_times) > k:\n",
    "        return k + 1\n",
    "\n",
    "    while 1:\n",
    "        for i in range(len(food_times)):\n",
    "            if food_times[i] > 0:\n",
    "                food_times[i] -= 1\n",
    "                k -= 1\n",
    "                if k == -1:\n",
    "                    return i+1"
   ]
  },
  {
   "cell_type": "code",
   "execution_count": 2,
   "id": "4e1e4505",
   "metadata": {},
   "outputs": [
    {
     "data": {
      "text/plain": [
       "1"
      ]
     },
     "execution_count": 2,
     "metadata": {},
     "output_type": "execute_result"
    }
   ],
   "source": [
    "solution([3,1,2], 5)"
   ]
  },
  {
   "cell_type": "code",
   "execution_count": 3,
   "id": "ef37a861",
   "metadata": {},
   "outputs": [
    {
     "data": {
      "text/plain": [
       "1"
      ]
     },
     "execution_count": 3,
     "metadata": {},
     "output_type": "execute_result"
    }
   ],
   "source": [
    "from heapq import heappush, heappop\n",
    "def solution(food_times, k):\n",
    "    an, len_f, b_cycle = -1, len(food_times), 0\n",
    "    hq = []\n",
    "    for i in range(len_f):\n",
    "        heappush(hq, (food_times[i], i))\n",
    "    while 1:\n",
    "        cycle = len_f * (hq[0][0] - b_cycle)\n",
    "        if cycle <= k:\n",
    "            k -= cycle\n",
    "            len_f -= 1\n",
    "            b_cycle, _ = heappop(hq)\n",
    "        else:\n",
    "            i = k % len_f\n",
    "            hq.sort(key = lambda x : x[1])\n",
    "            an = hq[i][1] + 1\n",
    "            break\n",
    "    return an\n",
    "solution([3,1,2], 5)"
   ]
  },
  {
   "cell_type": "code",
   "execution_count": null,
   "id": "364aefdf",
   "metadata": {},
   "outputs": [],
   "source": []
  }
 ],
 "metadata": {
  "kernelspec": {
   "display_name": "Python 3 (ipykernel)",
   "language": "python",
   "name": "python3"
  },
  "language_info": {
   "codemirror_mode": {
    "name": "ipython",
    "version": 3
   },
   "file_extension": ".py",
   "mimetype": "text/x-python",
   "name": "python",
   "nbconvert_exporter": "python",
   "pygments_lexer": "ipython3",
   "version": "3.11.1"
  }
 },
 "nbformat": 4,
 "nbformat_minor": 5
}
