{
 "cells": [
  {
   "cell_type": "markdown",
   "id": "91329249",
   "metadata": {},
   "source": [
    "## 펠린드롬(회문 판별)\n",
    "#### 펠린드롬인지 확인하라. 대소문자를 구분하지 않으며, 영문자와 숫자만을 대상으로 한다"
   ]
  },
  {
   "cell_type": "code",
   "execution_count": 16,
   "id": "8ce8fcf0",
   "metadata": {},
   "outputs": [
    {
     "name": "stdout",
     "output_type": "stream",
     "text": [
      "True\n",
      "True\n",
      "True\n",
      "didklasjkflksdajf\n"
     ]
    }
   ],
   "source": [
    "# 영문자, 숫자 여부를 판별하는 함수 $ isalpha = 문자만 판별 ## 특수문자를 제외할 때 사용\n",
    "print('aa'.isalnum())\n",
    "print('0'.isalnum())\n",
    "print('가나'.isalpha())\n",
    "\n",
    "# 만약 문자열 중 특수문자, 숫자 없이 문자열만을 뽑아와야 한다면\n",
    "a = 'didklasjkflksdajf123123123123!@#!@$!@#!@#!@#'\n",
    "b = ''\n",
    "for i in a:\n",
    "    if i.isalpha():\n",
    "        b += i       \n",
    "print(b)"
   ]
  },
  {
   "cell_type": "code",
   "execution_count": 20,
   "id": "688bb479",
   "metadata": {},
   "outputs": [
    {
     "data": {
      "text/plain": [
       "True"
      ]
     },
     "execution_count": 20,
     "metadata": {},
     "output_type": "execute_result"
    }
   ],
   "source": [
    "# 데크 활용\n",
    "import collections\n",
    "def isPalin(s:str) -> bool: # s에 str이 온다는 표현, bool 결과값을 반환한다는 명시적 표현\n",
    "    # 자료형 데크로 선언\n",
    "    strs: Deque = collections.deque()\n",
    "    \n",
    "    for char in s:\n",
    "        if char.isalnum():\n",
    "            strs.append(char.lower)\n",
    "    while len(strs) > 1:\n",
    "        if strs.popleft() != strs.pop():\n",
    "            return False\n",
    "    return True\n",
    "\n",
    "a= 'rumur'\n",
    "isPalin(a)\n",
    "\n",
    "# pop(0)이 O(n)인데 반해, deque의 popleft()는 O(1)이기 때문"
   ]
  },
  {
   "cell_type": "code",
   "execution_count": 27,
   "id": "42a4c76d",
   "metadata": {
    "scrolled": true
   },
   "outputs": [
    {
     "data": {
      "text/plain": [
       "False"
      ]
     },
     "execution_count": 27,
     "metadata": {},
     "output_type": "execute_result"
    }
   ],
   "source": [
    "#슬라이싱활용\n",
    "import re\n",
    "def check_palin(s):\n",
    "    s = s.lower()\n",
    "    s = re.sub('[^a-z0-9]', '', s)\n",
    "    return s == s[::-1]\n",
    "    \n",
    "check_palin('rumurd')"
   ]
  },
  {
   "cell_type": "markdown",
   "id": "b4529522",
   "metadata": {},
   "source": [
    "## 문자열 뒤집기\n",
    "#### 입력값은 문자 배열, 리턴 없이 리스트 내부를 직접 조작하라"
   ]
  },
  {
   "cell_type": "code",
   "execution_count": 28,
   "id": "fd3ba19c",
   "metadata": {},
   "outputs": [
    {
     "name": "stdout",
     "output_type": "stream",
     "text": [
      "['o', 'l', 'l', 'e', 'h']\n"
     ]
    }
   ],
   "source": [
    "A = ['h','e','l','l','o']\n",
    "\n",
    "def S_reverse(x):\n",
    "    x = x[::-1]\n",
    "    print(x)\n",
    "    \n",
    "S_reverse(A)"
   ]
  },
  {
   "cell_type": "code",
   "execution_count": 36,
   "id": "3caafb82",
   "metadata": {},
   "outputs": [
    {
     "name": "stdout",
     "output_type": "stream",
     "text": [
      "['o', 'l', 'l', 'e', 'h']\n"
     ]
    }
   ],
   "source": [
    "# 투포인터\n",
    "A = ['h','e','l','l','o']\n",
    "def reverse_string(s: list) -> None:\n",
    "    left, right = 0, len(s) -1\n",
    "    while left < right:\n",
    "        s[left], s[right] = s[right], s[left]\n",
    "        left += 1\n",
    "        right -= 1\n",
    "reverse_string(A)\n",
    "print(A)"
   ]
  },
  {
   "cell_type": "code",
   "execution_count": null,
   "id": "f1bd1731",
   "metadata": {},
   "outputs": [],
   "source": [
    "# pythonic\n",
    "\n",
    "def reverse_string(s:list) -> None:\n",
    "    s.reverse() # reverse함수는 list에만 적용 가능"
   ]
  },
  {
   "cell_type": "markdown",
   "id": "421fb548",
   "metadata": {},
   "source": [
    "## 로그를 재정렬\n",
    "#### 로그의 가장 앞 부분은 식별자다\n",
    "#### 문자로 구성된 로그가 숫자 로그보다 앞에 온다\n",
    "#### 식별자는 순서에 영향을 끼치지 않지만, 문자가 동일한 경우 식별자 순으로 한다\n",
    "#### 숫자 로그는 입력 순서대로 한다"
   ]
  },
  {
   "cell_type": "code",
   "execution_count": 58,
   "id": "f3b26b31",
   "metadata": {},
   "outputs": [
    {
     "data": {
      "text/plain": [
       "['left1 art can',\n",
       " 'let3 art zero',\n",
       " 'let2 own kit dig',\n",
       " 'dig1 8 1 5 1',\n",
       " 'dig2 3 6']"
      ]
     },
     "execution_count": 58,
     "metadata": {},
     "output_type": "execute_result"
    }
   ],
   "source": [
    "log = ['dig1 8 1 5 1', 'left1 art can', 'dig2 3 6', 'let2 own kit dig', 'let3 art zero']\n",
    "\n",
    "def sortlog(s:list) -> list:\n",
    "    alpha = []\n",
    "    digit = []\n",
    "    for i in s:\n",
    "        if i.split()[1].isalpha():\n",
    "            alpha.append(i)\n",
    "        else: digit.append(i)\n",
    "    alpha.sort(key = lambda x: (x.split()[1:], x.split()[0]))\n",
    "    return alpha + digit\n",
    "sortlog(log)"
   ]
  },
  {
   "cell_type": "markdown",
   "id": "6096daca",
   "metadata": {},
   "source": [
    "## 가장 흔한 단어\n",
    "#### 금지된 단어를 제외한 가장 흔하게 등장하는 단어를 출력하라.\n",
    "#### 대소문자 구분을 하지 않으며, 구두점(마침표, 쉼표) 또한 무시한다"
   ]
  },
  {
   "cell_type": "code",
   "execution_count": 94,
   "id": "1403b8a3",
   "metadata": {},
   "outputs": [],
   "source": [
    "para = 'Bob hit a ball, the hit BALL flew far after it was hit.'\n",
    "banned = ['hit']"
   ]
  },
  {
   "cell_type": "code",
   "execution_count": 96,
   "id": "3a9e8690",
   "metadata": {},
   "outputs": [
    {
     "data": {
      "text/plain": [
       "'ball'"
      ]
     },
     "execution_count": 96,
     "metadata": {},
     "output_type": "execute_result"
    }
   ],
   "source": [
    "import collections, re\n",
    "def common_str(x: str) -> str:\n",
    "    x = x.lower()\n",
    "    x = re.sub('[^a-z ]', '', x)\n",
    "    x = [i for i in x.split() if i not in banned]\n",
    "    return collections.Counter(x).most_common(1)[0][0]\n",
    "common_str(para)"
   ]
  },
  {
   "cell_type": "markdown",
   "id": "9eb89134",
   "metadata": {},
   "source": [
    "## 그룹 애너그램\n",
    "#### 문자열 배열을 받아 애너그램 단위로 그루핑하라.\n",
    "#### 애너그램 : 문자를 재배열하여 다른 뜻을 가진 단어로 바꾸는 것 예) 문전박대 -> 대박전문"
   ]
  },
  {
   "cell_type": "code",
   "execution_count": 97,
   "id": "e9a0d854",
   "metadata": {},
   "outputs": [],
   "source": [
    "inp = ['eat','tea','tan','ate','nat','bat']"
   ]
  },
  {
   "cell_type": "code",
   "execution_count": 125,
   "id": "ff7af488",
   "metadata": {},
   "outputs": [
    {
     "data": {
      "text/plain": [
       "[['eat', 'tea', 'ate'], ['tan', 'nat'], ['bat']]"
      ]
     },
     "execution_count": 125,
     "metadata": {},
     "output_type": "execute_result"
    }
   ],
   "source": [
    "def grouping_anagram(x:list) -> list:\n",
    "    # dic = {} 그냥 dict로 할 경우, 존재하지 않는 키를 삽입할 때 에러 발생!!\n",
    "    dic = collections.defaultdict(list)\n",
    "    for i in x:\n",
    "        dic[''.join(sorted(i))].append(i)\n",
    "    return list(dic.values())\n",
    "\n",
    "grouping_anagram(inp)"
   ]
  },
  {
   "cell_type": "markdown",
   "id": "7bd4df8c",
   "metadata": {},
   "source": [
    "## 가장 긴 팰린드롬 부분 문자열\n",
    "#### 가장 긴 팰린드롬 부분 문자열을 출력하라"
   ]
  },
  {
   "cell_type": "code",
   "execution_count": 135,
   "id": "95f926a5",
   "metadata": {},
   "outputs": [],
   "source": [
    "inp = 'babad'"
   ]
  },
  {
   "cell_type": "code",
   "execution_count": 142,
   "id": "343b2506",
   "metadata": {},
   "outputs": [
    {
     "data": {
      "text/plain": [
       "'bad'"
      ]
     },
     "execution_count": 142,
     "metadata": {},
     "output_type": "execute_result"
    }
   ],
   "source": [
    "def long_pel(x:str) -> str:\n",
    "    # 짝수, 홀수인 포인터 사용\n",
    "    def expand(left: int, right: int) -> str:\n",
    "        while left >= 0 and right < len(x) and x[left] == x[right]:\n",
    "            left += 1\n",
    "            right -= 1\n",
    "        return x[left : right+1]\n",
    "    \n",
    "    if len(x) < 2 or x==x[::-1]:\n",
    "        return x\n",
    "    \n",
    "    result = ''\n",
    "    for i in range(len(x)-1):\n",
    "        result = max(result, expand(i, i+1), expand(i, i+2), key=len)\n",
    "    return result\n",
    "\n",
    "long_pel(inp)"
   ]
  },
  {
   "cell_type": "markdown",
   "id": "aca83892",
   "metadata": {},
   "source": [
    "## 두 수의 합\n",
    "#### 덧셈하여 타겟을 만들 수 있는 배열의 두 숫자 인덱스를 리턴하라"
   ]
  },
  {
   "cell_type": "code",
   "execution_count": 143,
   "id": "7488ad45",
   "metadata": {},
   "outputs": [],
   "source": [
    "nums = [2, 7, 11, 15]\n",
    "target = 9"
   ]
  },
  {
   "cell_type": "code",
   "execution_count": 151,
   "id": "00f77299",
   "metadata": {},
   "outputs": [
    {
     "data": {
      "text/plain": [
       "0"
      ]
     },
     "execution_count": 151,
     "metadata": {},
     "output_type": "execute_result"
    }
   ],
   "source": [
    "nums.index(2)"
   ]
  },
  {
   "cell_type": "code",
   "execution_count": 150,
   "id": "bb91e3b7",
   "metadata": {},
   "outputs": [
    {
     "data": {
      "text/plain": [
       "[0, 1]"
      ]
     },
     "execution_count": 150,
     "metadata": {},
     "output_type": "execute_result"
    }
   ],
   "source": [
    "def target_sum(x: list): # O(n^2)\n",
    "    for i in range(len(nums)):\n",
    "        for j in range(len(nums)):\n",
    "            if nums[i] + nums[j] == target:\n",
    "                return [i, j]\n",
    "target_sum(nums)"
   ]
  },
  {
   "cell_type": "code",
   "execution_count": 153,
   "id": "d1389464",
   "metadata": {},
   "outputs": [
    {
     "data": {
      "text/plain": [
       "[0, 1]"
      ]
     },
     "execution_count": 153,
     "metadata": {},
     "output_type": "execute_result"
    }
   ],
   "source": [
    "def target_sum(x: list): # O(n^2), 하지만 상수값의 차이로 조금 더 빠름\n",
    "    for i in nums:\n",
    "        tar = target - i\n",
    "        if tar in nums:\n",
    "            return [nums.index(i), nums.index(tar)]\n",
    "target_sum(nums)"
   ]
  },
  {
   "cell_type": "code",
   "execution_count": 158,
   "id": "013c5674",
   "metadata": {},
   "outputs": [
    {
     "data": {
      "text/plain": [
       "[0, 1]"
      ]
     },
     "execution_count": 158,
     "metadata": {},
     "output_type": "execute_result"
    }
   ],
   "source": [
    "# 한 번만 탐색하게 O(n)\n",
    "def target_sum(x:list):\n",
    "    dic = {}\n",
    "    for k, v in enumerate(nums):\n",
    "        dic[v] = k\n",
    "    \n",
    "    for i, j in enumerate(nums):\n",
    "        tar = target - j\n",
    "        if tar in dic and i != dic[tar]:\n",
    "            return [i, dic[tar]]\n",
    "target_sum(nums)    "
   ]
  },
  {
   "cell_type": "code",
   "execution_count": 165,
   "id": "a1cfcc0f",
   "metadata": {},
   "outputs": [
    {
     "data": {
      "text/plain": [
       "[0, 2]"
      ]
     },
     "execution_count": 165,
     "metadata": {},
     "output_type": "execute_result"
    }
   ],
   "source": [
    "# 인덱스가 아닌, 값을 찾는 문제라면 투 포인터로 해결할 수도\n",
    "\n",
    "def target_sum(x:list):\n",
    "    left, right = 0, len(x)-1\n",
    "    while left != right:\n",
    "        if x[left] + x[right] > target:\n",
    "            right -= 1\n",
    "        if x[left] + x[right] < target:\n",
    "            left += 1\n",
    "        else:\n",
    "            return [left, right]\n",
    "        \n",
    "target_sum(nums)"
   ]
  },
  {
   "cell_type": "markdown",
   "id": "783b1490",
   "metadata": {},
   "source": [
    "## 빗물 트래핑\n",
    "#### 높이를 입력받아 비 온 후 얼마나 많은 물이 쌓일 수 있는지 계산하라"
   ]
  },
  {
   "cell_type": "code",
   "execution_count": 166,
   "id": "eec06fc1",
   "metadata": {},
   "outputs": [],
   "source": [
    "inp = [0,1,0,2,1,0,1,3,2,1,2,1]"
   ]
  },
  {
   "cell_type": "code",
   "execution_count": 202,
   "id": "d88958f2",
   "metadata": {},
   "outputs": [
    {
     "data": {
      "text/plain": [
       "6"
      ]
     },
     "execution_count": 202,
     "metadata": {},
     "output_type": "execute_result"
    }
   ],
   "source": [
    "import time\n",
    "def save_rain(x:list):\n",
    "    point1, point2, size = 0, 0, 0\n",
    "    while point2 != len(x)-1:\n",
    "        if inp[point1] == 0:\n",
    "            point1 += 1\n",
    "        else:\n",
    "            tmp = inp[point1]\n",
    "            point2 = point1 + 1\n",
    "            while inp[point1] > inp[point2]:\n",
    "                point2 += 1\n",
    "                if point2 >= len(x)-1:\n",
    "                    point1 += 1\n",
    "                    point2 = point1\n",
    "            minx = min(inp[point1], inp[point2])\n",
    "            for i in range(point1+1, point2):\n",
    "                size += minx - inp[i]\n",
    "            point1 = point2\n",
    "    return size\n",
    "save_rain(inp)"
   ]
  },
  {
   "cell_type": "code",
   "execution_count": 191,
   "id": "93412ed8",
   "metadata": {},
   "outputs": [
    {
     "data": {
      "text/plain": [
       "6"
      ]
     },
     "execution_count": 191,
     "metadata": {},
     "output_type": "execute_result"
    }
   ],
   "source": [
    "# 투 포인터 풀이 : O(n)\n",
    "def trap(height: list) -> int:\n",
    "    if not height:\n",
    "        return 0\n",
    "    volume = 0\n",
    "    left, right = 0, len(height) -1\n",
    "    left_max, right_max = height[left], height[right]\n",
    "    while left < right:\n",
    "        left_max, right_max = max(height[left], left_max), max(height[right], right_max)\n",
    "        # 더 높은 쪽을 향해 투 포인터 이동\n",
    "        # 반대 쪽에 더 높은 게 있으면 무조건 물이 참\n",
    "        if left_max <= right_max:\n",
    "            volume += left_max - height[left]\n",
    "            left += 1\n",
    "        else:\n",
    "            volume += right_max - height[right]\n",
    "            right -= 1\n",
    "    return volume\n",
    "trap(inp)"
   ]
  },
  {
   "cell_type": "code",
   "execution_count": 204,
   "id": "c21240c1",
   "metadata": {},
   "outputs": [
    {
     "data": {
      "text/plain": [
       "6"
      ]
     },
     "execution_count": 204,
     "metadata": {},
     "output_type": "execute_result"
    }
   ],
   "source": [
    "inp = [0,1,0,2,1,0,1,3,2,1,2,1]\n",
    "# 스택으로 풀기\n",
    "def trap(height: list) -> int:\n",
    "    stack = []\n",
    "    volume = 0\n",
    "    for i in range(len(height)):\n",
    "        # 변곡점을 만나는 경우\n",
    "        while stack and height[i] > height[stack[-1]]: # true일 때만 타므로 stack이 빈 리스트(false)일 때는 타지 않음\n",
    "            # 스택에서 꺼냄\n",
    "            top = stack.pop()\n",
    "            if not len(stack):\n",
    "                break\n",
    "            # 이전과의 차이만큼 물 높이 처리\n",
    "            distance = i - stack[-1] -1\n",
    "            waters = min(height[i], height[stack[-1]]) - height[top]\n",
    "            volume += distance * waters\n",
    "        stack.append(i)\n",
    "    return volume\n",
    "trap(inp)"
   ]
  },
  {
   "cell_type": "markdown",
   "id": "428b837b",
   "metadata": {},
   "source": [
    "## 세 수의 합\n",
    "#### 배열을 입력받아 합으로 0을 만들 수 있는 3개의 엘리먼트를 출력하라."
   ]
  },
  {
   "cell_type": "code",
   "execution_count": 216,
   "id": "2954cd09",
   "metadata": {},
   "outputs": [],
   "source": [
    "nums = [-1, 0, 1, 2, -1, -4]"
   ]
  },
  {
   "cell_type": "code",
   "execution_count": 251,
   "id": "9a23f9af",
   "metadata": {},
   "outputs": [
    {
     "data": {
      "text/plain": [
       "[[-1, -1, 2], [-1, 0, 1]]"
      ]
     },
     "execution_count": 251,
     "metadata": {},
     "output_type": "execute_result"
    }
   ],
   "source": [
    "import copy\n",
    "def zerosum(nums:list) -> list:\n",
    "    answer = []\n",
    "    nums.sort()\n",
    "    for i in range(len(nums)-2):\n",
    "        if i>0 and nums[i] == nums[i-1]:\n",
    "            continue\n",
    "        # 투 포인터로 합 계산\n",
    "        left, right = i+1, len(nums)-1\n",
    "        while left < right:\n",
    "            ssum = nums[i] + nums[left] + nums[right]\n",
    "            if ssum < 0:\n",
    "                left += 1\n",
    "            elif ssum > 0:\n",
    "                right -= 1\n",
    "            else:\n",
    "                answer.append([nums[i], nums[left], nums[right]])\n",
    "                while left < right and nums[left] == nums[left+1]:\n",
    "                    left += 1\n",
    "                while left < right and nums[right] == nums[right-1]:\n",
    "                    right -= 1\n",
    "                left += 1\n",
    "                right -= 1\n",
    "    return answer\n",
    "zerosum(nums)"
   ]
  },
  {
   "cell_type": "markdown",
   "id": "38505556",
   "metadata": {},
   "source": [
    "## 배열 파티션 1\n",
    "#### n개의 페어를 이용한 min(a, b)의 합으로 만들 수 있는 가장 큰 수를 출력하라"
   ]
  },
  {
   "cell_type": "code",
   "execution_count": 1,
   "id": "be6245c2",
   "metadata": {},
   "outputs": [],
   "source": [
    "inp = [1, 4, 3, 2]"
   ]
  },
  {
   "cell_type": "code",
   "execution_count": 6,
   "id": "6c286b55",
   "metadata": {},
   "outputs": [],
   "source": [
    "# 순서대로 정렬해서\n",
    "# 2개씩 묶으면 됨\n",
    "# 만약 홀수라면?\n",
    "# 가장 왼쪽 것을 3개로 묶으면 됨\n",
    "\n",
    "def pairsum(x:list) -> int:\n",
    "    x.sort()\n",
    "    return sum(inp[::2])"
   ]
  },
  {
   "cell_type": "code",
   "execution_count": 7,
   "id": "24eed794",
   "metadata": {},
   "outputs": [
    {
     "data": {
      "text/plain": [
       "4"
      ]
     },
     "execution_count": 7,
     "metadata": {},
     "output_type": "execute_result"
    }
   ],
   "source": [
    "pairsum(inp)"
   ]
  },
  {
   "cell_type": "markdown",
   "id": "c67cff3f",
   "metadata": {},
   "source": [
    "## 자신을 제외한 배열의 곱\n",
    "#### 배열을 입력받아 ouput[i]가 자신을 제외한 나머지 모든 요소의 곱셈과 결과가 같도록 출력하라"
   ]
  },
  {
   "cell_type": "code",
   "execution_count": 8,
   "id": "b23076c2",
   "metadata": {},
   "outputs": [],
   "source": [
    "inp = [1,2,3,4]\n",
    "out = [24,12,8,6]\n",
    "# 나눗셈을 하지 않고 O(n)에 풀이하라"
   ]
  },
  {
   "cell_type": "code",
   "execution_count": 12,
   "id": "b9db3680",
   "metadata": {},
   "outputs": [],
   "source": [
    "def productExceptSelf(nums: list) -> list:\n",
    "    out = []\n",
    "    p = 1\n",
    "    # 왼쪽 곱샘\n",
    "    for i in range(0, len(nums)):\n",
    "        out.append(p)\n",
    "        p = p * nums[i]\n",
    "    p = 1\n",
    "    # 왼쪽 곱샘 결과에 오른쪽 값을 차례대로 곱샘\n",
    "    for i in range(len(nums)-1, 0-1, -1):\n",
    "        out[i] = out[i] * p\n",
    "        p = p* nums[i]\n",
    "    return out"
   ]
  },
  {
   "cell_type": "code",
   "execution_count": 13,
   "id": "a6d9d301",
   "metadata": {},
   "outputs": [
    {
     "data": {
      "text/plain": [
       "[24, 12, 8, 6]"
      ]
     },
     "execution_count": 13,
     "metadata": {},
     "output_type": "execute_result"
    }
   ],
   "source": [
    "productExceptSelf(inp)"
   ]
  },
  {
   "cell_type": "markdown",
   "id": "6e1797c2",
   "metadata": {},
   "source": [
    "## 주식을 사고팔기 가장 좋은 시점\n",
    "#### 한 번의 거래로 낼 수 있는 최대 이익을 산출하라"
   ]
  },
  {
   "cell_type": "code",
   "execution_count": 20,
   "id": "083e8c92",
   "metadata": {},
   "outputs": [],
   "source": [
    "inp = [7,1,5,3,6,4]\n",
    "out = 5"
   ]
  },
  {
   "cell_type": "code",
   "execution_count": null,
   "id": "0ad39978",
   "metadata": {},
   "outputs": [],
   "source": []
  }
 ],
 "metadata": {
  "kernelspec": {
   "display_name": "Python 3",
   "language": "python",
   "name": "python3"
  },
  "language_info": {
   "codemirror_mode": {
    "name": "ipython",
    "version": 3
   },
   "file_extension": ".py",
   "mimetype": "text/x-python",
   "name": "python",
   "nbconvert_exporter": "python",
   "pygments_lexer": "ipython3",
   "version": "3.8.8"
  }
 },
 "nbformat": 4,
 "nbformat_minor": 5
}
