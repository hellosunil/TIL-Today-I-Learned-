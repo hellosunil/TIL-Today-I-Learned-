{
 "cells": [
  {
   "cell_type": "code",
   "execution_count": 1,
   "id": "5aa1e0b4",
   "metadata": {},
   "outputs": [],
   "source": [
    "from IPython.core.interactiveshell import InteractiveShell\n",
    "InteractiveShell.ast_node_interactivity = \"all\""
   ]
  },
  {
   "cell_type": "markdown",
   "id": "fdf823ae",
   "metadata": {},
   "source": [
    "### 힌트타입"
   ]
  },
  {
   "cell_type": "code",
   "execution_count": 2,
   "id": "d693e2e7",
   "metadata": {},
   "outputs": [],
   "source": [
    "a : str = \"1\"\n",
    "b : int = 1"
   ]
  },
  {
   "cell_type": "code",
   "execution_count": 3,
   "id": "49b902ef",
   "metadata": {},
   "outputs": [
    {
     "data": {
      "text/plain": [
       "str"
      ]
     },
     "execution_count": 3,
     "metadata": {},
     "output_type": "execute_result"
    },
    {
     "data": {
      "text/plain": [
       "int"
      ]
     },
     "execution_count": 3,
     "metadata": {},
     "output_type": "execute_result"
    }
   ],
   "source": [
    "type(a)\n",
    "type(b)"
   ]
  },
  {
   "cell_type": "code",
   "execution_count": 4,
   "id": "e9490d99",
   "metadata": {},
   "outputs": [],
   "source": [
    "def fn(a: int) -> bool:\n",
    "    if a > 1:\n",
    "        return True\n",
    "    else:\n",
    "        return False"
   ]
  },
  {
   "cell_type": "code",
   "execution_count": 5,
   "id": "07cbdbcd",
   "metadata": {},
   "outputs": [
    {
     "data": {
      "text/plain": [
       "True"
      ]
     },
     "execution_count": 5,
     "metadata": {},
     "output_type": "execute_result"
    }
   ],
   "source": [
    "fn(2)"
   ]
  },
  {
   "cell_type": "markdown",
   "id": "f374c66c",
   "metadata": {},
   "source": [
    "### 리스트 컴프리헨션"
   ]
  },
  {
   "cell_type": "markdown",
   "id": "3e103791",
   "metadata": {},
   "source": [
    "#### 함수형 기능(map, filter)과 람다 표현식 지원"
   ]
  },
  {
   "cell_type": "code",
   "execution_count": 6,
   "id": "d0b10eb2",
   "metadata": {},
   "outputs": [
    {
     "data": {
      "text/plain": [
       "[11, 12, 13]"
      ]
     },
     "execution_count": 6,
     "metadata": {},
     "output_type": "execute_result"
    }
   ],
   "source": [
    "list(map(lambda x: x + 10, [1, 2, 3]))"
   ]
  },
  {
   "cell_type": "code",
   "execution_count": 7,
   "id": "7cc01e4b",
   "metadata": {},
   "outputs": [
    {
     "data": {
      "text/plain": [
       "[2, 6, 10, 14, 18]"
      ]
     },
     "execution_count": 7,
     "metadata": {},
     "output_type": "execute_result"
    }
   ],
   "source": [
    "# 홀수인 경우 2를 곱해 출력하라\n",
    "\n",
    "[i * 2 for i in range(1, 11) if i % 2 == 1]"
   ]
  },
  {
   "cell_type": "markdown",
   "id": "482faaf6",
   "metadata": {},
   "source": [
    "### 제너레이터"
   ]
  },
  {
   "cell_type": "code",
   "execution_count": 8,
   "id": "3737ab01",
   "metadata": {},
   "outputs": [
    {
     "data": {
      "text/plain": [
       "<generator object get_number at 0x1074b53c0>"
      ]
     },
     "execution_count": 8,
     "metadata": {},
     "output_type": "execute_result"
    }
   ],
   "source": [
    "# yield\n",
    "\n",
    "def get_number():\n",
    "    n=0\n",
    "    while True: # 무한반복되며 맨 끝에 도달할 때까지 실행됨\n",
    "        n += 1\n",
    "        yield n # return문 대신 실행 중이던 값을 내보냄 ==> 조절은 next()로!\n",
    "\n",
    "get_number()"
   ]
  },
  {
   "cell_type": "code",
   "execution_count": 9,
   "id": "7261df87",
   "metadata": {},
   "outputs": [
    {
     "name": "stdout",
     "output_type": "stream",
     "text": [
      "1\n",
      "2\n",
      "3\n",
      "4\n",
      "5\n",
      "6\n",
      "7\n",
      "8\n",
      "9\n",
      "10\n"
     ]
    }
   ],
   "source": [
    "g = get_number()\n",
    "for _ in range(10):\n",
    "    print(next(g))"
   ]
  },
  {
   "cell_type": "code",
   "execution_count": 10,
   "id": "06ce2c3e",
   "metadata": {},
   "outputs": [
    {
     "name": "stdout",
     "output_type": "stream",
     "text": [
      "11\n"
     ]
    }
   ],
   "source": [
    "print(next(g))"
   ]
  },
  {
   "cell_type": "code",
   "execution_count": 11,
   "id": "c4568eae",
   "metadata": {},
   "outputs": [
    {
     "data": {
      "text/plain": [
       "12"
      ]
     },
     "execution_count": 11,
     "metadata": {},
     "output_type": "execute_result"
    }
   ],
   "source": [
    "next(g)"
   ]
  },
  {
   "cell_type": "markdown",
   "id": "6d557744",
   "metadata": {},
   "source": [
    "#### 대표적인 제너레이터가 바로 range"
   ]
  },
  {
   "cell_type": "code",
   "execution_count": 12,
   "id": "d6d5ed66",
   "metadata": {},
   "outputs": [],
   "source": [
    "a = list(range(10))\n",
    "b = range(10)"
   ]
  },
  {
   "cell_type": "code",
   "execution_count": 13,
   "id": "4e12e4b0",
   "metadata": {},
   "outputs": [
    {
     "data": {
      "text/plain": [
       "10"
      ]
     },
     "execution_count": 13,
     "metadata": {},
     "output_type": "execute_result"
    },
    {
     "data": {
      "text/plain": [
       "10"
      ]
     },
     "execution_count": 13,
     "metadata": {},
     "output_type": "execute_result"
    }
   ],
   "source": [
    "len(a)\n",
    "len(b)"
   ]
  },
  {
   "cell_type": "code",
   "execution_count": 14,
   "id": "5bcace42",
   "metadata": {},
   "outputs": [
    {
     "data": {
      "text/plain": [
       "list"
      ]
     },
     "execution_count": 14,
     "metadata": {},
     "output_type": "execute_result"
    },
    {
     "data": {
      "text/plain": [
       "range"
      ]
     },
     "execution_count": 14,
     "metadata": {},
     "output_type": "execute_result"
    }
   ],
   "source": [
    "type(a)\n",
    "type(b)"
   ]
  },
  {
   "cell_type": "code",
   "execution_count": 15,
   "id": "ee62e40a",
   "metadata": {},
   "outputs": [
    {
     "data": {
      "text/plain": [
       "136"
      ]
     },
     "execution_count": 15,
     "metadata": {},
     "output_type": "execute_result"
    },
    {
     "data": {
      "text/plain": [
       "48"
      ]
     },
     "execution_count": 15,
     "metadata": {},
     "output_type": "execute_result"
    }
   ],
   "source": [
    "# 차이점 : 메모리 점유율 측면에서 range가 훨씬 유리하다\n",
    "# range는 생성 조건만 정의되어 있기 때문에\n",
    "import sys\n",
    "sys.getsizeof(a)\n",
    "sys.getsizeof(b)"
   ]
  },
  {
   "cell_type": "code",
   "execution_count": 16,
   "id": "abc663db",
   "metadata": {},
   "outputs": [
    {
     "data": {
      "text/plain": [
       "1"
      ]
     },
     "execution_count": 16,
     "metadata": {},
     "output_type": "execute_result"
    }
   ],
   "source": [
    "# 리스트와 거의 동일한 느낌으로 사용 가능\n",
    "b[1]"
   ]
  },
  {
   "cell_type": "markdown",
   "id": "cbe72338",
   "metadata": {},
   "source": [
    "#### index와 value를 함께 가져오는 enumerate"
   ]
  },
  {
   "cell_type": "code",
   "execution_count": 17,
   "id": "5e0cd0b4",
   "metadata": {},
   "outputs": [
    {
     "data": {
      "text/plain": [
       "<enumerate at 0x1074dbfb0>"
      ]
     },
     "execution_count": 17,
     "metadata": {},
     "output_type": "execute_result"
    }
   ],
   "source": [
    "a = list(range(10,15))\n",
    "enumerate(a)"
   ]
  },
  {
   "cell_type": "code",
   "execution_count": 18,
   "id": "2ce194d0",
   "metadata": {},
   "outputs": [
    {
     "data": {
      "text/plain": [
       "[(0, 10), (1, 11), (2, 12), (3, 13), (4, 14)]"
      ]
     },
     "execution_count": 18,
     "metadata": {},
     "output_type": "execute_result"
    }
   ],
   "source": [
    "# 인덱싱 정보와 값을 나타내줌\n",
    "list(enumerate(a))"
   ]
  },
  {
   "cell_type": "markdown",
   "id": "bfaba754",
   "metadata": {},
   "source": [
    "#### print"
   ]
  },
  {
   "cell_type": "code",
   "execution_count": 19,
   "id": "394a39e9",
   "metadata": {},
   "outputs": [
    {
     "name": "stdout",
     "output_type": "stream",
     "text": [
      "a,b\n",
      "c\n"
     ]
    }
   ],
   "source": [
    "print('a', 'b', sep=',')\n",
    "print('c')"
   ]
  },
  {
   "cell_type": "code",
   "execution_count": 20,
   "id": "3732b2fc",
   "metadata": {},
   "outputs": [
    {
     "name": "stdout",
     "output_type": "stream",
     "text": [
      "aa bb,c\n"
     ]
    }
   ],
   "source": [
    "print('aa', 'bb', end=',')\n",
    "print('c')"
   ]
  },
  {
   "cell_type": "code",
   "execution_count": 21,
   "id": "d17e860c",
   "metadata": {},
   "outputs": [
    {
     "name": "stdout",
     "output_type": "stream",
     "text": [
      "['a', 'b']\n"
     ]
    }
   ],
   "source": [
    "a = ['a', 'b']\n",
    "print(a)"
   ]
  },
  {
   "cell_type": "code",
   "execution_count": 22,
   "id": "f8e1ad8c",
   "metadata": {
    "scrolled": true
   },
   "outputs": [
    {
     "name": "stdout",
     "output_type": "stream",
     "text": [
      "a b\n"
     ]
    }
   ],
   "source": [
    "print(' '.join(a))"
   ]
  },
  {
   "cell_type": "markdown",
   "id": "62f33a81",
   "metadata": {},
   "source": [
    "#### 리스트 컴프리헨션 : 너무 복잡하게는 쓰지 말자, 써야한다면 줄 구분기호 넣어서"
   ]
  },
  {
   "cell_type": "code",
   "execution_count": 23,
   "id": "c03eda9d",
   "metadata": {},
   "outputs": [],
   "source": [
    "a = [(x, y, z)\n",
    " for x in range(3)\n",
    " for y in range(3)\n",
    " if x != y\n",
    " for z in range(3)\n",
    " if y != z]"
   ]
  },
  {
   "cell_type": "code",
   "execution_count": 24,
   "id": "2b8b4cd6",
   "metadata": {},
   "outputs": [
    {
     "name": "stdout",
     "output_type": "stream",
     "text": [
      "[(0, 1, 0), (0, 1, 2), (0, 2, 0), (0, 2, 1), (1, 0, 1), (1, 0, 2), (1, 2, 0), (1, 2, 1), (2, 0, 1), (2, 0, 2), (2, 1, 0), (2, 1, 2)]\n"
     ]
    }
   ],
   "source": [
    "print(a)"
   ]
  },
  {
   "cell_type": "code",
   "execution_count": 25,
   "id": "ccb64f48",
   "metadata": {},
   "outputs": [
    {
     "data": {
      "text/plain": [
       "[(0, 6),\n",
       " (0, 8),\n",
       " (1, 6),\n",
       " (1, 8),\n",
       " (2, 6),\n",
       " (2, 8),\n",
       " (3, 6),\n",
       " (3, 8),\n",
       " (4, 6),\n",
       " (4, 8)]"
      ]
     },
     "execution_count": 25,
     "metadata": {},
     "output_type": "execute_result"
    }
   ],
   "source": [
    "[(i, j) for i in range(5) for j in range(5, 10) if j % 2 == 0]"
   ]
  },
  {
   "cell_type": "markdown",
   "id": "1f3bf69c",
   "metadata": {},
   "source": [
    "#### 가변 객체와 불변 객체"
   ]
  },
  {
   "cell_type": "markdown",
   "id": "a22de3e5",
   "metadata": {},
   "source": [
    "#### 가변 객체\n",
    "- list, set, dict\n",
    "\n",
    "#### 불변 객체\n",
    "- bool, int, float, tuple, str"
   ]
  },
  {
   "cell_type": "code",
   "execution_count": 26,
   "id": "e33c0c92",
   "metadata": {},
   "outputs": [
    {
     "name": "stdout",
     "output_type": "stream",
     "text": [
      "10\n"
     ]
    }
   ],
   "source": [
    "a = 10\n",
    "b = a\n",
    "a = 11\n",
    "print(b)"
   ]
  },
  {
   "cell_type": "code",
   "execution_count": 27,
   "id": "cb776e71",
   "metadata": {},
   "outputs": [
    {
     "name": "stdout",
     "output_type": "stream",
     "text": [
      "[0, 2, 3, 4]\n"
     ]
    }
   ],
   "source": [
    "a = [1,2,3,4]\n",
    "b = a\n",
    "a[0] = 0\n",
    "print(b)"
   ]
  },
  {
   "cell_type": "code",
   "execution_count": 28,
   "id": "531f4b0e",
   "metadata": {},
   "outputs": [
    {
     "data": {
      "text/plain": [
       "False"
      ]
     },
     "execution_count": 28,
     "metadata": {},
     "output_type": "execute_result"
    },
    {
     "data": {
      "text/plain": [
       "True"
      ]
     },
     "execution_count": 28,
     "metadata": {},
     "output_type": "execute_result"
    }
   ],
   "source": [
    "import copy\n",
    "a = [1,2,3]\n",
    "b = copy.deepcopy(a)\n",
    "a is b\n",
    "a == b"
   ]
  },
  {
   "cell_type": "markdown",
   "id": "d6921539",
   "metadata": {},
   "source": [
    "#### 리스트 주요 연산의 시간복잡도\n",
    "\n",
    "- len(a) : O(1)\n",
    "- a[i] : O(1)\n",
    "- a[i:j] : O(j-i)\n",
    "- i in a : O(n) > 정렬되어 있다면, 이진 탐색이 효율적\n",
    "- a.count(i) : O(n)\n",
    "- a.index(i) : O(n)\n",
    "- a.append(i) : O(1)\n",
    "- a.pop() : O(1)\n",
    "- a.pop(0) : O(n) > deque 사용 권장\n",
    "- del a[i] : O(n)\n",
    "- a.remove(element) : O(n)\n",
    "- a.sort() : O(nlogn)\n",
    "- min(a), max(a) : O(n)\n",
    "- a.reverse : O(n)"
   ]
  },
  {
   "cell_type": "markdown",
   "id": "b7bc12a9",
   "metadata": {},
   "source": [
    "#### 딕셔너리 활용\n",
    "- collections.OrderedDict() : 항상 입력 순서가 유지 \n",
    "- collections.defaultdict() : 조회 시 항상 디폴트 값을 생성해 키 오류를 방지 \n",
    "- collections.Counter() : 요소의 값을 키로 하고 개수를 값 형태로 만들어 카운팅"
   ]
  },
  {
   "cell_type": "code",
   "execution_count": 30,
   "id": "62dd1f3d",
   "metadata": {},
   "outputs": [
    {
     "data": {
      "text/plain": [
       "{'1': 1, 'a': 'a'}"
      ]
     },
     "execution_count": 30,
     "metadata": {},
     "output_type": "execute_result"
    }
   ],
   "source": [
    "a = dict()\n",
    "a['1'] = 1\n",
    "a['a'] = 'a'\n",
    "a"
   ]
  },
  {
   "cell_type": "code",
   "execution_count": 35,
   "id": "ddc9fef7",
   "metadata": {},
   "outputs": [
    {
     "data": {
      "text/plain": [
       "Counter({'1': 1, 'a': 'a'})"
      ]
     },
     "execution_count": 35,
     "metadata": {},
     "output_type": "execute_result"
    }
   ],
   "source": [
    "from collections import Counter\n",
    "b = Counter(a)\n",
    "b"
   ]
  },
  {
   "cell_type": "code",
   "execution_count": 51,
   "id": "b5f9cec8",
   "metadata": {},
   "outputs": [
    {
     "data": {
      "text/plain": [
       "Counter({1: 1, 2: 1, 3: 2})"
      ]
     },
     "execution_count": 51,
     "metadata": {},
     "output_type": "execute_result"
    },
    {
     "data": {
      "text/plain": [
       "Counter({1: 1, 2: 1, 3: 1, 4: 1})"
      ]
     },
     "execution_count": 51,
     "metadata": {},
     "output_type": "execute_result"
    },
    {
     "data": {
      "text/plain": [
       "Counter({3: 1})"
      ]
     },
     "execution_count": 51,
     "metadata": {},
     "output_type": "execute_result"
    },
    {
     "data": {
      "text/plain": [
       "Counter({4: 1})"
      ]
     },
     "execution_count": 51,
     "metadata": {},
     "output_type": "execute_result"
    },
    {
     "data": {
      "text/plain": [
       "[(3, 2)]"
      ]
     },
     "execution_count": 51,
     "metadata": {},
     "output_type": "execute_result"
    },
    {
     "data": {
      "text/plain": [
       "Counter({1: 11, 2: 1, 3: 2})"
      ]
     },
     "execution_count": 51,
     "metadata": {},
     "output_type": "execute_result"
    }
   ],
   "source": [
    "a = [1,2,3,3]\n",
    "b = [1,2,3,4]\n",
    "ca = Counter(a)\n",
    "cb = Counter(b)\n",
    "\n",
    "ca\n",
    "cb\n",
    "ca - cb\n",
    "cb - ca\n",
    "ca.most_common(1)\n",
    "ca[1] += 10\n",
    "ca"
   ]
  },
  {
   "cell_type": "code",
   "execution_count": 43,
   "id": "ef1c4758",
   "metadata": {},
   "outputs": [
    {
     "name": "stdout",
     "output_type": "stream",
     "text": [
      "1 11\n",
      "2 1\n",
      "3 2\n"
     ]
    }
   ],
   "source": [
    "for k, v in ca.items():\n",
    "    print(k, v)"
   ]
  },
  {
   "cell_type": "markdown",
   "id": "dfa70e9d",
   "metadata": {},
   "source": [
    "#### defaultdict 객체"
   ]
  },
  {
   "cell_type": "code",
   "execution_count": 47,
   "id": "e76f8513",
   "metadata": {},
   "outputs": [
    {
     "data": {
      "text/plain": [
       "defaultdict(int, {'a': 1, 'b': 2})"
      ]
     },
     "execution_count": 47,
     "metadata": {},
     "output_type": "execute_result"
    }
   ],
   "source": [
    "from collections import defaultdict\n",
    "\n",
    "a = defaultdict(int)\n",
    "a['a'] = 1\n",
    "a['b'] = 2\n",
    "a"
   ]
  },
  {
   "cell_type": "code",
   "execution_count": 48,
   "id": "7adf0ce4",
   "metadata": {},
   "outputs": [
    {
     "data": {
      "text/plain": [
       "defaultdict(int, {'a': 1, 'b': 2, 'c': 3})"
      ]
     },
     "execution_count": 48,
     "metadata": {},
     "output_type": "execute_result"
    }
   ],
   "source": [
    "a['c'] += 3 # 원래는 'c'라는 key가 없으니 에러가 나와야 하지만, 디폴트값 0으로 계산됨\n",
    "a"
   ]
  },
  {
   "cell_type": "code",
   "execution_count": 49,
   "id": "d569e1b8",
   "metadata": {},
   "outputs": [
    {
     "data": {
      "text/plain": [
       "0"
      ]
     },
     "execution_count": 49,
     "metadata": {},
     "output_type": "execute_result"
    }
   ],
   "source": [
    "a['d']"
   ]
  },
  {
   "cell_type": "code",
   "execution_count": 50,
   "id": "00655b4a",
   "metadata": {},
   "outputs": [
    {
     "data": {
      "text/plain": [
       "defaultdict(int, {'a': 1, 'b': 2, 'c': 3, 'd': 0})"
      ]
     },
     "execution_count": 50,
     "metadata": {},
     "output_type": "execute_result"
    }
   ],
   "source": [
    "a"
   ]
  },
  {
   "cell_type": "code",
   "execution_count": 54,
   "id": "7d5489b4",
   "metadata": {
    "scrolled": true
   },
   "outputs": [
    {
     "ename": "SyntaxError",
     "evalue": "invalid syntax (749579387.py, line 1)",
     "output_type": "error",
     "traceback": [
      "\u001b[0;36m  Cell \u001b[0;32mIn[54], line 1\u001b[0;36m\u001b[0m\n\u001b[0;31m    if ! none:\u001b[0m\n\u001b[0m       ^\u001b[0m\n\u001b[0;31mSyntaxError\u001b[0m\u001b[0;31m:\u001b[0m invalid syntax\n"
     ]
    }
   ],
   "source": [
    "if ! none:\n",
    "    print(\"zz\")"
   ]
  },
  {
   "cell_type": "markdown",
   "id": "fd545dd6",
   "metadata": {},
   "source": [
    "### Q01. 뒤집어도 같은 말인지 판단"
   ]
  },
  {
   "cell_type": "code",
   "execution_count": 55,
   "id": "ad60645b",
   "metadata": {},
   "outputs": [],
   "source": [
    "a = \"A man, a plan, a canal: Panama\" # true\n",
    "b = \"race a car\" # false"
   ]
  },
  {
   "cell_type": "code",
   "execution_count": 87,
   "id": "745e9595",
   "metadata": {},
   "outputs": [],
   "source": [
    "def pallindrome(string: str) -> bool:\n",
    "    string = \"\".join(list(filter(str.isalnum, string))).lower()\n",
    "    return string == string[::-1]"
   ]
  },
  {
   "cell_type": "code",
   "execution_count": 88,
   "id": "7d0c9ca7",
   "metadata": {},
   "outputs": [
    {
     "data": {
      "text/plain": [
       "True"
      ]
     },
     "execution_count": 88,
     "metadata": {},
     "output_type": "execute_result"
    },
    {
     "data": {
      "text/plain": [
       "False"
      ]
     },
     "execution_count": 88,
     "metadata": {},
     "output_type": "execute_result"
    }
   ],
   "source": [
    "pallindrome(a)\n",
    "pallindrome(b)"
   ]
  },
  {
   "cell_type": "code",
   "execution_count": 85,
   "id": "89ec083c",
   "metadata": {},
   "outputs": [],
   "source": [
    "# 책 풀이\n",
    "import re\n",
    "def isPalindrome(s: str) -> bool:\n",
    "    s = s.lower()\n",
    "    # 정규식으로 불필요한 문자 필터링\n",
    "    s = re.sub('[^a-z0-9]', '', s)\n",
    "    return s == s[::-1] # 슬라이싱"
   ]
  },
  {
   "cell_type": "code",
   "execution_count": 86,
   "id": "31c2970d",
   "metadata": {},
   "outputs": [
    {
     "data": {
      "text/plain": [
       "True"
      ]
     },
     "execution_count": 86,
     "metadata": {},
     "output_type": "execute_result"
    },
    {
     "data": {
      "text/plain": [
       "False"
      ]
     },
     "execution_count": 86,
     "metadata": {},
     "output_type": "execute_result"
    }
   ],
   "source": [
    "isPalindrome(a)\n",
    "isPalindrome(b)"
   ]
  },
  {
   "cell_type": "markdown",
   "id": "9be2b826",
   "metadata": {},
   "source": [
    "### Q02. 문자열 뒤집기 (리턴없이 리스트 내부를 조작하라)"
   ]
  },
  {
   "cell_type": "code",
   "execution_count": 89,
   "id": "f340d09a",
   "metadata": {},
   "outputs": [],
   "source": [
    "a = [\"h\",\"e\",\"l\",\"l\",\"o\"]\n",
    "b = [\"H\",\"a\",\"n\",\"n\",\"a\",\"h\"]"
   ]
  },
  {
   "cell_type": "code",
   "execution_count": 97,
   "id": "5e39692c",
   "metadata": {},
   "outputs": [],
   "source": [
    "def solution(s : list) -> list:\n",
    "    s[:] = s[::-1]"
   ]
  },
  {
   "cell_type": "code",
   "execution_count": 98,
   "id": "a1446f88",
   "metadata": {},
   "outputs": [],
   "source": [
    "solution(a)\n",
    "solution(b)"
   ]
  },
  {
   "cell_type": "code",
   "execution_count": 99,
   "id": "ee2bd1b4",
   "metadata": {},
   "outputs": [
    {
     "data": {
      "text/plain": [
       "['o', 'l', 'l', 'e', 'h']"
      ]
     },
     "execution_count": 99,
     "metadata": {},
     "output_type": "execute_result"
    },
    {
     "data": {
      "text/plain": [
       "['h', 'a', 'n', 'n', 'a', 'H']"
      ]
     },
     "execution_count": 99,
     "metadata": {},
     "output_type": "execute_result"
    }
   ],
   "source": [
    "a\n",
    "b"
   ]
  },
  {
   "cell_type": "code",
   "execution_count": 101,
   "id": "05cf5324",
   "metadata": {},
   "outputs": [],
   "source": [
    "# 책 풀이\n",
    "# 파이썬 다운 방식\n",
    "\n",
    "def reverseString(s: list[str]) -> None:\n",
    "    s.reverse()"
   ]
  },
  {
   "cell_type": "code",
   "execution_count": 106,
   "id": "fcdef814",
   "metadata": {},
   "outputs": [],
   "source": [
    "reverseString(a)"
   ]
  },
  {
   "cell_type": "code",
   "execution_count": 107,
   "id": "172e016d",
   "metadata": {},
   "outputs": [
    {
     "data": {
      "text/plain": [
       "['h', 'e', 'l', 'l', 'o']"
      ]
     },
     "execution_count": 107,
     "metadata": {},
     "output_type": "execute_result"
    }
   ],
   "source": [
    "a"
   ]
  },
  {
   "cell_type": "code",
   "execution_count": 114,
   "id": "c0ced309",
   "metadata": {},
   "outputs": [
    {
     "name": "stdout",
     "output_type": "stream",
     "text": [
      "123 123\n"
     ]
    },
    {
     "data": {
      "text/plain": [
       "['123', '123']"
      ]
     },
     "execution_count": 114,
     "metadata": {},
     "output_type": "execute_result"
    }
   ],
   "source": [
    "list(map(str, input().split()))"
   ]
  },
  {
   "cell_type": "code",
   "execution_count": null,
   "id": "6852e2ba",
   "metadata": {},
   "outputs": [],
   "source": []
  }
 ],
 "metadata": {
  "kernelspec": {
   "display_name": "Python 3 (ipykernel)",
   "language": "python",
   "name": "python3"
  },
  "language_info": {
   "codemirror_mode": {
    "name": "ipython",
    "version": 3
   },
   "file_extension": ".py",
   "mimetype": "text/x-python",
   "name": "python",
   "nbconvert_exporter": "python",
   "pygments_lexer": "ipython3",
   "version": "3.11.1"
  }
 },
 "nbformat": 4,
 "nbformat_minor": 5
}
